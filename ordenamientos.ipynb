{
  "cells": [
    {
      "cell_type": "markdown",
      "source": [
        "# <center>Ordenamientos</center>"
      ],
      "metadata": {
        "nteract": {
          "transient": {
            "deleting": false
          }
        }
      }
    },
    {
      "cell_type": "code",
      "source": [
        "%%html\n",
        "<center><iframe src=\"https://drive.google.com/file/d/1Iv-GCU2N9kN3567hVRK4NXkQQa1qL2iZ/preview\" width=\"320\" height=\"240\"></iframe></center>\n",
        "Presiona el botón Run para ver el contenido"
      ],
      "outputs": [
        {
          "output_type": "display_data",
          "data": {
            "text/plain": "<IPython.core.display.HTML object>",
            "text/html": "<center><iframe src=\"https://drive.google.com/file/d/1Iv-GCU2N9kN3567hVRK4NXkQQa1qL2iZ/preview\" width=\"320\" height=\"240\"></iframe></center>\nPresiona el botón Run para ver el contenido\n"
          },
          "metadata": {}
        }
      ],
      "execution_count": 1,
      "metadata": {
        "collapsed": true,
        "jupyter": {
          "source_hidden": false,
          "outputs_hidden": false
        },
        "nteract": {
          "transient": {
            "deleting": false
          }
        },
        "execution": {
          "iopub.status.busy": "2020-10-26T00:27:50.621Z",
          "iopub.execute_input": "2020-10-26T00:27:50.644Z",
          "iopub.status.idle": "2020-10-26T00:27:50.738Z",
          "shell.execute_reply": "2020-10-26T00:27:50.963Z"
        }
      }
    },
    {
      "cell_type": "markdown",
      "source": [
        "Ordenar: Colocar de acuerdo con un plan o de\n",
        "modo conveniente. (RAE)"
      ],
      "metadata": {
        "nteract": {
          "transient": {
            "deleting": false
          }
        }
      }
    },
    {
      "cell_type": "markdown",
      "source": [
        "## Ordenamiento Burbuja\n",
        "El algoritmo de ordenamiento burbuja (bubble sort) hace una serie de pasadas a través de la lista de elementos. En cada pasada compara los valores de elementos adyacentes. Si están desordenados, los intercambia."
      ],
      "metadata": {
        "nteract": {
          "transient": {
            "deleting": false
          }
        }
      }
    },
    {
      "cell_type": "markdown",
      "source": [
        "```\n",
        "burbuja(A[0...n-1])\n",
        "//Ordena un arreglo de n elementos por el método de burbuja.\n",
        "//Entrada: Un arreglo A[0...n-1] de elementos ordenables.\n",
        "//Salida: El arreglo A[0...n-1] ordenado de forma no decreciente.\n",
        "\n",
        "desde i <- 0 hasta n - 2 \n",
        "    desde j <- 0 hasta n - 2\n",
        "        si A[j+1] < A[j]\n",
        "            intercambiar(A[j], A[j+1])\n",
        "```\n",
        "\n",
        "Realicemos una ejecución de escritorio para el algoritmo burbuja.\n",
        "\n",
        "Consideremos la siguiente entrada: \n",
        "\n",
        "$$A = [9, 3, 5, 7, 6]$$\n",
        "\n",
        "El arreglo $A$ tiene 5 elementos, por lo tanto $n = 5$. Los resultados de le ejecución de cada ciclo se muestran en la siguiente tabla:\n",
        "\n",
        "$i$ | $j$ | $A$\n",
        "--- | --- | ---\n",
        "0 | 0 | **3**, **9**, 5, 7, 6\n",
        "0 | 1 | 3, **5**, **9**, 7, 6\n",
        "0 | 2 | 3, 5, **7**, **9**, 6\n",
        "0 | 3 | 3, 5, 7, **6**, **9**\n",
        "1 | 0 | 3, 5, 7, 6, 9\n",
        "1 | 1 | 3, 5, 7, 6, 9\n",
        "1 | 2 | 3, 5, **6**, **7**, 9\n",
        "1 | 3 | 3, 5, 6, 7, 9\n",
        "2 | 0 | 3, 5, 6, 7, 9\n",
        "2 | 1 | 3, 5, 6, 7, 9\n",
        "2 | 2 | 3, 5, 6, 7, 9\n",
        "2 | 3 | 3, 5, 6, 7, 9\n",
        "3 | 0 | 3, 5, 6, 7, 9\n",
        "3 | 1 | 3, 5, 6, 7, 9\n",
        "3 | 2 | 3, 5, 6, 7, 9\n",
        "3 | 3 | 3, 5, 6, 7, 9"
      ],
      "metadata": {
        "nteract": {
          "transient": {
            "deleting": false
          }
        }
      }
    },
    {
      "cell_type": "markdown",
      "source": [
        "### Ordenamiento por Selección\n",
        "\n",
        "Se comienza el ordenamiento por selección recorriendo la lista dada para encontrar el elemento más pequeño e intercambiarlo con el primer elemento, colocando así el elemento más pequeño en su posición final en la lista ordenada. Luego se recorre la lista, comenzando con el segundo elemento para encontrar el menor entre los últimos $n - 1$ elementos e intercambiarlo con el segundo, colocando el segundo elemento más pequeño en su posición final. Después de $n – 1$ pasadas, la lista está ordenada.\n",
        "\n",
        "```\n",
        "Seleccion(A[0..n-1])\n",
        "//Ordena por selección un arreglo dado.\n",
        "//Entrada: Un arreglo A[0..n-1] de elementos ordenables.\n",
        "//Salida: Arreglo A[0..n-1] ordenado de forma no decreciente.\n",
        "desde i ← 0 hasta n − 2 hacer\n",
        "    min ← i\n",
        "    desde j ← i + 1 hasta n − 1 hacer\n",
        "        si A[j] < A[min]\n",
        "            min ← j\n",
        "    intercambiar A[i] y A[min]\n",
        "```"
      ],
      "metadata": {
        "nteract": {
          "transient": {
            "deleting": false
          }
        }
      }
    },
    {
      "cell_type": "markdown",
      "source": [
        "### Métodos de Búsqueda\n",
        "\n",
        "Buscar: Hacer algo para hallar a alguien o algo. (RAE)\n",
        "Buscar: Hacer lo necesario para conseguir algo. (RAE)\n",
        "\n",
        "En términos computacionales el problema de búsqueda trata con el hecho de encontrar un valor determinado, denominado *llave de búsqueda*, en un conjunto dado (o multiconjunto, el cual permite varios elementos con el mismo valor)."
      ],
      "metadata": {
        "nteract": {
          "transient": {
            "deleting": false
          }
        }
      }
    },
    {
      "cell_type": "markdown",
      "source": [
        "Hay una gran variedad de algoritmos de búsqueda de donde escoger. Varían desde la directa búsqueda secuencial hasta la espectacularmente eficiente pero limitada búsqueda binaria y algoritmos basados en representar el conjunto subyacente en una forma diferente más propensa a la búsqueda.\n",
        "\n",
        "Algunos algoritmos de búsqueda:\n",
        "* Búsqueda secuencial\n",
        "* Búsqueda exhaustiva\n",
        "* Búsqueda primero en profundidad\n",
        "* Búsqueda primero en amplitud\n",
        "* Búsqueda Binaria\n",
        "* Búsqueda por interpolación"
      ],
      "metadata": {
        "nteract": {
          "transient": {
            "deleting": false
          }
        }
      }
    },
    {
      "cell_type": "markdown",
      "source": [
        "### Búsqueda Secuencial\n",
        "Este es un algoritmo directo, perteneciente a la categoría de fuerza bruta, que busca por un elemento determinado (alguna llave $K$) en una lista de $n$ elementos al comparar elementos sucesivos de la lista hasta que se encuentre un elemento con el mismo valor que el buscado o la lista es agotada. Su comportamiento es de $\\mathrm{O}(n)$.\n",
        "\n",
        "```\n",
        "BusquedaSecuencial(A[0...n-1], K)\n",
        "//Busca un valor determinado en un arreglo dado por busqueda secuencial.\n",
        "//Entrada: Un arreglo A[0...n­1] y una llave de búsqueda K.\n",
        "//Salida: El índice del primer elemento en A con el valor K o -1 si no se encuentra el elemento.\n",
        "\n",
        "i ← 0\n",
        "mientras i < n y A[i] <> K hacer\n",
        "    i ← i + 1\n",
        "si i < n regresar i\n",
        "sino regresar -1\n",
        "```\n"
      ],
      "metadata": {
        "nteract": {
          "transient": {
            "deleting": false
          }
        }
      }
    },
    {
      "cell_type": "markdown",
      "source": [
        "### Búsqueda Exhaustiva\n",
        "\n",
        "Búsqueda exhaustiva es un acercamiento de fuerza bruta para problemas de combinatorias. Sugiere generar todos y cada uno de los elementos del dominio del problema, seleccionando aquellos que satisfacen todas las restricciones y posteriormente encontrando un elemento deseado (p.e. el que optimiza alguna función objetivo). Como ejemplos se pueden mencionar:\n",
        "\n",
        "* Traveling salesman problem.\n",
        "* Knapsack problem.\n",
        "* Assignment problem."
      ],
      "metadata": {
        "nteract": {
          "transient": {
            "deleting": false
          }
        }
      }
    },
    {
      "cell_type": "markdown",
      "source": [
        "#### Traveling Salesman Problem (agente viajero)\n",
        "\n",
        "El problema pide encontrar el recorrido más corto a través de un determinado conjunto de $n$ ciudades que visite cada ciudad exactamente una vez antes de regresar a la ciudad donde inició. El problema puede ser modelado convenientemente por un grafo pesado, con los vértices del grafo representando las ciudades y el peso de las aristas especificando las distancias.\n",
        "\n",
        "El problema puede ser descrito como el problema de encontrar el circuito Hamiltoniano más corto del grafo. Es fácil ver que un circuito Hamiltoniano también puede ser definido como una secuencia de $n + 1$ vértices adyacentes $v_{i_{0}}, v_{i_{1}}, \\dots, v_{i_{n-1}}, v_{i_{0}}$.\n",
        "\n",
        "Por lo tanto se pueden obtener todos los recorridos generando todas las permutaciones de $n – 1$ ciudades intermedias, computar la longitud de los recorridos y encontrar el más corto entre ellos."
      ],
      "metadata": {
        "nteract": {
          "transient": {
            "deleting": false
          }
        }
      }
    },
    {
      "cell_type": "markdown",
      "source": [
        "#### Ejemplo\n",
        "\n",
        "Resolver el problema del agente viajero para el siguiente grafo:\n",
        "\n",
        "<center><img src=\"media/tsp_1.png\" width=50%/></center>\n",
        "\n",
        "Comenzar en el Nodo $A$\n",
        "\n",
        "Caminos | Costos\n",
        "--- | ---\n",
        "$A \\rightarrow B \\rightarrow C \\rightarrow D \\rightarrow A$ | $L = 2 + 8 + 1 + 7 = 18$\n",
        "$A \\rightarrow B \\rightarrow D \\rightarrow C \\rightarrow A$ | **$L = 2 + 3 + 1 + 5 = 11$**\n",
        "$A \\rightarrow C \\rightarrow B \\rightarrow D \\rightarrow A$ | $L = 5 + 8 + 3 + 7 = 23$\n",
        "$A \\rightarrow C \\rightarrow D \\rightarrow B \\rightarrow A$ | **$L = 5 + 1 + 3 + 2 = 11$**\n",
        "$A \\rightarrow D \\rightarrow B \\rightarrow C \\rightarrow A$ | $L = 7 + 3 + 8 + 5 = 23$\n",
        "$A \\rightarrow D \\rightarrow C \\rightarrow B \\rightarrow A$ | $L = 7 + 1 + 8 + 2 = 18$"
      ],
      "metadata": {
        "nteract": {
          "transient": {
            "deleting": false
          }
        }
      }
    },
    {
      "cell_type": "markdown",
      "source": [
        "#### Ejercicio\n",
        "\n",
        "Resuelve el problema del agente viajero para el siguiente grafo:\n",
        "\n",
        "<center><img src=\"media/tsp_2.png\" width=50%/></center>\n",
        "\n",
        "Comienza en el Nodo $A$\n"
      ],
      "metadata": {
        "nteract": {
          "transient": {
            "deleting": false
          }
        }
      }
    },
    {
      "cell_type": "markdown",
      "source": [],
      "metadata": {
        "nteract": {
          "transient": {
            "deleting": false
          }
        }
      }
    }
  ],
  "metadata": {
    "kernel_info": {
      "name": "python3"
    },
    "language_info": {
      "name": "python",
      "version": "3.7.3",
      "mimetype": "text/x-python",
      "codemirror_mode": {
        "name": "ipython",
        "version": 3
      },
      "pygments_lexer": "ipython3",
      "nbconvert_exporter": "python",
      "file_extension": ".py"
    },
    "kernelspec": {
      "argv": [
        "python",
        "-m",
        "ipykernel_launcher",
        "-f",
        "{connection_file}"
      ],
      "display_name": "Python 3",
      "language": "python",
      "name": "python3"
    },
    "nteract": {
      "version": "0.25.1"
    }
  },
  "nbformat": 4,
  "nbformat_minor": 0
}