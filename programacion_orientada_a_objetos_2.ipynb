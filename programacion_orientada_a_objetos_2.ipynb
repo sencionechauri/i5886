{
  "cells": [
    {
      "cell_type": "markdown",
      "source": [
        "# <center>Programación Orientada a Objetos</center>"
      ],
      "metadata": {}
    },
    {
      "cell_type": "markdown",
      "source": [
        "## <center>Clase Administradora</center>\n",
        "\n",
        "El concepto de una *clase administradora* se refiere a una relación entre clases en la cual una de ellas se encarga de gestionar lo que sucede con instancias de las demás clases.\n",
        "\n",
        "Es común encontrar que las clases administradas no tengan comportamientos propios y sus instancias solo sean objetos inhertes que deban ser controlados desde el exterior. Por ejemplo, imagina un sistema de entrega de paquetería, en ese escenario es probable que los objetos que representan a los paquetes no tengan comportamientos propios (*En el mundo real los paquetes no se entregan solos... todavía*.)."
      ],
      "metadata": {}
    },
    {
      "cell_type": "markdown",
      "source": [
        "## <center>Ejemplo</center>\n",
        "\n",
        "Qué mejor que tratar de entender un tema nuevo con un ejemplo y para ello vamos a crear un pequeño sistema que simule un registro de los estudiantes de un curso. tendremos una clase Estudiante y una clase Grupo que contendrá un arreglo de objetos de tipo estudiante y será la encargada de administrar lo que suceda con ellos.\n",
        "\n",
        "Comencemos declarando la clase Estudiante."
      ],
      "metadata": {
        "nteract": {
          "transient": {
            "deleting": false
          }
        }
      }
    },
    {
      "cell_type": "code",
      "source": [
        "#include <iostream>\n",
        "using namespace std;\n",
        "\n",
        "class Estudiante\n",
        "{\n",
        "public:\n",
        "    Estudiante();\n",
        "\n",
        "    void setCarrera(const string& valor);\n",
        "    string getCarrera() const;\n",
        "\n",
        "    void setCodigo(const string& valor);\n",
        "    string getCodigo() const;\n",
        "\n",
        "    void setNombre(const string& valor);\n",
        "    string getNombre() const;\n",
        "\n",
        "private:\n",
        "    string carrera;\n",
        "    string codigo;\n",
        "    string nombre;\n",
        "};"
      ],
      "outputs": [],
      "execution_count": null,
      "metadata": {
        "collapsed": true,
        "jupyter": {
          "source_hidden": false,
          "outputs_hidden": false
        },
        "nteract": {
          "transient": {
            "deleting": false
          }
        }
      }
    },
    {
      "cell_type": "markdown",
      "source": [
        "Ahora definamos la clase, es decir, hagamos la implementación de sus métodos."
      ],
      "metadata": {
        "nteract": {
          "transient": {
            "deleting": false
          }
        }
      }
    },
    {
      "cell_type": "code",
      "source": [
        "Estudiante::Estudiante()\n",
        "{\n",
        "    nombre = \"-\";\n",
        "    carrera = \"-\";\n",
        "    codigo = \"-\";\n",
        "}"
      ],
      "outputs": [],
      "execution_count": null,
      "metadata": {
        "collapsed": true,
        "jupyter": {
          "source_hidden": false,
          "outputs_hidden": false
        },
        "nteract": {
          "transient": {
            "deleting": false
          }
        }
      }
    },
    {
      "cell_type": "code",
      "source": [
        "void Estudiante::setNombre(const string &valor)\n",
        "{\n",
        "    nombre = valor;\n",
        "}"
      ],
      "outputs": [],
      "execution_count": null,
      "metadata": {
        "collapsed": true,
        "jupyter": {
          "source_hidden": false,
          "outputs_hidden": false
        },
        "nteract": {
          "transient": {
            "deleting": false
          }
        }
      }
    },
    {
      "cell_type": "code",
      "source": [
        "string Estudiante::getNombre() const\n",
        "{\n",
        "    return nombre;\n",
        "}"
      ],
      "outputs": [],
      "execution_count": null,
      "metadata": {
        "collapsed": true,
        "jupyter": {
          "source_hidden": false,
          "outputs_hidden": false
        },
        "nteract": {
          "transient": {
            "deleting": false
          }
        }
      }
    },
    {
      "cell_type": "code",
      "source": [
        "void Estudiante::setCarrera(const string &valor)\n",
        "{\n",
        "    carrera = valor;\n",
        "}"
      ],
      "outputs": [],
      "execution_count": null,
      "metadata": {
        "collapsed": true,
        "jupyter": {
          "source_hidden": false,
          "outputs_hidden": false
        },
        "nteract": {
          "transient": {
            "deleting": false
          }
        }
      }
    },
    {
      "cell_type": "code",
      "source": [
        "string Estudiante::getCarrera() const\n",
        "{\n",
        "    return carrera;\n",
        "}"
      ],
      "outputs": [],
      "execution_count": null,
      "metadata": {
        "collapsed": true,
        "jupyter": {
          "source_hidden": false,
          "outputs_hidden": false
        },
        "nteract": {
          "transient": {
            "deleting": false
          }
        }
      }
    },
    {
      "cell_type": "code",
      "source": [
        "void Estudiante::setCodigo(const string &valor)\n",
        "{\n",
        "    codigo = valor;\n",
        "}"
      ],
      "outputs": [],
      "execution_count": null,
      "metadata": {
        "collapsed": true,
        "jupyter": {
          "source_hidden": false,
          "outputs_hidden": false
        },
        "nteract": {
          "transient": {
            "deleting": false
          }
        }
      }
    },
    {
      "cell_type": "code",
      "source": [
        "string Estudiante::getCodigo() const\n",
        "{\n",
        "    return codigo;\n",
        "}"
      ],
      "outputs": [],
      "execution_count": null,
      "metadata": {
        "collapsed": true,
        "jupyter": {
          "source_hidden": false,
          "outputs_hidden": false
        },
        "nteract": {
          "transient": {
            "deleting": false
          }
        }
      }
    },
    {
      "cell_type": "markdown",
      "source": [
        "Una vez definida la clase Estudiante declararemos y definiremos la clase Grupo encargada de administrar estudiantes. Puedes tratar de entenderla como el ejemplo de las recetas y los ingredientes, solamente ahora serán estudiantes y un grupo y ya no habrá contadores globales atormentandonos sino que todo estará empaquetado dentro de las clases."
      ],
      "metadata": {
        "nteract": {
          "transient": {
            "deleting": false
          }
        }
      }
    },
    {
      "cell_type": "code",
      "source": [
        "class Grupo\n",
        "{\n",
        "public:\n",
        "    Grupo();\n",
        "\n",
        "    //Métodos de interfaz\n",
        "    void setMateria(const string& valor);\n",
        "    string getMateria() const;\n",
        "    void setSeccion(const string& valor);\n",
        "    string getSeccion() const;\n",
        "    void setNrc(const string& valor);\n",
        "    string getNrc() const;\n",
        "\n",
        "    //Comportamientos\n",
        "    void menu();\n",
        "    void agregarEstudiante();\n",
        "    void consultarEstudiante(const Estudiante& e) const;\n",
        "    void consultarLista() const;\n",
        "    void buscarEstudiante() const;\n",
        "    void modificarEstudiante();\n",
        "\n",
        "private:\n",
        "    //static permite acceder a la constante sin necesidad de crear\n",
        "    //un objeto\n",
        "    static const int MAX_ESTUDIANTE = 40;\n",
        "    string materia;\n",
        "    string seccion;\n",
        "    string nrc;\n",
        "    //El arreglo de estudiantes que será administrado\n",
        "    Estudiante estudiantes[MAX_ESTUDIANTE];\n",
        "    //El contador de estudiantes\n",
        "    int contadorEstudiantes;\n",
        "\n",
        "    enum Opciones\n",
        "    {\n",
        "        OPC_SALIR,\n",
        "        OPC_AGREGAR,\n",
        "        OPC_CONSULTAR,\n",
        "        OPC_BUSCAR,\n",
        "        OPC_MODIFICAR\n",
        "    };\n",
        "};"
      ],
      "outputs": [],
      "execution_count": null,
      "metadata": {
        "collapsed": true,
        "jupyter": {
          "source_hidden": false,
          "outputs_hidden": false
        },
        "nteract": {
          "transient": {
            "deleting": false
          }
        }
      }
    },
    {
      "cell_type": "markdown",
      "source": [
        "Ahora hagamos la definición de cada uno de los métodos declarados."
      ],
      "metadata": {
        "nteract": {
          "transient": {
            "deleting": false
          }
        }
      }
    },
    {
      "cell_type": "code",
      "source": [
        "//En el constructor damos valor inicial a los atributos del grupo\n",
        "Grupo::Grupo()\n",
        "{\n",
        "    materia = \"-\";\n",
        "    seccion = \"-\";\n",
        "    nrc = \"-\";\n",
        "    contadorEstudiantes = 0;\n",
        "}"
      ],
      "outputs": [],
      "execution_count": null,
      "metadata": {
        "collapsed": true,
        "jupyter": {
          "source_hidden": false,
          "outputs_hidden": false
        },
        "nteract": {
          "transient": {
            "deleting": false
          }
        }
      }
    },
    {
      "cell_type": "markdown",
      "source": [
        "Implementamos los métodos de interfaz."
      ],
      "metadata": {
        "nteract": {
          "transient": {
            "deleting": false
          }
        }
      }
    },
    {
      "cell_type": "code",
      "source": [
        "void Grupo::setMateria(const string &valor)\n",
        "{\n",
        "    materia = valor;\n",
        "}"
      ],
      "outputs": [],
      "execution_count": null,
      "metadata": {
        "collapsed": true,
        "jupyter": {
          "source_hidden": false,
          "outputs_hidden": false
        },
        "nteract": {
          "transient": {
            "deleting": false
          }
        }
      }
    },
    {
      "cell_type": "code",
      "source": [
        "string Grupo::getMateria() const\n",
        "{\n",
        "    return materia;\n",
        "}"
      ],
      "outputs": [],
      "execution_count": null,
      "metadata": {
        "collapsed": true,
        "jupyter": {
          "source_hidden": false,
          "outputs_hidden": false
        },
        "nteract": {
          "transient": {
            "deleting": false
          }
        }
      }
    },
    {
      "cell_type": "code",
      "source": [
        "void Grupo::setSeccion(const string &valor)\n",
        "{\n",
        "    seccion = valor;\n",
        "}"
      ],
      "outputs": [],
      "execution_count": null,
      "metadata": {
        "collapsed": true,
        "jupyter": {
          "source_hidden": false,
          "outputs_hidden": false
        },
        "nteract": {
          "transient": {
            "deleting": false
          }
        }
      }
    },
    {
      "cell_type": "code",
      "source": [
        "string Grupo::getSeccion() const\n",
        "{\n",
        "    return seccion;\n",
        "}"
      ],
      "outputs": [],
      "execution_count": null,
      "metadata": {
        "collapsed": true,
        "jupyter": {
          "source_hidden": false,
          "outputs_hidden": false
        },
        "nteract": {
          "transient": {
            "deleting": false
          }
        }
      }
    },
    {
      "cell_type": "code",
      "source": [
        "void Grupo::setNrc(const string &valor)\n",
        "{\n",
        "    nrc = valor;\n",
        "}"
      ],
      "outputs": [],
      "execution_count": null,
      "metadata": {
        "collapsed": true,
        "jupyter": {
          "source_hidden": false,
          "outputs_hidden": false
        },
        "nteract": {
          "transient": {
            "deleting": false
          }
        }
      }
    },
    {
      "cell_type": "code",
      "source": [
        "string Grupo::getNrc() const\n",
        "{\n",
        "    return nrc;\n",
        "}"
      ],
      "outputs": [],
      "execution_count": null,
      "metadata": {
        "collapsed": true,
        "jupyter": {
          "source_hidden": false,
          "outputs_hidden": false
        },
        "nteract": {
          "transient": {
            "deleting": false
          }
        }
      }
    },
    {
      "cell_type": "markdown",
      "source": [
        "Definamos los comportamientos. El primero que implementaremos será para agregar un estudiante."
      ],
      "metadata": {
        "nteract": {
          "transient": {
            "deleting": false
          }
        }
      }
    },
    {
      "cell_type": "code",
      "source": [
        "void Grupo::agregarEstudiante()\n",
        "{\n",
        "    //Creamos un objeto tipo estudiante\n",
        "    Estudiante e;\n",
        "    //Variables para los atributos del objeto tipo estudiante\n",
        "    string nombre;\n",
        "    string carrera;\n",
        "    string codigo;\n",
        "\n",
        "    //Solicitamos al usuario que ingrese los valores\n",
        "    cout <<\"Nombre: \";\n",
        "    getline(cin, nombre);\n",
        "    cout <<\"Carrera: \";\n",
        "    getline(cin, carrera);\n",
        "    cout <<\"Código: \";\n",
        "    getline(cin, codigo);\n",
        "\n",
        "    //Asignamos los valores al estudiante haciendo uso de los métodos de interfaz.\n",
        "    e.setNombre(nombre);\n",
        "    e.setCodigo(codigo);\n",
        "    e.setCarrera(carrera);\n",
        "\n",
        "    //Asignamos el estudiante creado al arreglo en la posición indicada por el contador.\n",
        "    estudiantes[contadorEstudiantes] = e;\n",
        "    //Aumentamos el contador de estudiantes del grupo.\n",
        "    contadorEstudiantes++;\n",
        "}"
      ],
      "outputs": [],
      "execution_count": null,
      "metadata": {
        "collapsed": true,
        "jupyter": {
          "source_hidden": false,
          "outputs_hidden": false
        },
        "nteract": {
          "transient": {
            "deleting": false
          }
        }
      }
    },
    {
      "cell_type": "markdown",
      "source": [
        "Ahora definamos un método para imprimir en pantalla la información de un estudiante. El método recibirá como referencia constante el estudiante del cual se mostrará la información; además el método será constante, lo que quiere decir que la clase Grupo no deberá tener cambios durante la ejecución del método."
      ],
      "metadata": {
        "nteract": {
          "transient": {
            "deleting": false
          }
        }
      }
    },
    {
      "cell_type": "code",
      "source": [
        "void Grupo::consultarEstudiante(const Estudiante &e) const\n",
        "{\n",
        "    cout <<\"Nombre: \" <<e.getNombre() <<endl\n",
        "        <<\"Carrera: \" <<e.getCarrera() <<endl\n",
        "       <<\"Código: \" <<e.getCodigo() <<endl;\n",
        "}"
      ],
      "outputs": [],
      "execution_count": null,
      "metadata": {
        "collapsed": true,
        "jupyter": {
          "source_hidden": false,
          "outputs_hidden": false
        },
        "nteract": {
          "transient": {
            "deleting": false
          }
        }
      }
    },
    {
      "cell_type": "markdown",
      "source": [
        "Y el método para consultar la lista de estudiantes registrados utilizará el método previamnete definido con cada uno de los estudiantes existentes."
      ],
      "metadata": {
        "nteract": {
          "transient": {
            "deleting": false
          }
        }
      }
    },
    {
      "cell_type": "code",
      "source": [
        "void Grupo::consultarLista() const\n",
        "{\n",
        "    for (int i = 0; i < contadorEstudiantes; ++i)\n",
        "    {\n",
        "        consultarEstudiante(estudiantes[i]);\n",
        "        cout <<\"~*~*~*~*~*~*~*~*~*~*~*~*~*~*~*~*~*~*~\" <<endl;\n",
        "    }\n",
        "}"
      ],
      "outputs": [],
      "execution_count": null,
      "metadata": {
        "collapsed": true,
        "jupyter": {
          "source_hidden": false,
          "outputs_hidden": false
        },
        "nteract": {
          "transient": {
            "deleting": false
          }
        }
      }
    },
    {
      "cell_type": "markdown",
      "source": [
        "Como siguiente comportamiento implementaremos la búsqueda de estudiantes. Dicha búsqueda se realizará por coincidencia de patrones en el nombre de los estudiantes."
      ],
      "metadata": {
        "nteract": {
          "transient": {
            "deleting": false
          }
        }
      }
    },
    {
      "cell_type": "code",
      "source": [
        "void Grupo::buscarEstudiante() const\n",
        "{\n",
        "    string patron;\n",
        "    int contador = 0;\n",
        "    cout <<\"Nombre a buscar: \";\n",
        "    getline(cin, patron);\n",
        "    //Revisamos cada estudiante del arreglo \n",
        "    for (int i = 0; i < contadorEstudiantes; ++i)\n",
        "    {\n",
        "        //Realizamos búsqueda por coincidencia de patrones en el nombre de cada estudiante.\n",
        "        //find(qué Busco, a partir de donde)\n",
        "        if (estudiantes[i].getNombre().find(patron, 0) < estudiantes[i].getNombre().size())\n",
        "        {\n",
        "            consultarEstudiante(estudiantes[i]);\n",
        "            cout <<\"~*~*~*~*~*~*~*~*~*~*~*~*~*~*~*~*~*~*~\" <<endl;\n",
        "            ++contador;\n",
        "        }\n",
        "    }\n",
        "    //En caso de no encontrar estudiantes mostramos un mensaje correspondiente.\n",
        "    if (contador == 0)\n",
        "    {\n",
        "        cout <<\"No se encontró el patrón buscado\" <<endl <<endl;\n",
        "    }\n",
        "}"
      ],
      "outputs": [],
      "execution_count": null,
      "metadata": {
        "collapsed": true,
        "jupyter": {
          "source_hidden": false,
          "outputs_hidden": false
        },
        "nteract": {
          "transient": {
            "deleting": false
          }
        }
      }
    },
    {
      "cell_type": "markdown",
      "source": [
        "Ahora implementaremos la modificación de estudiantes. En este caso buscaremos a los estudiantes por el código y tendrá que coincidir exáctamente con el buscado. Una vez encontrado mostramos los datos almacenados y solicitamos los nuevos."
      ],
      "metadata": {
        "nteract": {
          "transient": {
            "deleting": false
          }
        }
      }
    },
    {
      "cell_type": "code",
      "source": [
        "void Grupo::modificarEstudiante()\n",
        "{\n",
        "    string codigo;\n",
        "    int i;\n",
        "    cout <<\"Código del estudiante: \";\n",
        "    getline(cin, codigo);\n",
        "\n",
        "    for (i = 0; i < contadorEstudiantes; ++i)\n",
        "    {\n",
        "        if (estudiantes[i].getCodigo() == codigo)\n",
        "        {\n",
        "            string nombre;\n",
        "            string carrera;\n",
        "            string codigo;\n",
        "\n",
        "            cout <<\"Datos del estudiante\" <<endl;\n",
        "            consultarEstudiante(estudiantes[i]);\n",
        "            cout <<\"Ingresa los nuevo datos\" <<endl\n",
        "                <<\"Nombre: \";\n",
        "            getline(cin, nombre);\n",
        "            cout <<\"Carrera: \";\n",
        "            getline(cin, carrera);\n",
        "            cout <<\"Código: \";\n",
        "            getline(cin, codigo);\n",
        "\n",
        "            estudiantes[i].setNombre(nombre);\n",
        "            estudiantes[i].setCarrera(carrera);\n",
        "            estudiantes[i].setCodigo(codigo);\n",
        "\n",
        "            cout <<\"Estudiante modificado con éxito\" <<endl <<endl;\n",
        "            break;\n",
        "        }\n",
        "    }\n",
        "    if (i == contadorEstudiantes)\n",
        "    {\n",
        "        cout <<\"No se encontró el código\" <<endl <<endl;\n",
        "    }\n",
        "}"
      ],
      "outputs": [],
      "execution_count": null,
      "metadata": {
        "collapsed": true,
        "jupyter": {
          "source_hidden": false,
          "outputs_hidden": false
        },
        "nteract": {
          "transient": {
            "deleting": false
          }
        }
      }
    },
    {
      "cell_type": "markdown",
      "source": [
        "Ya solo resta implementar el menú y la función principal de nuestro sistema."
      ],
      "metadata": {
        "nteract": {
          "transient": {
            "deleting": false
          }
        }
      }
    },
    {
      "cell_type": "code",
      "source": [
        "void Grupo::menu()\n",
        "{\n",
        "    int opc;\n",
        "\n",
        "    do\n",
        "    {\n",
        "        cout <<\"                        Menú para \" <<materia <<\" \"\n",
        "            <<seccion <<endl <<endl\n",
        "           <<OPC_AGREGAR <<\") Agregar estudiante\" <<endl\n",
        "          <<OPC_CONSULTAR <<\") Consultar estudiantes\" <<endl\n",
        "         <<OPC_BUSCAR <<\") Buscar estudiante\" <<endl\n",
        "        <<OPC_MODIFICAR <<\") Modificar estudiante\" <<endl\n",
        "        <<OPC_SALIR <<\") Salir\" <<endl <<endl;\n",
        "        cout <<\"Selcciona una opción: \";\n",
        "        cin >>opc;\n",
        "        cin.ignore();\n",
        "\n",
        "        switch (opc)\n",
        "        {\n",
        "        case OPC_AGREGAR:\n",
        "            cout <<\"                        Agregar Estudiante\" <<endl;\n",
        "            if (contadorEstudiantes < MAX_ESTUDIANTE)\n",
        "            {\n",
        "                agregarEstudiante();\n",
        "                cout <<\"Estudiante agregado con éxito.\" <<endl <<endl;\n",
        "            }\n",
        "            else\n",
        "            {\n",
        "                cout <<\"No hay cupos disponibles.\" <<endl <<endl;\n",
        "            }\n",
        "            break;\n",
        "        case OPC_CONSULTAR:\n",
        "            cout <<\"                        Consultar Estudiantes\" <<endl;\n",
        "            if (contadorEstudiantes > 0)\n",
        "            {\n",
        "                consultarLista();\n",
        "            }\n",
        "            else\n",
        "            {\n",
        "                cout <<\"No hay estudiantes registrados.\" <<endl <<endl;\n",
        "            }\n",
        "            break;\n",
        "        case OPC_BUSCAR:\n",
        "            if (contadorEstudiantes > 0)\n",
        "            {\n",
        "                cout <<\"                    Búsqueda de Estudiantes\" <<endl;\n",
        "                buscarEstudiante();\n",
        "            }\n",
        "            else\n",
        "            {\n",
        "                cout <<\"No hay estudiantes registrados.\" <<endl <<endl;\n",
        "            }\n",
        "            break;\n",
        "        case OPC_MODIFICAR:\n",
        "            if (contadorEstudiantes > 0)\n",
        "            {\n",
        "                cout <<\"                    Modificar Estudiante\" <<endl;\n",
        "                modificarEstudiante();\n",
        "            }\n",
        "            else\n",
        "            {\n",
        "                cout <<\"No hay estudiantes registrados.\" <<endl <<endl;\n",
        "            }\n",
        "            break;\n",
        "        case OPC_SALIR:\n",
        "            cout <<\"Saliendo del grupo\" <<endl;\n",
        "            break;\n",
        "        default:\n",
        "            cout <<\"Opción no válida\" <<endl;\n",
        "            break;\n",
        "        }\n",
        "    }\n",
        "    while(opc != OPC_SALIR);\n",
        "}"
      ],
      "outputs": [],
      "execution_count": null,
      "metadata": {
        "collapsed": true,
        "jupyter": {
          "source_hidden": false,
          "outputs_hidden": false
        },
        "nteract": {
          "transient": {
            "deleting": false
          }
        }
      }
    },
    {
      "cell_type": "markdown",
      "source": [
        "Por último la función principal en la cual creamos el grupo y le asignamos valor a sus atributos."
      ],
      "metadata": {
        "nteract": {
          "transient": {
            "deleting": false
          }
        }
      }
    },
    {
      "cell_type": "code",
      "source": [
        "int main()\n",
        "{\n",
        "    Grupo g;\n",
        "\n",
        "    g.setMateria(\"Estructuras de datos 1\");\n",
        "    g.setSeccion(\"D00\");\n",
        "    g.setNrc(\"No me lo sé\");\n",
        "\n",
        "    g.menu();\n",
        "\n",
        "    return 0;\n",
        "}"
      ],
      "outputs": [],
      "execution_count": null,
      "metadata": {
        "collapsed": true,
        "jupyter": {
          "source_hidden": false,
          "outputs_hidden": false
        },
        "nteract": {
          "transient": {
            "deleting": false
          }
        }
      }
    },
    {
      "cell_type": "code",
      "source": [
        "main();"
      ],
      "outputs": [],
      "execution_count": null,
      "metadata": {
        "collapsed": true,
        "jupyter": {
          "source_hidden": false,
          "outputs_hidden": false
        },
        "nteract": {
          "transient": {
            "deleting": false
          }
        }
      }
    },
    {
      "cell_type": "markdown",
      "source": [
        "En este cuaderno vimos cómo implementar una clase administradora encargada de controlar instancias de otra clase. A diferencia de lo que hicimos con registros (structs) ahora eliminamos la necesidad de tener contadores globales dado que todo está contenido dentro de la misma clase bajo el principio de encapsulamiento."
      ],
      "metadata": {
        "nteract": {
          "transient": {
            "deleting": false
          }
        }
      }
    },
    {
      "cell_type": "markdown",
      "source": [
        "En <a href=\"https://drive.google.com/file/d/1LxLAp7fcGknIcXqY3ZIzUbrhfY8DkHlK/view?usp=sharing\">este enlace</a> se encuentra el código para el proyecto creado en este cuaderno, se encuentran los archivos .h y .cpp para cada una de las clases.\n",
        "\n",
        "En el archivo **.h** se encuentra la declaración de la clase y en el archivo **.cpp** vamos a implementar todos los métodos y funciones de la clase."
      ],
      "metadata": {
        "nteract": {
          "transient": {
            "deleting": false
          }
        }
      }
    }
  ],
  "metadata": {
    "kernelspec": {
      "name": "xcpp11",
      "display_name": "C++11",
      "language": "C++11"
    },
    "language_info": {
      "codemirror_mode": "text/x-c++src",
      "file_extension": ".cpp",
      "mimetype": "text/x-c++src",
      "name": "c++",
      "version": "11"
    },
    "nteract": {
      "version": "0.25.0"
    }
  },
  "nbformat": 4,
  "nbformat_minor": 4
}