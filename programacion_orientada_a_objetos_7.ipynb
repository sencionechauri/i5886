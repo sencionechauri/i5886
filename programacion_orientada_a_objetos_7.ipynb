{
  "cells": [
    {
      "cell_type": "markdown",
      "source": [
        "# <center>Programación Orientada a Objetos</center>"
      ],
      "metadata": {}
    },
    {
      "cell_type": "markdown",
      "source": [
        "## <center>Polimorfismo: Ejemplo</center>"
      ],
      "metadata": {
        "nteract": {
          "transient": {
            "deleting": false
          }
        }
      }
    },
    {
      "cell_type": "code",
      "source": [
        "#include <string>\n",
        "#include \"xcpp/xdisplay.hpp\"\n",
        "\n",
        "#include \"nlohmann/json.hpp\"\n",
        "\n",
        "namespace nl = nlohmann;\n",
        "\n",
        "namespace ht\n",
        "{\n",
        "    struct html\n",
        "    {   \n",
        "        inline html(const std::string& content)\n",
        "        {\n",
        "            m_content = content;\n",
        "        }\n",
        "        std::string m_content;\n",
        "    };\n",
        "\n",
        "    nl::json mime_bundle_repr(const html& a)\n",
        "    {\n",
        "        auto bundle = nl::json::object();\n",
        "        bundle[\"text/html\"] = a.m_content;\n",
        "        return bundle;\n",
        "    }\n",
        "}\n",
        "\n",
        "ht::html iframe(R\"(\n",
        "<iframe src='https://drive.google.com/file/d/1xMEXSnwnCHzb-_9TOxuPFwmlAJk53ykc/preview' width='640' height='480'></iframe>)\");"
      ],
      "outputs": [],
      "execution_count": null,
      "metadata": {
        "collapsed": true,
        "jupyter": {
          "source_hidden": false,
          "outputs_hidden": false
        },
        "nteract": {
          "transient": {
            "deleting": false
          }
        }
      }
    },
    {
      "cell_type": "code",
      "source": [
        "xcpp::display(iframe, \"id\");"
      ],
      "outputs": [],
      "execution_count": null,
      "metadata": {
        "collapsed": true,
        "jupyter": {
          "source_hidden": false,
          "outputs_hidden": false
        },
        "nteract": {
          "transient": {
            "deleting": false
          }
        }
      }
    },
    {
      "cell_type": "markdown",
      "source": [
        "Comencemos definiendo la clase **Enemigo** la cual tendrá los atributos comunes a todos los tipos de enemigo que deseemos modelar, así como un método virtual puro *atacar*."
      ],
      "metadata": {
        "nteract": {
          "transient": {
            "deleting": false
          }
        }
      }
    },
    {
      "cell_type": "code",
      "source": [
        "#include <iostream>\n",
        "using namespace std;"
      ],
      "outputs": [],
      "execution_count": null,
      "metadata": {
        "collapsed": true,
        "jupyter": {
          "source_hidden": false,
          "outputs_hidden": false
        },
        "nteract": {
          "transient": {
            "deleting": false
          }
        }
      }
    },
    {
      "cell_type": "code",
      "source": [
        "class Enemigo\n",
        "{\n",
        "public:\n",
        "    Enemigo();\n",
        "\n",
        "    //Método virtual puro.\n",
        "    //Su implementación queda pendiente para las clases derivadas\n",
        "    virtual void atacar() = 0;\n",
        "\n",
        "    string getAtaque() const;\n",
        "    void setAtaque(const string &value);\n",
        "\n",
        "    int getEnergia() const;\n",
        "    void setEnergia(int value);\n",
        "\n",
        "    int getFuerza() const;\n",
        "    void setFuerza(int value);\n",
        "\n",
        "    string getTipo() const;\n",
        "    void setTipo(const string &value);\n",
        "\n",
        "private:\n",
        "    string  ataque;\n",
        "    int     energia;\n",
        "    int     fuerza;\n",
        "    string  tipo;\n",
        "};"
      ],
      "outputs": [],
      "execution_count": null,
      "metadata": {
        "collapsed": true,
        "jupyter": {
          "source_hidden": false,
          "outputs_hidden": false
        },
        "nteract": {
          "transient": {
            "deleting": false
          }
        }
      }
    },
    {
      "cell_type": "markdown",
      "source": [
        "Ahora hagamos la implementación de los métodos de interfaz y el constructor."
      ],
      "metadata": {
        "nteract": {
          "transient": {
            "deleting": false
          }
        }
      }
    },
    {
      "cell_type": "code",
      "source": [
        "Enemigo::Enemigo()\n",
        "{\n",
        "  ataque = \"-\";\n",
        "  energia = 0;\n",
        "  fuerza = 0;\n",
        "  tipo = \"-\";\n",
        "}"
      ],
      "outputs": [],
      "execution_count": null,
      "metadata": {
        "collapsed": true,
        "jupyter": {
          "source_hidden": false,
          "outputs_hidden": false
        },
        "nteract": {
          "transient": {
            "deleting": false
          }
        }
      }
    },
    {
      "cell_type": "code",
      "source": [
        "string Enemigo::getAtaque() const\n",
        "{\n",
        "    return ataque;\n",
        "}"
      ],
      "outputs": [],
      "execution_count": null,
      "metadata": {
        "collapsed": true,
        "jupyter": {
          "source_hidden": false,
          "outputs_hidden": false
        },
        "nteract": {
          "transient": {
            "deleting": false
          }
        }
      }
    },
    {
      "cell_type": "code",
      "source": [
        "void Enemigo::setAtaque(const string &value)\n",
        "{\n",
        "    ataque = value;\n",
        "}"
      ],
      "outputs": [],
      "execution_count": null,
      "metadata": {
        "collapsed": true,
        "jupyter": {
          "source_hidden": false,
          "outputs_hidden": false
        },
        "nteract": {
          "transient": {
            "deleting": false
          }
        }
      }
    },
    {
      "cell_type": "code",
      "source": [
        "int Enemigo::getEnergia() const\n",
        "{\n",
        "    return energia;\n",
        "}"
      ],
      "outputs": [],
      "execution_count": null,
      "metadata": {
        "collapsed": true,
        "jupyter": {
          "source_hidden": false,
          "outputs_hidden": false
        },
        "nteract": {
          "transient": {
            "deleting": false
          }
        }
      }
    },
    {
      "cell_type": "code",
      "source": [
        "void Enemigo::setEnergia(int value)\n",
        "{\n",
        "    energia = value;\n",
        "}"
      ],
      "outputs": [],
      "execution_count": null,
      "metadata": {
        "collapsed": true,
        "jupyter": {
          "source_hidden": false,
          "outputs_hidden": false
        },
        "nteract": {
          "transient": {
            "deleting": false
          }
        }
      }
    },
    {
      "cell_type": "code",
      "source": [
        "int Enemigo::getFuerza() const\n",
        "{\n",
        "    return fuerza;\n",
        "}"
      ],
      "outputs": [],
      "execution_count": null,
      "metadata": {
        "collapsed": true,
        "jupyter": {
          "source_hidden": false,
          "outputs_hidden": false
        },
        "nteract": {
          "transient": {
            "deleting": false
          }
        }
      }
    },
    {
      "cell_type": "code",
      "source": [
        "void Enemigo::setFuerza(int value)\n",
        "{\n",
        "    fuerza = value;\n",
        "}"
      ],
      "outputs": [],
      "execution_count": null,
      "metadata": {
        "collapsed": true,
        "jupyter": {
          "source_hidden": false,
          "outputs_hidden": false
        },
        "nteract": {
          "transient": {
            "deleting": false
          }
        }
      }
    },
    {
      "cell_type": "code",
      "source": [
        "string Enemigo::getTipo() const\n",
        "{\n",
        "    return tipo;\n",
        "}"
      ],
      "outputs": [],
      "execution_count": null,
      "metadata": {
        "collapsed": true,
        "jupyter": {
          "source_hidden": false,
          "outputs_hidden": false
        },
        "nteract": {
          "transient": {
            "deleting": false
          }
        }
      }
    },
    {
      "cell_type": "code",
      "source": [
        "void Enemigo::setTipo(const string &value)\n",
        "{\n",
        "    tipo = value;\n",
        "}"
      ],
      "outputs": [],
      "execution_count": null,
      "metadata": {
        "collapsed": true,
        "jupyter": {
          "source_hidden": false,
          "outputs_hidden": false
        },
        "nteract": {
          "transient": {
            "deleting": false
          }
        }
      }
    },
    {
      "cell_type": "markdown",
      "source": [
        "Ahora definamos a un enemigo específico, comencemos con una Momia que debe heredar de la clase base Enemigo. Gracias al mecanismo de herencia ya no debemos escribir los métodos de interfaz y sólo harremos la implementación del método atacar y el constructor."
      ],
      "metadata": {
        "nteract": {
          "transient": {
            "deleting": false
          }
        }
      }
    },
    {
      "cell_type": "code",
      "source": [
        "class Momia : public Enemigo\n",
        "{\n",
        "public:\n",
        "    Momia();\n",
        "\n",
        "    void atacar();\n",
        "};"
      ],
      "outputs": [],
      "execution_count": null,
      "metadata": {
        "collapsed": true,
        "jupyter": {
          "source_hidden": false,
          "outputs_hidden": false
        },
        "nteract": {
          "transient": {
            "deleting": false
          }
        }
      }
    },
    {
      "cell_type": "code",
      "source": [
        "Momia::Momia()\n",
        "{\n",
        "    setAtaque(\"Vendas envenenadas\");\n",
        "    setTipo(\"Momia\");\n",
        "    setFuerza(7);\n",
        "    setEnergia(20);\n",
        "}"
      ],
      "outputs": [],
      "execution_count": null,
      "metadata": {
        "collapsed": true,
        "jupyter": {
          "source_hidden": false,
          "outputs_hidden": false
        },
        "nteract": {
          "transient": {
            "deleting": false
          }
        }
      }
    },
    {
      "cell_type": "code",
      "source": [
        "void Momia::atacar()\n",
        "{\n",
        "    cout <<getTipo() <<\" ataca con \" <<getAtaque() <<endl\n",
        "        <<getTipo() <<\" ha causado \" <<getFuerza() <<\" de daño \" <<endl;\n",
        "}"
      ],
      "outputs": [],
      "execution_count": null,
      "metadata": {
        "collapsed": true,
        "jupyter": {
          "source_hidden": false,
          "outputs_hidden": false
        },
        "nteract": {
          "transient": {
            "deleting": false
          }
        }
      }
    },
    {
      "cell_type": "markdown",
      "source": [
        "Ahora hagamos la implementación de otro tipo de Enemigo, esta vez definiremos a la clase Vampiro 🧛, que además de atacar de forma particular, cada que ataque podrá recuperar algo de energía. "
      ],
      "metadata": {
        "nteract": {
          "transient": {
            "deleting": false
          }
        }
      }
    },
    {
      "cell_type": "code",
      "source": [
        "class Vampiro : public Enemigo\n",
        "{\n",
        "public:\n",
        "    Vampiro();\n",
        "\n",
        "    void atacar();\n",
        "\n",
        "    int getGanancia() const;\n",
        "    void setGanancia(int value);\n",
        "\n",
        "private:\n",
        "    int ganancia;\n",
        "};"
      ],
      "outputs": [],
      "execution_count": null,
      "metadata": {
        "collapsed": true,
        "jupyter": {
          "source_hidden": false,
          "outputs_hidden": false
        },
        "nteract": {
          "transient": {
            "deleting": false
          }
        }
      }
    },
    {
      "cell_type": "code",
      "source": [
        "Vampiro::Vampiro()\n",
        "{\n",
        "    setAtaque(\"Chupasangre\");\n",
        "    setTipo(\"Vampiro\");\n",
        "    setEnergia(25);\n",
        "    setFuerza(12);\n",
        "    setGanancia(3);\n",
        "}"
      ],
      "outputs": [],
      "execution_count": null,
      "metadata": {
        "collapsed": true,
        "jupyter": {
          "source_hidden": false,
          "outputs_hidden": false
        },
        "nteract": {
          "transient": {
            "deleting": false
          }
        }
      }
    },
    {
      "cell_type": "code",
      "source": [
        "int Vampiro::getGanancia() const\n",
        "{\n",
        "    return ganancia;\n",
        "}"
      ],
      "outputs": [],
      "execution_count": null,
      "metadata": {
        "collapsed": true,
        "jupyter": {
          "source_hidden": false,
          "outputs_hidden": false
        },
        "nteract": {
          "transient": {
            "deleting": false
          }
        }
      }
    },
    {
      "cell_type": "code",
      "source": [
        "void Vampiro::setGanancia(int value)\n",
        "{\n",
        "    ganancia = value;\n",
        "}"
      ],
      "outputs": [],
      "execution_count": null,
      "metadata": {
        "collapsed": true,
        "jupyter": {
          "source_hidden": false,
          "outputs_hidden": false
        },
        "nteract": {
          "transient": {
            "deleting": false
          }
        }
      }
    },
    {
      "cell_type": "code",
      "source": [
        "void Vampiro::atacar()\n",
        "{\n",
        "    cout <<getTipo() <<\" ataca con \" <<getAtaque() <<endl\n",
        "        <<getTipo() <<\" ha causado \" <<getFuerza() <<\" de daño \" <<endl\n",
        "       <<getTipo() <<\" ha ganado \" <<getGanancia() <<\" de energía \" <<endl;\n",
        "\n",
        "    setEnergia(getEnergia() + getGanancia());\n",
        "}"
      ],
      "outputs": [],
      "execution_count": null,
      "metadata": {
        "collapsed": true,
        "jupyter": {
          "source_hidden": false,
          "outputs_hidden": false
        },
        "nteract": {
          "transient": {
            "deleting": false
          }
        }
      }
    },
    {
      "cell_type": "markdown",
      "source": [
        "Para poder hacer uso del polimorfismo necesitaremos crear apuntadores a objetos tipo Enemigo y los almacenaremos en una colección. Generaremos enemigos de forma aleatoria y los pondremos a atacar de forma tal que sea evidente el polimorfismo, nosotros no sabremos qué tipo de enemigo está en cada celda del arreglo, sólo los pondremos a atacar y cada uno de ellos deberá responder según su naturaleza."
      ],
      "metadata": {
        "nteract": {
          "transient": {
            "deleting": false
          }
        }
      }
    },
    {
      "cell_type": "code",
      "source": [
        "#include <time.h>\n",
        "\n",
        "int main()\n",
        "{\n",
        "    srand(time(NULL));\n",
        "    const int MAX_ENEMIGO = 5;\n",
        "    Enemigo *enemigos[MAX_ENEMIGO];\n",
        "\n",
        "    for (int i(0); i < MAX_ENEMIGO; ++i)\n",
        "    {\n",
        "        int aleatorio = random()%2;\n",
        "        switch (aleatorio)\n",
        "        {\n",
        "        case 0:\n",
        "        {\n",
        "            Momia *m = new Momia();\n",
        "            enemigos[i] = m;\n",
        "        }\n",
        "            break;\n",
        "        default:\n",
        "        {\n",
        "            Vampiro *v = new Vampiro();\n",
        "            enemigos[i] = v;\n",
        "        }\n",
        "            break;\n",
        "        }\n",
        "    }\n",
        "    for (int i(0); i < MAX_ENEMIGO; ++i)\n",
        "    {\n",
        "        enemigos[i]->atacar();\n",
        "    }\n",
        "    \n",
        "\n",
        "    return 0;\n",
        "}"
      ],
      "outputs": [],
      "execution_count": null,
      "metadata": {
        "collapsed": true,
        "jupyter": {
          "source_hidden": false,
          "outputs_hidden": false
        },
        "nteract": {
          "transient": {
            "deleting": false
          }
        }
      }
    }
  ],
  "metadata": {
    "kernelspec": {
      "name": "xcpp11",
      "display_name": "C++11",
      "language": "C++11"
    },
    "language_info": {
      "codemirror_mode": "text/x-c++src",
      "file_extension": ".cpp",
      "mimetype": "text/x-c++src",
      "name": "c++",
      "version": "11"
    },
    "nteract": {
      "version": "0.25.1"
    }
  },
  "nbformat": 4,
  "nbformat_minor": 4
}