{
  "cells": [
    {
      "cell_type": "markdown",
      "source": [
        "# <center>Árboles</center>"
      ],
      "metadata": {
        "nteract": {
          "transient": {
            "deleting": false
          }
        }
      }
    },
    {
      "cell_type": "markdown",
      "source": [
        "Los **árboles** forman una de las subclases de grafos más utilizadas.\n",
        "\n",
        "Un árbol $T$ es un grafo sencillo que satisface lo siguiente: Si $v$ y $w$ son vértices en $T$, hay una única ruta sencilla desde $v$ hacia $w$.\n",
        "\n",
        "### Ejemplo\n",
        "\n",
        "<center><img src=\"media/arbol.png\" width=50%></center>"
      ],
      "metadata": {
        "nteract": {
          "transient": {
            "deleting": false
          }
        }
      }
    },
    {
      "cell_type": "markdown",
      "source": [
        "Un árbol con raíz es un árbol en el cuál un vértice particular es designado como raíz. \n",
        "\n",
        "### Ejemplo\n",
        "\n",
        "<center><img src=\"media/arbol_con_raiz.png\" width=80%></center>"
      ],
      "metadata": {
        "nteract": {
          "transient": {
            "deleting": false
          }
        }
      }
    },
    {
      "cell_type": "markdown",
      "source": [
        "Dado que el camino desde la raíz hacia cualquier vértice determinado es único, cada vértice está en un nivel único determinado. Se llama nivel 0 al nivel de la raíz. Se dice que los vértices bajo la raíz están en el nivel 1 y así sucesivamente. Por lo tanto, el **nivel de un vértice** $v$ es la longitud del camino desde la raíz hasta $v$.\n",
        "\n",
        "La **altura** de un árbol con raíz es el número de nivel máximo que contiene"
      ],
      "metadata": {
        "nteract": {
          "transient": {
            "deleting": false
          }
        }
      }
    },
    {
      "cell_type": "markdown",
      "source": [
        "Sea $T$ un árbol con raíz $v_0$. Suponga que $x$, $y$ y $z$ son vértices en $T$ y que $(v_0, v_1, \\ldots, v_n)$ es un camino en $T$. Entonces:\n",
        "\n",
        "a) $v_{n-1}$ es el padre de $v_n$.\n",
        "\n",
        "b) $v_0, \\ldots, v_{n-1}$ son ancestros de $v_n$.\n",
        "\n",
        "c) $v_n$ es un hijo de $v_{n-1}$.\n",
        "\n",
        "d) Si $x$ es un ancestro de $y$, $y$ es un descendente de $x$.\n",
        "\n",
        "e) Si $x$ y $y$ son hijos de $z$, $x$ y $y$ son *hermanos*.\n",
        "\n",
        "f) Si $x$ no tiene hijos, $x$ es un vértice *terminal* u *hoja*.\n",
        "\n",
        "g) Si $x$ no es un vértice terminal, $x$ es un vértice *interno*.\n",
        "\n",
        "h) El subárbol de $T$ con raíz en $x$ es el árbol con raíz $T'=(V,E)$, donde $V$ es $x$ junto con los descendientes de $x$,  y\n",
        "\n",
        "$$E=\\{e|e \\text{ es una arista en un camino del árbol}\\}$$\n",
        "\n",
        "\n",
        "En $T'$, $x$ es designado como raíz.\n"
      ],
      "metadata": {
        "nteract": {
          "transient": {
            "deleting": false
          }
        }
      }
    },
    {
      "cell_type": "markdown",
      "source": [
        "### Ejemplo\n",
        "\n",
        "<center><img src=\"media/ejemplo_conceptos_arbol.png\" width=50% /></center>\n",
        "\n",
        "a) El padre de 80 es 70.\n",
        "\n",
        "b) Los ancestros de 100 son 50, 70, 90.\n",
        "\n",
        "c) Los hijos de 70 son 80 y 90.\n",
        "\n",
        "d) Los descendientes de 70 son 80, 90 y 100.\n",
        "\n",
        "e) Los vértices 30, 40, 60 y 70 son hermanos.\n",
        "\n",
        "f) Los vértices terminales son 10, 20, 40, 60, 80 y 100.\n",
        "\n",
        "g) Los vértices internos son 30, 70 y 90.\n",
        "\n",
        "h) La altura del árbol es 3.\n",
        "\n",
        "i) 20 se encuentra en el nivel 2."
      ],
      "metadata": {
        "nteract": {
          "transient": {
            "deleting": false
          }
        }
      }
    },
    {
      "cell_type": "markdown",
      "source": [
        "**Teorema**. Sea $T$ un grafo con $n$ vértices. Las siguientes afirmaciones son equivalentes.\n",
        "\n",
        "a) $T$ es un árbol.\n",
        "\n",
        "b) $T$ es conexo y acíclico.\n",
        "\n",
        "c) $T$ es conexo y tiene $n-1$ aristas.\n",
        "\n",
        "d) $T$ es acíclico y tiene $n-1$ aristas."
      ],
      "metadata": {
        "nteract": {
          "transient": {
            "deleting": false
          }
        }
      }
    },
    {
      "cell_type": "markdown",
      "source": [
        "## Árboles Binarios\n",
        "\n",
        "Los **árboles binarios** están entre los tipos especiales de árboles con raíz más importantes. \n",
        "\n",
        "En un árbol binario cada vértice tiene cuando mucho dos hijos. Más aún, cada hijo es designado como **hijo izquierdo** o **hijo derecho**.\n",
        "\n",
        "### Ejemplo\n",
        "\n",
        "<center><img src=\"media/arbol_binario.png\" width=50%></center>"
      ],
      "metadata": {
        "nteract": {
          "transient": {
            "deleting": false
          }
        }
      }
    },
    {
      "cell_type": "markdown",
      "source": [
        "Un *árbol binario* es un árbol con raíz en el cual cada vértice tiene ya sea ningún hijo, un hijo o dos hijos. Si un vértice tiene un hijo, ese hijo es designado como un **hijo izquierdo** o un **hijo derecho** (pero no ambos). Si un vértice tiene dos hijos, un hijo es designado como hijo izquierdo y el otro como hijo derecho."
      ],
      "metadata": {
        "nteract": {
          "transient": {
            "deleting": false
          }
        }
      }
    },
    {
      "cell_type": "markdown",
      "source": [
        "### Recorridos en árboles binarios\n",
        "\n",
        "Recorrer un árbol binario significa visitar cada nodo en el árbol en un orden preestablecido. Los tres ordenes de recorrido más comunes son **pre-orden**, **en-orden** y **post-orden**."
      ],
      "metadata": {
        "nteract": {
          "transient": {
            "deleting": false
          }
        }
      }
    },
    {
      "cell_type": "markdown",
      "source": [
        "**Recorrido pre-orden**. El recorrido pre-orden de un árbol binario con raíz en *raíz* se define por las siguientes reglas: \n",
        "\n",
        "1. Si *raíz* vacía, parar.\n",
        "\n",
        "2. Visitar *raíz*.\n",
        "\n",
        "3. Realizar pre-orden en el árbol binario con raíz del hijo izquierdo.\n",
        "\n",
        "4. Realizar preorden en el árbol binario con raíz del hijo derecho."
      ],
      "metadata": {
        "nteract": {
          "transient": {
            "deleting": false
          }
        }
      }
    },
    {
      "cell_type": "code",
      "source": [
        "%%html\n",
        "<center><iframe src=\"https://drive.google.com/file/d/1fn6KdGFK313i0GcLwINnYIhk4AEzs_Xm/preview\" width=\"640\" height=\"480\"></iframe></center>"
      ],
      "outputs": [],
      "execution_count": null,
      "metadata": {
        "collapsed": true,
        "jupyter": {
          "source_hidden": false,
          "outputs_hidden": false
        },
        "nteract": {
          "transient": {
            "deleting": false
          }
        }
      }
    },
    {
      "cell_type": "markdown",
      "source": [
        "**Recorrido en-orden**. El recorrido en-orden de un árbol binario con raíz en *raíz* se define por las siguientes reglas:\n",
        "\n",
        "1. Si raíz vacía, parar.\n",
        "\n",
        "2. Realizar en-orden en el árbol binario con raíz en el hijo izquierdo.\n",
        "\n",
        "3. Visitar raíz.\n",
        "\n",
        "4. Realizar en-orden en el árbol binario con raíz en el hijo derecho."
      ],
      "metadata": {
        "nteract": {
          "transient": {
            "deleting": false
          }
        }
      }
    },
    {
      "cell_type": "code",
      "source": [
        "%%html\n",
        "<center><iframe src=\"https://drive.google.com/file/d/1Gs-XSf8k07hdqkJFip-TEn9a1ZUB2uxF/preview\" width=\"640\" height=\"480\"></iframe></center>"
      ],
      "outputs": [],
      "execution_count": null,
      "metadata": {
        "collapsed": true,
        "jupyter": {
          "source_hidden": false,
          "outputs_hidden": false
        },
        "nteract": {
          "transient": {
            "deleting": false
          }
        }
      }
    },
    {
      "cell_type": "markdown",
      "source": [
        "**Recorrido post-orden**. El recorrido post-orden de un árbol binario con raíz en *raíz* se define por las siguientes reglas:\n",
        "\n",
        "1. Si raíz vacía, parar.\n",
        "\n",
        "2. Realizar post-orden en el árbol binario con raíz en el hijo izquierdo.\n",
        "\n",
        "3. Realizar post-orden en el árbol binario con raíz en el hijo derecho.\n",
        "\n",
        "4. Visitar raíz."
      ],
      "metadata": {
        "nteract": {
          "transient": {
            "deleting": false
          }
        }
      }
    },
    {
      "cell_type": "code",
      "source": [
        "%%html\n",
        "<center><iframe src=\"https://drive.google.com/file/d/1pGvMCJxi9y9G7w4WGEO3Y6sIib--g2bc/preview\" width=\"640\" height=\"480\"></iframe></center>"
      ],
      "outputs": [],
      "execution_count": null,
      "metadata": {
        "collapsed": true,
        "jupyter": {
          "source_hidden": false,
          "outputs_hidden": false
        },
        "nteract": {
          "transient": {
            "deleting": false
          }
        }
      }
    }
  ],
  "metadata": {
    "kernel_info": {
      "name": "python3"
    },
    "language_info": {
      "name": "python",
      "version": "3.7.3",
      "mimetype": "text/x-python",
      "codemirror_mode": {
        "name": "ipython",
        "version": 3
      },
      "pygments_lexer": "ipython3",
      "nbconvert_exporter": "python",
      "file_extension": ".py"
    },
    "kernelspec": {
      "argv": [
        "python",
        "-m",
        "ipykernel_launcher",
        "-f",
        "{connection_file}"
      ],
      "display_name": "Python 3",
      "language": "python",
      "name": "python3"
    },
    "nteract": {
      "version": "0.26.0"
    }
  },
  "nbformat": 4,
  "nbformat_minor": 0
}