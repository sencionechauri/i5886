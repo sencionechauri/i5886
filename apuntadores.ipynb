{
  "cells": [
    {
      "cell_type": "markdown",
      "source": [
        "\n",
        "# <center>Apuntadores</center>"
      ],
      "metadata": {
        "nteract": {
          "transient": {
            "deleting": false
          }
        }
      }
    },
    {
      "cell_type": "markdown",
      "source": [
        "## <center>¿Qué es un apuntador?</center>\n",
        "\n",
        "Es un tipo de dato que como valor almacena una dirección de memoria. La dirección de memoria almacenada es aquella en la cual se encuentra el dato real.\n",
        "\n",
        "Por ejemplo un apuntador a entero guarda la dirección de memoria en donde se encuentra almacenado un entero ."
      ],
      "metadata": {
        "nteract": {
          "transient": {
            "deleting": false
          }
        }
      }
    },
    {
      "cell_type": "markdown",
      "source": [
        "## <center>Stack y Heap</center>\n",
        "\n",
        "Cuando se habla de manejo de memoria dinámica es común encontrar los términos *stack* y *heap*.\n",
        "\n",
        "La *stack* (o pila) es una sección de memoria designada para la ejecución de tu programa y en la cual se almacenan las variables del mismo. Ahí se encuentran variables locales a procedimientos y bloques de instrucciones.\n",
        "\n",
        "El *heap* es la memoria libre del sistema y que es compartida por todas las aplicaciones en ejecución. Cada programa puede solicitar memoria del heap y le será asignada, dicha memoria no se limpia de forma automática y es responsabilidad de cada programa liberar la memoria que le fue asignada para que posteriormente otros programas puedan utilizarla en caso de ser necesario."
      ],
      "metadata": {
        "nteract": {
          "transient": {
            "deleting": false
          }
        }
      }
    },
    {
      "cell_type": "markdown",
      "source": [
        "## <center>new</center>\n",
        "\n",
        "Con la palabra reservada *new* creamos y reservamos un espacio de memoria en el heap. La palabra new regresa una dirección de memoria.\n",
        "\n",
        "Uso:\n",
        "\n",
        "```\n",
        "new <tipo>;\n",
        "```\n",
        "\n",
        "ejemplo:\n",
        "\n",
        "```\n",
        "new int;\n",
        "```"
      ],
      "metadata": {
        "nteract": {
          "transient": {
            "deleting": false
          }
        }
      }
    },
    {
      "cell_type": "markdown",
      "source": [
        "Para crear un apuntador se utiliza el tipo de dato seguido de * y el nombre de la variable.\n",
        "\n",
        "Uso:\n",
        "\n",
        "```\n",
        "<tipo>* <identificador>;\n",
        "```\n",
        "\n",
        "Ejemplo:\n",
        "\n",
        "```\n",
        "int p;\n",
        "p = new int;\n",
        "```"
      ],
      "metadata": {
        "nteract": {
          "transient": {
            "deleting": false
          }
        }
      }
    },
    {
      "cell_type": "markdown",
      "source": [
        "### Ejemplo\n",
        "\n",
        "```\n",
        "int* p = new int(33);\n",
        "```\n",
        "\n",
        "<center><img src=\"media/apuntador.png\" width=50% /></center>"
      ],
      "metadata": {
        "nteract": {
          "transient": {
            "deleting": false
          }
        }
      }
    },
    {
      "cell_type": "markdown",
      "source": [
        "## <center>Basura</center>\n",
        "\n",
        "Otro concepto relacionado al manejo de memoria dinámica es el de *basura* (garbage). Con este concepto nos referimos a un dato almacenado en el heap al cual no podemos acceder con nuestro programa y ello representa un problema que se debe evitar.\n",
        "\n",
        "### Ejemplo: Creación de basura\n",
        "\n",
        "```\n",
        "int* p = new int(33);\n",
        "```\n",
        "\n",
        "<center><img src=\"media/apuntador.png\" width=50% /></center>\n",
        "\n",
        "```\n",
        "p = new int(55);\n",
        "//El 33 se vuelve inaccesible.\n",
        "```\n",
        "\n",
        "<center><img src=\"media/basura.png\" width=50% /></center>\n"
      ],
      "metadata": {
        "nteract": {
          "transient": {
            "deleting": false
          }
        }
      }
    },
    {
      "cell_type": "markdown",
      "source": [
        "## <center>delete</center>\n",
        "\n",
        "Para evitar la creación de basura y agotar los recursos del dispositvo se debe eliminar la información que ya no será utilizada por el programa y así liberar la memoria asociada.\n",
        "\n",
        "La palabra reservada delete permite la liberación de un espacio de memoria.\n",
        "\n",
        "Uso: \n",
        "```\n",
        "delete <identificador>;\n",
        "```\n",
        "\n",
        "Ejemplo:\n",
        "```\n",
        "delete p;\n",
        "```"
      ],
      "metadata": {
        "nteract": {
          "transient": {
            "deleting": false
          }
        }
      }
    },
    {
      "cell_type": "markdown",
      "source": [
        "## <center>Referencia colgante</center>\n",
        "\n",
        "Otra situación conflictiva que puede presentarse es una *referencia colgante* (dangling pointer), la cual sucede cuando un apuntador hace referencia a una posición de memoria que ha sido previamente liberada.\n",
        "\n",
        "### Ejemplo: Referencia colgante\n",
        "\n",
        "```\n",
        "int* p = new int(33);\n",
        "```\n",
        "\n",
        "<center><img src=\"media/apuntador.png\" width=50% /></center>\n",
        "\n",
        "```\n",
        "delete p;\n",
        "//En este momento p apunta hacia una dirección en la que no existe dato\n",
        "```\n",
        "<center><img src=\"media/referencia_colgante.png\" width=50% /></center>\n",
        "\n",
        "Para evitar las referencias colgantes se debe reasignar una posición de memoria al apuntador liberado o bien asignarle el valor de cero en caso que ya no se vaya a utilizar nuevamente (```p = 0;```)."
      ],
      "metadata": {
        "nteract": {
          "transient": {
            "deleting": false
          }
        }
      }
    },
    {
      "cell_type": "markdown",
      "source": [
        "## <center>Operaciones con apuntadores</center>\n",
        "\n",
        "__& operador de dirección__ \n",
        "\n",
        "Con el operador & precediendo a una variable podemos obtener la dirección de memoria en la que se encuentra almacenada dicha variable.\n",
        "\n",
        "__* operador de contenido__\n",
        "\n",
        "Con el operador * precediendo a una variable tipo apuntador podemos obtener el valor almacenado en la dirección guardada por el apuntdor.\n",
        "\n",
        "### Ejemplo\n",
        "\n",
        "```\n",
        "int x = 33;\n",
        "int* p = &x;\n",
        "```\n",
        "\n",
        "<center><img src=\"media/operadores_apuntadores.png\" width=50% /></center>\n",
        "\n",
        "```\n",
        "cout <<p; //0x33221100\n",
        "cout <<*p; //33\n",
        "```\n"
      ],
      "metadata": {
        "nteract": {
          "transient": {
            "deleting": false
          }
        }
      }
    },
    {
      "cell_type": "markdown",
      "source": [
        "## <center>*p como alias de una variable</center>\n",
        "\n",
        "```\n",
        "int x = 33;\n",
        "int* p = &x;\n",
        "\n",
        "x = x + 7; // x = 40\n",
        "x = *p + 5; // x = 45\n",
        "*p = *p + 3; // x = 48\n",
        "```\n"
      ],
      "metadata": {
        "nteract": {
          "transient": {
            "deleting": false
          }
        }
      }
    }
  ],
  "metadata": {
    "kernel_info": {
      "name": "python3"
    },
    "language_info": {
      "name": "python",
      "version": "3.7.3",
      "mimetype": "text/x-python",
      "codemirror_mode": {
        "name": "ipython",
        "version": 3
      },
      "pygments_lexer": "ipython3",
      "nbconvert_exporter": "python",
      "file_extension": ".py"
    },
    "kernelspec": {
      "argv": [
        "python",
        "-m",
        "ipykernel_launcher",
        "-f",
        "{connection_file}"
      ],
      "display_name": "Python 3",
      "language": "python",
      "name": "python3"
    },
    "nteract": {
      "version": "0.26.0"
    }
  },
  "nbformat": 4,
  "nbformat_minor": 0
}