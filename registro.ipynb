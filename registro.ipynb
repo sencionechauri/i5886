{
  "cells": [
    {
      "cell_type": "markdown",
      "source": [
        "# <center>Registro</center>"
      ],
      "metadata": {}
    },
    {
      "cell_type": "markdown",
      "source": [
        "## <center>¿Qué es?</center>\n",
        "* Tipo de dato estructurado posiblemente heterogéneo, es decir puede contener datos de distinto tipo.\n",
        "\n",
        "Cada componente de un registro es llamado un **campo** del registro y cada campo recibe un nombre."
      ],
      "metadata": {}
    },
    {
      "cell_type": "code",
      "source": [
        "#include <iostream>\n",
        "\n",
        "using namespace std;\n",
        "\n",
        "/*Para declarar un registro utilizamos la palabra struct seguida del identificador que queremos asignarle (se sugiere que inicie en mayúscula)*/\n",
        "struct Registro\n",
        "{\n",
        "  string cadena; //campo cadena de tipo string\n",
        "  int numero; //campo numero de tipo int\n",
        "};"
      ],
      "outputs": [],
      "execution_count": null,
      "metadata": {
        "trusted": true
      }
    },
    {
      "cell_type": "markdown",
      "source": [
        "## <center>Acceso a Variables Miembro o Campos</center>\n",
        "\n",
        "Para acceder a un miembro individual de una variable tipo estructura se necesita el nombre de la variable seguido por un punto (.) y después la variable miembro. <br><br>\n",
        "\n",
        "<nombreVariable\\>.<nombreMiembro\\>\n",
        "\n",
        "<br>En caso de que la variable sea de tipo apuntador se debe utilizar el operador -\\>"
      ],
      "metadata": {}
    },
    {
      "cell_type": "markdown",
      "source": [
        "## <center>Operaciones de Agregados en Registros</center>\n",
        "<center>\n",
        "<table class=\"center\">\n",
        "  <tr>\n",
        "    <th>Operación</th>\n",
        "    <th>¿Permitido?</th>\n",
        "  </tr>\n",
        "  <tr>\n",
        "    <td>Entrada/Salida</td>\n",
        "    <td>No</td>\n",
        "  </tr>\n",
        "  <tr>\n",
        "    <td>Asignación</td>\n",
        "    <td>Sí</td>\n",
        "  </tr>\n",
        "  <tr>\n",
        "    <td>Aritmética</td>\n",
        "    <td>No</td>\n",
        "  </tr>\n",
        "  <tr>\n",
        "    <td>Comparación</td>\n",
        "    <td>No</td>\n",
        "  </tr>\n",
        "  <tr>\n",
        "    <td>Paso como argumento</td>\n",
        "    <td>Sí, por valor o refrerencia</td>\n",
        "  </tr>\n",
        "  <tr>\n",
        "    <td>Regreso como valor de una función</td>\n",
        "    <td>Sí</td>\n",
        "  </tr>\n",
        "</table>\n",
        "</center>"
      ],
      "metadata": {}
    },
    {
      "cell_type": "markdown",
      "source": [
        "%%html\n",
        "<center><iframe src=\"https://drive.google.com/file/d/1gjLQ1AE6WdskJzV68sPHeCoICwYFpuFk/preview\" width=\"320\" height=\"240\"></iframe></center>"
      ],
      "metadata": {
        "nteract": {
          "transient": {
            "deleting": false
          }
        }
      }
    },
    {
      "cell_type": "markdown",
      "source": [
        "## <center>Ejemplos</center>"
      ],
      "metadata": {
        "nteract": {
          "transient": {
            "deleting": false
          }
        }
      }
    },
    {
      "cell_type": "code",
      "source": [
        "struct Persona\n",
        "{\n",
        "  string nombre;\n",
        "  int edad;\n",
        "};\n",
        "\n",
        "Persona estudiante; //estudiante es una instancia o variable tipo Persona\n",
        "\n",
        "estudiante.nombre = \"Lucy Sonido\";\n",
        "estudiante.edad = 33;\n",
        "\n",
        "cout <<\"Los datos del estudiante son: \" <<endl\n",
        "<<\"Nombre: \" <<estudiante.nombre <<endl\n",
        "<<\"Edad: \" <<estudiante.edad <<endl;\n",
        "\n",
        "/*Inicialización explícita de valores, los valores deben seguir el orden en el que se declararon en el registro*/\n",
        "Persona profesor = {\"Susana Distancia\", 44};\n",
        "\n",
        "cout <<\"Los datos del profesor son: \" <<endl\n",
        "<<\"Nombre: \" <<profesor.nombre <<endl\n",
        "<<\"Edad: \" <<profesor.edad <<endl;\n",
        "\n",
        "Persona programador;\n",
        "//Para solicitar los datos del registro lo hacemos campo por campo\n",
        "cout <<\"Nombre: \";\n",
        "getline(cin, programador.nombre);\n",
        "cout <<\"Edad: \";\n",
        "cin >>programador.edad;\n",
        "\n",
        "cout <<\"Los datos del programador son: \" <<endl\n",
        "<<\"Nombre: \" <<programador.nombre <<endl\n",
        "<<\"Edad: \" <<programador.edad <<endl;"
      ],
      "outputs": [
        {
          "output_type": "stream",
          "name": "stdout",
          "text": [
            "El arreglo de enteros contiene: 3, 5, 7\n",
            "El arreglo de cadenas contiene: Hola mundo!, Hello world!\n"
          ]
        }
      ],
      "execution_count": 3,
      "metadata": {
        "trusted": true
      }
    },
    {
      "cell_type": "code",
      "source": [
        "/*\n",
        "¡A practicar se ha dicho!\n",
        "Define un registro Estudiante con los siguientes campos:\n",
        "\n",
        "nombre de tipo cadena\n",
        "carrera de tipo cadena\n",
        "creditos de tipo entero\n",
        "promedio de tipo número flotante\n",
        "\n",
        "Una vez definido el registro crea una variable y solicita sus datos\n",
        "*/"
      ],
      "outputs": [],
      "execution_count": null,
      "metadata": {
        "collapsed": true,
        "jupyter": {
          "source_hidden": false,
          "outputs_hidden": false
        },
        "nteract": {
          "transient": {
            "deleting": false
          }
        }
      }
    },
    {
      "cell_type": "markdown",
      "source": [
        "Finalmente te dejo el <a href=\"https://drive.google.com/file/d/1HZW_uzzJ6igegWrhIiUMXPmglNCZiJRS/view\">link</a> al código equivalente de este notebook."
      ],
      "metadata": {
        "nteract": {
          "transient": {
            "deleting": false
          }
        }
      }
    }
  ],
  "metadata": {
    "kernelspec": {
      "name": "xcpp11",
      "display_name": "C++11",
      "language": "C++11"
    },
    "language_info": {
      "codemirror_mode": "text/x-c++src",
      "file_extension": ".cpp",
      "mimetype": "text/x-c++src",
      "name": "c++",
      "version": "11"
    },
    "nteract": {
      "version": "0.25.0"
    }
  },
  "nbformat": 4,
  "nbformat_minor": 4
}