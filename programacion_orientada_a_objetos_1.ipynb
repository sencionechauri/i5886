{
  "cells": [
    {
      "cell_type": "markdown",
      "source": [
        "# <center>Programación Orientada a Objetos</center>"
      ],
      "metadata": {}
    },
    {
      "cell_type": "markdown",
      "source": [
        "## <center>¿Qué es?</center>\n",
        "\n",
        "Grady Booch, autor del método de diseño orientado a objetos, define la programación orientada a objetos como:\n",
        "\n",
        "> Un método de implementación en el que los programas se organizan como colecciones cooperativas de objetos, cada uno de los cuales representan una instancia de alguna clase, y cuyas clases son todas miembros de una jerarquía de clases unidas mediante relaciones de herencia."
      ],
      "metadata": {}
    },
    {
      "cell_type": "markdown",
      "source": [
        "La programación orientada a objetos es un paradigma de programación, es decir, una forma particular de entender a la programación con sus propios problemas y soluciones modelo.\n",
        "\n",
        "Dentro de la programación orientada a objetos se considera que todas las entidades de la realidad (tangibles e intangibles) son bojetos, en verdad, todas (personas, libros, aulas, lámparas, ideas, vehículos, árboles, computadoras, platos, puertas, ventanas, etc...)."
      ],
      "metadata": {
        "nteract": {
          "transient": {
            "deleting": false
          }
        }
      }
    },
    {
      "cell_type": "markdown",
      "source": [
        "## <center>Objeto</center>\n",
        "La idea fundamental en los lenguajes orientados a objetos es combinar en una sola unidad *datos y funciones que operan sobre esos datos*. Dentro de los objetos residen los datos de los lenguajes de programación tradicionales, tales como números, arreglos, cadenas, etc. así como funciones o subrutinas que operan sobre ellos.\n"
      ],
      "metadata": {
        "nteract": {
          "transient": {
            "deleting": false
          }
        }
      }
    },
    {
      "cell_type": "markdown",
      "source": [
        "Contrstando esta definición con la que tenemos para los registros (struct) ahora no solo tendremos datos agrupados sino tambén las operaciones que actúan sobre esos datos o las acciones que puede desempeñar ese objeto.\n",
        "\n",
        "Puedes imaginarlo como un registro en el cual ahora también tendremos métodos y funciones empaquetados en una sola entidad.\n",
        "\n",
        "A esta característica de tener tanto datos como comportamientos agrupados se le conoce como **encapsulamiento** de la infromación."
      ],
      "metadata": {
        "nteract": {
          "transient": {
            "deleting": false
          }
        }
      }
    },
    {
      "cell_type": "markdown",
      "source": [
        "Otra característica de la programación orientada a objetos es el **ocultamiento** de la información. Con ello nos referimos a que la información de un objeto no debe ser de libre acceso al exterior, es decir, debe ser **privada**.\n",
        "\n",
        "La idea detrás de este concepto es modelar de forma más precisa la realidad, para entenderlo de mejor forma imaginemos un ejemplo:\n",
        "\n",
        "Imagina que te realizan una encuesta telefónica o en la vía pública y como parte de la encuesta te preguntan tu edad para realizar estadísticas. Ahora imagina que el encuestador escribe mal tu edad. En la realidad que vivimos, ese error no representa nada para tu persona y si acaso afectará las estadísticas de la encuesta. Ahora bien ¿porqué ese fallo no afecta tu persona? pues porque tu información es privada y tú tienes control sobre ella. Es precisamente ese comportamiento el que se quiere replicar al hacer que la información de los objetos sea privada en la programación orientada a objetos. Si la información fuera pública, entonces cualquiera podría modificarla y el encuestador con el hecho de haber anotado mal tu edad te habría añadido o quitado años instantáneamente... en este punto creo que coincidiremos en que eso no sucede en la vida real."
      ],
      "metadata": {
        "nteract": {
          "transient": {
            "deleting": false
          }
        }
      }
    },
    {
      "cell_type": "markdown",
      "source": [
        "Como parte de la programación orientada a objetos se considera que existen distintos permisos o niveles de visibilidad para los atributos y métodos de los objetos. Dichos atributos y métodos o comportamientos pueden ser:\n",
        "\n",
        "* públicos\n",
        "* privados\n",
        "* protegidos"
      ],
      "metadata": {
        "nteract": {
          "transient": {
            "deleting": false
          }
        }
      }
    },
    {
      "cell_type": "markdown",
      "source": [
        "Ahora bien, si los **atributos de un objeto son privados** y no se pueden modificar desde el exterior ¿Entonces cómo le podemos das valor a esos atributos? La respuesta está en los métodos. Para cada atributo habrá un par de **métodos de interfaz públicos** uno que nos permitan asignar valor al atributo y otro que nos permita obtener el valor del atributo. Dichos métodos se conocen como *setterrs y getters*.\n",
        "\n",
        "Por ejemplo si modelaramos a una entidad Persona tal vez tendría un atributo *nombre* que fuera privado, los métodos de interfaz para dicho atributo se llamarían:\n",
        "\n",
        "* setNombre\n",
        "* getNombre\n",
        "\n",
        "siendo el método *set* el utilizado para asignar valor y la función *get* la utilizada para obtener el valor almacenado."
      ],
      "metadata": {
        "nteract": {
          "transient": {
            "deleting": false
          }
        }
      }
    },
    {
      "cell_type": "markdown",
      "source": [
        "## <center>Clase</center>\n",
        "\n",
        "Una clase es la descripción de un conjunto de objetos; consta de métodos y datos que resumen características comunes de un conjunto de objetos. Se pueden definir muchos objetos de la misma clase.\n",
        "\n",
        "Las clases son similares a los tipos de datos y equivalen a modelos o plantillas que describen cómo se construyen ciertos tipos de objetos. Cada vez que se construye un objeto se crea una *instancia* de esa clase. Una instancia es una variable de tipo objeto."
      ],
      "metadata": {
        "nteract": {
          "transient": {
            "deleting": false
          }
        }
      }
    },
    {
      "cell_type": "markdown",
      "source": [
        "Las clases son el modelo a partir del cual construiremos nuestros objetos. Definimos la clase una vez y a partir de esa clase creamos cuantos objetos sea necesario."
      ],
      "metadata": {
        "nteract": {
          "transient": {
            "deleting": false
          }
        }
      }
    },
    {
      "cell_type": "markdown",
      "source": [
        "Para representar una clases podemos utilizar el *diagrama de clase* de UML, el cual es una representación gráfica con tres secciones: una para el nombre, otra para los atributos y una para los procedimientos.\n",
        "\n",
        "A continuación se muestra una imagen en la cual del lado izquierda está el modelo general para una clase y del lado derecho un ejemplo para una clase Persona con los atributos nombre, peso y edad y sus tipos correspondientes y en la parte inferior los metodos. Los símbolos - y + denotan que los atributos son privados y los métodos públicos.\n",
        "\n",
        "<center><img src=\"media/diagrama_clase.png\" width=75% /></center>"
      ],
      "metadata": {
        "nteract": {
          "transient": {
            "deleting": false
          }
        }
      }
    },
    {
      "cell_type": "markdown",
      "source": [
        "## <center>Creación de Clases en C++</center>\n",
        "\n",
        "Para crear una clase en C++ se utiliza la palabra reservada **class** seguida del nombre de la clase y entre llaves los atributos y métodos necesarios. Para indicar los permisos de acceso existen las etiquetas **public**, **protected** y **private**.\n",
        "\n",
        "```\n",
        "class <nombre>\n",
        "{\n",
        "    public:\n",
        "        <atributos públicos>\n",
        "        <metodos públicos>\n",
        "    protected:\n",
        "        <atributos protegidos>\n",
        "        <métodos protegidos>\n",
        "    private:\n",
        "        <atributos privados>\n",
        "        <métodos privados>\n",
        "};\n",
        "```"
      ],
      "metadata": {
        "nteract": {
          "transient": {
            "deleting": false
          }
        }
      }
    },
    {
      "cell_type": "markdown",
      "source": [
        "## <center>Acceso a Miembros de Clase</center>\n",
        "\n",
        "Se utilizan dos operadores para acceder a los miembros de clases: el operador miembro de la clase (.), también llamado operador punto, y el operador apuntador de la clase (->), también llamado operador flecha.\n",
        "\n",
        "\n",
        "<nombreVariable\\>.<nombreMiembro\\>;"
      ],
      "metadata": {
        "nteract": {
          "transient": {
            "deleting": false
          }
        }
      }
    },
    {
      "cell_type": "markdown",
      "source": [
        "<center>Ejemplo</center>\n",
        "\n",
        "Buen ya mucho texto, a continuación implementaremos una clase Persona con los atributos nombre, peso y edad y los comportamientos hablar y comer."
      ],
      "metadata": {
        "nteract": {
          "transient": {
            "deleting": false
          }
        }
      }
    },
    {
      "cell_type": "code",
      "source": [
        "#include <iostream>\n",
        "using namespace std;"
      ],
      "outputs": [],
      "execution_count": null,
      "metadata": {
        "collapsed": true,
        "jupyter": {
          "source_hidden": false,
          "outputs_hidden": false
        },
        "nteract": {
          "transient": {
            "deleting": false
          }
        }
      }
    },
    {
      "cell_type": "code",
      "source": [
        "class Persona\n",
        "{\n",
        "public:\n",
        "    /*\n",
        "    Constructor. Método especial que se ejecuta cuando se crea cada variable o instancia tipo Persona. Tiene el mismo nombre que la clase.\n",
        "    */\n",
        "    Persona(); \n",
        "    /*\n",
        "    Destructor. Método especial que se ejecuta justo antes de que la variable o instancia tipo Persona sea eliminada de la memoria. Tiene el mismo nombre que la clase precedida por una virgulilla.\n",
        "    */\n",
        "    ~Persona();\n",
        "    \n",
        "    //Declaración de los prototipos para los métodos de interfaz\n",
        "    \n",
        "    //Establece valor al atributo nombre. Recibe una referencia constante.\n",
        "    void setNombre(const string& value); \n",
        "  \n",
        "    //Obtiene el valor del atributo nombre. const del lado derecho indica que los atributos del objeto no deben cambiar durante la ejecución de la función\n",
        "    string getNombre() const;\n",
        "  \n",
        "    //Dado que recibe un flotante lo recibe por valor y no por referencia (los tipos de dato pequeños los podemos recibir por valor)\n",
        "    void setPeso(float value); \n",
        "  \n",
        "    float getPeso() const;\n",
        "    void setEdad(int value);\n",
        "    int getEdad() const;\n",
        "  \n",
        "    //Comportamientos\n",
        "    void hablar(const string& mensaje);\n",
        "    void comer(const string& alimento);\n",
        "    \n",
        "  //Atributos privados\n",
        "private:\n",
        "    string nombre;\n",
        "    float peso;\n",
        "    int edad;\n",
        "};"
      ],
      "outputs": [],
      "execution_count": null,
      "metadata": {
        "collapsed": true,
        "jupyter": {
          "source_hidden": false,
          "outputs_hidden": false
        },
        "nteract": {
          "transient": {
            "deleting": false
          }
        }
      }
    },
    {
      "cell_type": "markdown",
      "source": [
        "Una vez declarada la clase hacemos la implementación de los métodos y funciones de la misma. Cada uno de dichos métodos/funciones debe estar precedido por el nombre de la clase y un par de : para indicar a qué pertenecen a la clase."
      ],
      "metadata": {
        "nteract": {
          "transient": {
            "deleting": false
          }
        }
      }
    },
    {
      "cell_type": "code",
      "source": [
        "//Constructor\n",
        "Persona::Persona()\n",
        "{\n",
        "    //Podemos dar valor inicial a los atributos de la clase.\n",
        "    nombre = \"-\";\n",
        "    peso = 0.0;\n",
        "    edad = 0;\n",
        "    \n",
        "    //También podemos utilizar cualquier código valido de C++\n",
        "    cout <<\"Hola Mundo! :D\" <<endl;\n",
        "}"
      ],
      "outputs": [],
      "execution_count": null,
      "metadata": {
        "collapsed": true,
        "jupyter": {
          "source_hidden": false,
          "outputs_hidden": false
        },
        "nteract": {
          "transient": {
            "deleting": false
          }
        }
      }
    },
    {
      "cell_type": "code",
      "source": [
        "//Destructor\n",
        "Persona::~Persona()\n",
        "{\n",
        "    //Código que necesite ser ejecutado antes de la eliminación del objeto.\n",
        "  cout <<\"Me quieren eliminaaaar aiudaaaaaaa x.x\" <<endl;\n",
        "}"
      ],
      "outputs": [],
      "execution_count": null,
      "metadata": {
        "collapsed": true,
        "jupyter": {
          "source_hidden": false,
          "outputs_hidden": false
        },
        "nteract": {
          "transient": {
            "deleting": false
          }
        }
      }
    },
    {
      "cell_type": "code",
      "source": [
        "void Persona::setNombre(const string& value)\n",
        "{\n",
        "    //Asignamos el argumento recibido al atributo nombre\n",
        "    nombre = value;\n",
        "}"
      ],
      "outputs": [],
      "execution_count": null,
      "metadata": {
        "collapsed": true,
        "jupyter": {
          "source_hidden": false,
          "outputs_hidden": false
        },
        "nteract": {
          "transient": {
            "deleting": false
          }
        }
      }
    },
    {
      "cell_type": "code",
      "source": [
        "string Persona::getNombre() const\n",
        "{\n",
        "    //Regresamos el valor del atributo nombre\n",
        "    return nombre;\n",
        "}"
      ],
      "outputs": [],
      "execution_count": null,
      "metadata": {
        "collapsed": true,
        "jupyter": {
          "source_hidden": false,
          "outputs_hidden": false
        },
        "nteract": {
          "transient": {
            "deleting": false
          }
        }
      }
    },
    {
      "cell_type": "code",
      "source": [
        "void Persona::setPeso(float value)\n",
        "{\n",
        "    peso = value;\n",
        "}"
      ],
      "outputs": [],
      "execution_count": null,
      "metadata": {
        "collapsed": true,
        "jupyter": {
          "source_hidden": false,
          "outputs_hidden": false
        },
        "nteract": {
          "transient": {
            "deleting": false
          }
        }
      }
    },
    {
      "cell_type": "code",
      "source": [
        "float Persona::getPeso() const\n",
        "{\n",
        "    return peso;\n",
        "}"
      ],
      "outputs": [],
      "execution_count": null,
      "metadata": {
        "collapsed": true,
        "jupyter": {
          "source_hidden": false,
          "outputs_hidden": false
        },
        "nteract": {
          "transient": {
            "deleting": false
          }
        }
      }
    },
    {
      "cell_type": "code",
      "source": [
        "void Persona::setEdad(int value)\n",
        "{\n",
        "    edad = value;\n",
        "}"
      ],
      "outputs": [],
      "execution_count": null,
      "metadata": {
        "collapsed": true,
        "jupyter": {
          "source_hidden": false,
          "outputs_hidden": false
        },
        "nteract": {
          "transient": {
            "deleting": false
          }
        }
      }
    },
    {
      "cell_type": "code",
      "source": [
        "int Persona::getEdad() const\n",
        "{\n",
        "    return edad;\n",
        "}"
      ],
      "outputs": [],
      "execution_count": null,
      "metadata": {
        "collapsed": true,
        "jupyter": {
          "source_hidden": false,
          "outputs_hidden": false
        },
        "nteract": {
          "transient": {
            "deleting": false
          }
        }
      }
    },
    {
      "cell_type": "code",
      "source": [
        "void Persona::hablar(const string& mensaje)\n",
        "{\n",
        "    cout <<nombre <<\": \" <<mensaje <<endl;\n",
        "}"
      ],
      "outputs": [],
      "execution_count": null,
      "metadata": {
        "collapsed": true,
        "jupyter": {
          "source_hidden": false,
          "outputs_hidden": false
        },
        "nteract": {
          "transient": {
            "deleting": false
          }
        }
      }
    },
    {
      "cell_type": "code",
      "source": [
        "void Persona::comer(const string& alimento)\n",
        "{\n",
        "    cout <<nombre <<\" está comiendo \" <<alimento <<endl;\n",
        "}"
      ],
      "outputs": [],
      "execution_count": null,
      "metadata": {
        "collapsed": true,
        "jupyter": {
          "source_hidden": false,
          "outputs_hidden": false
        },
        "nteract": {
          "transient": {
            "deleting": false
          }
        }
      }
    },
    {
      "cell_type": "code",
      "source": [
        "Ahora crearemos instancias o variables del tipo Persona, asignamos valor a sus atributos y utilizamos sus comportamientos."
      ],
      "outputs": [],
      "execution_count": null,
      "metadata": {
        "collapsed": true,
        "jupyter": {
          "source_hidden": false,
          "outputs_hidden": false
        },
        "nteract": {
          "transient": {
            "deleting": false
          }
        }
      }
    },
    {
      "cell_type": "code",
      "source": [
        "int main()\n",
        "{\n",
        "    Persona per1;\n",
        "    Persona per2;\n",
        "    string nombre;\n",
        "    int edad;\n",
        "    float peso;\n",
        "    string mensaje;\n",
        "    string alimento;\n",
        "  \n",
        "    //Asignamos valor a los atributos de la persona 1\n",
        "    per1.setNombre(\"John Doe\");\n",
        "    per1.setEdad(55);\n",
        "    per1.setPeso(66.77);\n",
        "    \n",
        "    //Mostramos los datos de la persona 1\n",
        "    cout <<\"Los datos de la persona son: \" <<endl\n",
        "        <<\"Nombre: \" <<per1.getNombre() <<endl\n",
        "       <<\"Edad: \" <<per1.getEdad() <<endl\n",
        "      <<\"Peso: \" <<per1.getPeso() <<endl;\n",
        "  \n",
        "    per1.hablar(\"Estoy aprendiendo programación Orientada a Objetos\");\n",
        "    per1.comer(\"Fish and chips\");\n",
        "  \n",
        "    //Ahora asignaremos valor a los datos de la persona 2 solicitándolos desde la consola\n",
        "    cout <<\"Ingresa los datos de una persona\" <<endl\n",
        "        <<\"Nombre: \";\n",
        "    cin.ignore();\n",
        "    getline(cin, nombre);\n",
        "    per2.setNombre(nombre);\n",
        "    cout <<\"Edad: \";\n",
        "    cin >>edad;\n",
        "    per2.setEdad(edad);\n",
        "    cout <<\"Peso: \";\n",
        "    cin >>peso;\n",
        "    per2.setPeso(peso);\n",
        "    cout <<\"¿Qué dice la persona 2? \";\n",
        "    cin.ignore();\n",
        "    getline(cin, mensaje);\n",
        "    cout <<\"¿Qué está comiendo la persona 2? \";\n",
        "    getline(cin, alimento);\n",
        "  \n",
        "   //Mostramos los datos de la persona 2\n",
        "    cout <<\"Los datos de la persona son: \" <<endl\n",
        "        <<\"Nombre: \" <<per2.getNombre() <<endl\n",
        "       <<\"Edad: \" <<per2.getEdad() <<endl\n",
        "      <<\"Peso: \" <<per2.getPeso() <<endl;\n",
        "  \n",
        "    per2.hablar(mensaje);\n",
        "    per1.comer(alimento);\n",
        "}"
      ],
      "outputs": [],
      "execution_count": null,
      "metadata": {
        "collapsed": true,
        "jupyter": {
          "source_hidden": false,
          "outputs_hidden": false
        },
        "nteract": {
          "transient": {
            "deleting": false
          }
        }
      }
    },
    {
      "cell_type": "markdown",
      "source": [
        "Finalmente utilizamos el método *main()* porque estamos en un notebook y nuestro programa debe correr mostrando los datos de una persona y solicitando los de otra."
      ],
      "metadata": {
        "nteract": {
          "transient": {
            "deleting": false
          }
        }
      }
    },
    {
      "cell_type": "code",
      "source": [
        "main();"
      ],
      "outputs": [],
      "execution_count": null,
      "metadata": {
        "collapsed": true,
        "jupyter": {
          "source_hidden": false,
          "outputs_hidden": false
        },
        "nteract": {
          "transient": {
            "deleting": false
          }
        }
      }
    },
    {
      "cell_type": "markdown",
      "source": [
        "En <a href=\"https://drive.google.com/file/d/1JVq-DLRV53IufP55SiOsSiyotf2bmSwY/view?usp=sharing\">este enlace</a> se encuentra el código para la clase Persona. Algo que no se mencionó previamente es el hecho que en C++ las clases suelen separarse en dos archivos distintos, uno con extensión **.h** y otro con extensión **.cpp**.\n",
        "\n",
        "En el archivo **.h** se encuentra la declaración de la clase y en el archivo **.cpp** vamos a implementar todos los métodos y funciones de la clase."
      ],
      "metadata": {
        "nteract": {
          "transient": {
            "deleting": false
          }
        }
      }
    }
  ],
  "metadata": {
    "kernelspec": {
      "name": "xcpp11",
      "display_name": "C++11",
      "language": "C++11"
    },
    "language_info": {
      "codemirror_mode": "text/x-c++src",
      "file_extension": ".cpp",
      "mimetype": "text/x-c++src",
      "name": "c++",
      "version": "11"
    },
    "nteract": {
      "version": "0.25.0"
    }
  },
  "nbformat": 4,
  "nbformat_minor": 4
}