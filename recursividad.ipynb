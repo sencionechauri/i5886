{
  "cells": [
    {
      "cell_type": "markdown",
      "source": [
        "# <center>Recursividad</center>"
      ],
      "metadata": {}
    },
    {
      "cell_type": "markdown",
      "source": [
        "## <center>¿Qué es?</center>\n",
        "Capacidad de una función para llamarse a sí misma directa o indirectamente."
      ],
      "metadata": {}
    },
    {
      "cell_type": "markdown",
      "source": [
        "## <center>Tipos</center>\n",
        "\n",
        "Recursividad lineal: máximo una llamada recursiva por\n",
        "rama condicional.\n",
        "\n",
        "* Por la cola\n",
        "* No por la cola\n",
        "\n",
        "\n",
        "Recursividad no lineal: Más de una llamada recursiva.\n",
        "\n",
        "* En cascada\n",
        "* Anidada"
      ],
      "metadata": {
        "nteract": {
          "transient": {
            "deleting": false
          }
        }
      }
    },
    {
      "cell_type": "markdown",
      "source": [
        "### <center>Recursividad No Por La Cola</center>\n",
        "\n",
        "Queda pendiente una operación en cada llamado recursivo.\n",
        "\n",
        "El primer llamado retorna el resultado.\n",
        "\n",
        "```\n",
        "int factorial (int n)\n",
        "{\n",
        "    if (n <= 1)\n",
        "        return 1;\n",
        "    else\n",
        "        return n * factorial (n-1);\n",
        "}\n",
        "```\n",
        "\n",
        "<center><img src=\"media/recursividad_no_por_la_cola.png\" width=50% /></center>\n"
      ],
      "metadata": {
        "nteract": {
          "transient": {
            "deleting": false
          }
        }
      }
    },
    {
      "cell_type": "markdown",
      "source": [
        "### <center>Recursividad Por La Cola</center>\n",
        "\n",
        "No hay operaciones pendientes. El último llamado retorna el resultado.\n",
        "\n",
        "\n",
        "```\n",
        "int factorial (int n)\n",
        "{\n",
        "    return fact (n, 1);\n",
        "}\n",
        "\n",
        "int fact (int n, int m)\n",
        "{\n",
        "    if (n <= 1)\n",
        "        return m;\n",
        "    else\n",
        "        fact (n-1, n*m);\n",
        "}\n",
        "```\n",
        "\n",
        "<center><img src=\"media/recursividad_por_la_cola.png\" width=50% /></center>\n"
      ],
      "metadata": {
        "nteract": {
          "transient": {
            "deleting": false
          }
        }
      }
    },
    {
      "cell_type": "markdown",
      "source": [
        "## <center>Recursividad En Cascada</center>\n",
        "\n",
        "Dos o más llamados recursivos dentro del cuerpo de la función.\n",
        "\n",
        "```\n",
        "int fibonacci (int n)\n",
        "{\n",
        "    if (n <= 1)\n",
        "        return n;\n",
        "    else\n",
        "        return fibonacci (n-1)+fibonacci (n-2);\n",
        "}\n",
        "```\n",
        "\n",
        "<center><img src=\"media/recursividad_en_cascada.png\" width=90% /></center>"
      ],
      "metadata": {
        "nteract": {
          "transient": {
            "deleting": false
          }
        }
      }
    },
    {
      "cell_type": "markdown",
      "source": [
        "## <center>Recursividad Anidada</center>\n",
        "\n",
        "El llamado recursivo se tiene como parámetro a la misma función invocada.\n",
        "\n",
        "```\n",
        "int morris (int n, int m)\n",
        "{\n",
        "    if (n == m)\n",
        "        return m + 1;\n",
        "    else\n",
        "        return morris (n,morris(n-1, m+1));\n",
        "}\n",
        "```\n",
        "\n",
        "<center><img src=\"media/recursividad_anidada.png\" width=70% /></center>"
      ],
      "metadata": {
        "nteract": {
          "transient": {
            "deleting": false
          }
        }
      }
    }
  ],
  "metadata": {
    "kernelspec": {
      "name": "xcpp11",
      "display_name": "C++11",
      "language": "C++11"
    },
    "language_info": {
      "codemirror_mode": "text/x-c++src",
      "file_extension": ".cpp",
      "mimetype": "text/x-c++src",
      "name": "c++",
      "version": "11"
    },
    "nteract": {
      "version": "0.25.1"
    }
  },
  "nbformat": 4,
  "nbformat_minor": 4
}