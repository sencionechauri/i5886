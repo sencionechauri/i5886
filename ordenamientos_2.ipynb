{
  "cells": [
    {
      "cell_type": "markdown",
      "source": [
        "# <center>Ordenamientos</center>\n",
        "## <center>continuación</center>"
      ],
      "metadata": {
        "nteract": {
          "transient": {
            "deleting": false
          }
        }
      }
    },
    {
      "cell_type": "markdown",
      "source": [
        "## Ordenamiento por Inserción\n",
        "\n",
        "El ordenamiento por inserción trabaja de la forma en que muchas personas ordenan una mano de cartas de baraja. Se comienza con la mano izquierda vacía y las cartas hacia abajo. Después se remueve una carta de la mesa y se inserta en la posición correcta en la mano izquierda.\n",
        "\n",
        "Utiliza el ordenamiento por inserción cuando se tenga un número pequeño de elementos a ordenar o si los elementos en la colección inicial ya están “casi ordenados”."
      ],
      "metadata": {
        "nteract": {
          "transient": {
            "deleting": false
          }
        }
      }
    },
    {
      "cell_type": "markdown",
      "source": [
        "```\n",
        "Inserción(A[0...n-1])\n",
        "//Ordena un arreglo por el método inserción\n",
        "//Entrada: Un arreglo A[0...n-1] n de elementos ordenables\n",
        "//Salida: Arreglo A[0...n-1] ordenados de forma no decreciente\n",
        "\n",
        "desde i ← 1 hasta n - 1 hacer\n",
        "    v ← A[i]\n",
        "    j ← i - 1\n",
        "    mientras j >= 0 y A[j] > v hacer\n",
        "        A[j + 1] ← A[j]\n",
        "        j ← j - 1\n",
        "    A[j + 1] ← v"
      ],
      "metadata": {
        "nteract": {
          "transient": {
            "deleting": false
          }
        }
      }
    },
    {
      "cell_type": "markdown",
      "source": [
        "## Shell sort\n",
        "\n",
        "Es un método de ordenamiento “en sitio”. Se puede interpretar como una generalización de ordenamiento por intercambio (burbuja) u ordenamiento por inserción (inserción). El método comienza ordenando pares de elementos lejanos entre si y posteriormente reduce de forma progresiva la distancia entre los elementos comparados."
      ],
      "metadata": {
        "nteract": {
          "transient": {
            "deleting": false
          }
        }
      }
    },
    {
      "cell_type": "markdown",
      "source": [
        "```\n",
        "Shellsort(A[0...n-1])\n",
        "//Ordena un arreglo por el método shellsort\n",
        "//Entrada: Un arreglo A[0...n-1] n de elementos ordenables\n",
        "//Salida: Arreglo A[0...n-1] ordenados de forma no decreciente\n",
        "\n",
        "brecha ← n / 2\n",
        "mientras brecha > 0 hacer\n",
        "    desde i ← brecha hasta n - 1 hacer\n",
        "        temp ← A[i]\n",
        "        j ← i\n",
        "        mientras j >= brecha y A[j – brecha] > temp hacer\n",
        "            A[j] ← A[j – brecha]\n",
        "            j ← j – brecha\n",
        "        A[j] ← temp\n",
        "    brecha ← brecha / 2\n",
        "```"
      ],
      "metadata": {
        "nteract": {
          "transient": {
            "deleting": false
          }
        }
      }
    },
    {
      "cell_type": "markdown",
      "source": [
        "## Ordenamiento por Mezcla (Mergesort)\n",
        "\n",
        "Este ordenamiento es un ejemplo perfecto de una aplicación exitosa de la técnica divide y vencerás. \n",
        "\n",
        "Ordena un arreglo $A[0...n - 1]$ al dividirlo en dos mitades $A[0...n/2 – 1]$ y $A[n/2...n – 1]$ ordenando cada una de ellas recursivamente y después mezclando los dos arreglos pequeños ya ordenados en uno sólo ordenado."
      ],
      "metadata": {
        "nteract": {
          "transient": {
            "deleting": false
          }
        }
      }
    },
    {
      "cell_type": "markdown",
      "source": [
        "```\n",
        "Mergesort(A[0...n - 1])\n",
        "//Ordena un arreglo por el método de mezcla\n",
        "//Entrada: Un arreglo A[0...n-1] de elementos ordenables\n",
        "//Salida: Arreglo A[0...n-1] ordenado de forma no decreciente\n",
        "\n",
        "si n > 1\n",
        "\tp ← redondear_abajo((n – 1) / 2)\n",
        "\tcopiar A[0...p] a B[0...p]\n",
        "\tsi modulo(n, 2) = 0\n",
        "\t\tcopiar A[p + 1...n – 1] a C[0...p]\n",
        "\tsino\n",
        "\t\tcopiar A[p + 1...n – 1] a C[0...p – 1]\n",
        "\tMergesort(B)\n",
        "\tMergesort(C)\n",
        "\tMerge(B, C, A)\n",
        "```"
      ],
      "metadata": {
        "nteract": {
          "transient": {
            "deleting": false
          }
        }
      }
    },
    {
      "cell_type": "markdown",
      "source": [
        "El resultado de la operación *Merge* es la creación de una tercer secuencia ordenada que contenga todos los elementos de las primeras dos secuencias ordenadas."
      ],
      "metadata": {
        "nteract": {
          "transient": {
            "deleting": false
          }
        }
      }
    },
    {
      "cell_type": "markdown",
      "source": [
        "```\n",
        "Merge(B[0...p – 1], C[0...q – 1], A[0...p + q - 1])\n",
        "//Mezcla dos arreglos ordenados en un arreglo ordenado\n",
        "//Entrada: arreglos ordenados B[0...p - 1] y C[0...q - 1]\n",
        "//Salida: Arreglo ordenado A[0...p + q - 1] con los elementos de B y C\n",
        "\n",
        "i ← 0; j ← 0; k ← 0\n",
        "mientras i < p y j < q hacer\n",
        "\tsi B[i] <= C[j]\n",
        "\t\tA[k] ← B[i]; i ← i + 1\n",
        "\tsino\n",
        "\t\tA[k] ← C[j]; j ← j + 1\n",
        "\tk ← k + 1\n",
        "si i = p\n",
        "\tCopiar C[j...q – 1] a A[k...p + q – 1]\n",
        "sino\n",
        "\tCopiar B[i...p – 1] a A[k...p + q - 1]\n",
        "```"
      ],
      "metadata": {
        "nteract": {
          "transient": {
            "deleting": false
          }
        }
      }
    },
    {
      "cell_type": "markdown",
      "source": [
        "### Ejemplo\n",
        "\n",
        "<center><img src=\"media/mergesort.png\" width=50%/></center>\n"
      ],
      "metadata": {
        "nteract": {
          "transient": {
            "deleting": false
          }
        }
      }
    },
    {
      "cell_type": "markdown",
      "source": [
        "Mergesort no trabaja en el sitio: tiene que hacer copias completas del arreglo de entrada.\n",
        "\n",
        "Si el espacio apremia, tal vez no quieras usar el ordenamiento por mezcla.\n",
        "\n",
        "Irónicamente su mejor aplicación es para cantidades grandes de datos porque facilita trabajar con divisiones del grupo originalmente desordenado."
      ],
      "metadata": {
        "nteract": {
          "transient": {
            "deleting": false
          }
        }
      }
    },
    {
      "cell_type": "markdown",
      "source": [
        "## Ordenamiento Rápido (Quicksort)\n",
        "\n",
        "Dado un arreglo (o secuencia) a ordenar, quicksort reacomoda este arreglo en dos partes para que todos los elementos en el sub-arreglo izquierdo sean menores o iguales a un valor específico (llamado pivote) y los elementos en el sub-arreglo derecho sean mayores al pivote. El pivote es colocado entre las dos partes. Con ello todos los elementos a la izquierda del valor pivote son menores que todos los elementos a la derecha del pivote, por lo tanto el valor pivote está en su posición correcta. Al repetir el proceso en las dos partes, todo el arreglo queda ordenado."
      ],
      "metadata": {
        "nteract": {
          "transient": {
            "deleting": false
          }
        }
      }
    },
    {
      "cell_type": "markdown",
      "source": [
        "```\n",
        "Quicksort(A[l...r])\n",
        "//Ordena un arreglo por el método rápido\n",
        "//Entrada: sub-arreglo de A[0...n-1] definido por sus índices izquierdo y derecho l y r\n",
        "//Salida: sub-arreglo A[l...r] ordenado de forma no decreciente\n",
        "\n",
        "si l < r\n",
        "\ts ← Particion(A[l...r])\n",
        "\tQuicksort(A[l...s - 1])\n",
        "\tQuicksort(A[s + 1...r])\n",
        "```"
      ],
      "metadata": {
        "nteract": {
          "transient": {
            "deleting": false
          }
        }
      }
    },
    {
      "cell_type": "markdown",
      "source": [
        "### Partición\n",
        "\n",
        "Se recorre el sub-arreglo desde ambos extremos comparando el elemento en el sub-arreglo con el pivote.\n",
        "\n",
        "El recorrido de izquierda a derecha denotado con el índice $i$ (revisar algoritmo) comienza en el segundo elemento. Como se quieren elementos menores al pivote en la parte izquierda del sub-arreglo, éste recorrido salta los elementos que son menores que el pivote y se detiene cuando encuentra el primer elemento mayor o igual al pivote.\n",
        "\n",
        "El recorrido de derecha a izquierda denotado con el índice $j$ (revisar algoritmo) comienza con el último elemento del sub-arreglo. Como se quieren elementos mayores que el pivote en la parte derecha del sub-arreglo, éste recorrido salta los elementos que son mayores que el pivote y se detiene al encontrar el primer elemento menor o igual al pivote."
      ],
      "metadata": {
        "nteract": {
          "transient": {
            "deleting": false
          }
        }
      }
    },
    {
      "cell_type": "markdown",
      "source": [
        "```\n",
        "Particion(A[l...r])\n",
        "//Particiona un subarreglo por el algoritmo de Hoare, usando el primer elemento como pivote.\n",
        "//Entrada: sub-arreglo de A[0...n-1] definido por sus índices izquierdo y derecho l y r (l < r).\n",
        "//Salida: partición de A[l...r] con la posición de separación regresada como valor de la función.\n",
        "\n",
        "p ← A[l]\n",
        "i ← l; j ← r + 1\n",
        "repetir\n",
        "\tmientras A[i] <= p hacer i ← i + 1\n",
        "\tmientras A[j] >= p hacer j ← j - 1 \n",
        "\tintercambiar(A[i], A[j])\n",
        "mientras i < j\n",
        "intercambiar(A[i], A[j]) //deshacer último intercambio\n",
        "intercambiar(A[l], A[j])\n",
        "regresar j\n",
        "```"
      ],
      "metadata": {
        "nteract": {
          "transient": {
            "deleting": false
          }
        }
      }
    },
    {
      "cell_type": "markdown",
      "source": [
        "### Ejemplo\n",
        "\n",
        "<center><img src=\"media/quicksort.png\" width=80%/></center>"
      ],
      "metadata": {
        "nteract": {
          "transient": {
            "deleting": false
          }
        }
      }
    },
    {
      "cell_type": "markdown",
      "source": [
        "Como el ordenamiento de inserción, es un ordenamiento de comparación que ordena en el sitio, pero su eficiencia lo hace una mejor opción para grupos de datos de tamaño mediano a grande."
      ],
      "metadata": {
        "nteract": {
          "transient": {
            "deleting": false
          }
        }
      }
    },
    {
      "cell_type": "markdown",
      "source": [
        "## Conclusiones\n",
        "\n",
        "### Burbuja\n",
        "Es un método sencillo de implementar aunque por su forma de trabajo puede resultar poco eficiente.\n",
        "\n",
        "### Inserción\n",
        "Aunque no es el algoritmo de ordenamiento más eficiente, tiene la virtud de simplicidad y la posibilidad de ordenar en el sitio. Su mejor aplicación es para ordenamiento incremental en pequeñas cantidaddes de información.\n",
        "\n",
        "### Rápido\n",
        "Es un algoritmo de ordenamiento en el sitio ampliamente reconocido como el mejor algoritmo de ordenamiento en casos generales. Su mejor aplicación es para conjuntos de datos medianos a grandes.\n",
        "\n",
        "### Mezcla\n",
        "Un algoritmo escencialmente con el mismo desempeño que quicksort, pero con el doble de requerimientos de espacio. Irónicamente su mejor aplicación es para cantidades grandes de datos porque facilita trabajar con divisiones del grupo originalmente desordenado."
      ],
      "metadata": {
        "nteract": {
          "transient": {
            "deleting": false
          }
        }
      }
    }
  ],
  "metadata": {
    "kernel_info": {
      "name": "python3"
    },
    "language_info": {
      "name": "python",
      "version": "3.7.3",
      "mimetype": "text/x-python",
      "codemirror_mode": {
        "name": "ipython",
        "version": 3
      },
      "pygments_lexer": "ipython3",
      "nbconvert_exporter": "python",
      "file_extension": ".py"
    },
    "kernelspec": {
      "argv": [
        "python",
        "-m",
        "ipykernel_launcher",
        "-f",
        "{connection_file}"
      ],
      "display_name": "Python 3",
      "language": "python",
      "name": "python3"
    },
    "nteract": {
      "version": "0.26.0"
    }
  },
  "nbformat": 4,
  "nbformat_minor": 0
}