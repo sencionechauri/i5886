{
  "cells": [
    {
      "cell_type": "markdown",
      "source": [
        "# <center>Enumerado</center>"
      ],
      "metadata": {}
    },
    {
      "cell_type": "markdown",
      "source": [
        "## <center>¿Qué es?</center>\n",
        "\n",
        "Tipo de dato estructurado que consiste de valores nombrados llamados elementos, miembros o enumeradores del tipo.\n",
        "Los nombres del enumerado son identificadores que se comportan como constantes en el lenguaje."
      ],
      "metadata": {}
    },
    {
      "cell_type": "markdown",
      "source": [
        "Un uso común es para aspectos de configuración que dependen de un valor numérico, al crear el enumerado y dar un identificador para las constantes que lo integran se provee un contexto significativo a valores que de otra forma serían solamente números. \n",
        "\n",
        "Otro uso práctico es para agrupar las constantes que representen opciones de un menú dando sentido a los valores y facilitando el mantenimiento del software."
      ],
      "metadata": {
        "nteract": {
          "transient": {
            "deleting": false
          }
        }
      }
    },
    {
      "cell_type": "markdown",
      "source": [
        "En C++ los enumerados se declaran con la palabra reservada **enum** seguida del identificador que se desee asignarle (se sugiere que inicie en mayúsculas). Al ser constantes se recomienda que los elementos del enumerado sean escritos con letras mayúsculas. Cada elemento se separa con comas y puede recibir un valor específico o no; en caso de no recibir valor el elemento recibe por omisión el valor del elemento anterior más uno. En caso de no asignar valor al primer elemento éste recibe el valor 0.\n"
      ],
      "metadata": {
        "nteract": {
          "transient": {
            "deleting": false
          }
        }
      }
    },
    {
      "cell_type": "code",
      "source": [
        "#include <iostream>\n",
        "\n",
        "using namespace std;\n",
        "\n",
        "/*Para declarar un enumerado utilizamos la palabra enum seguida del identificador que queremos asignarle (se sugiere que inicie en mayúscula)*/\n",
        "enum Opciones\n",
        "{\n",
        "  OPC_SALIR, //Por omisión toma el valor 0\n",
        "  OPC_AGREGAR, //Por omisión toma el valor anterior más uno, es decir OPC_AGREGAR vale 1\n",
        "  OPC_CONSULTAR = 5, //Inicialización para la constante\n",
        "  OPC_ELIMINAR //OPC_ELIMINAR tiene valor de 6\n",
        "};\n",
        "\n",
        "cout <<\"Menú de opciones\" <<endl <<endl\n",
        "<<OPC_AGREGAR <<\") Agregar\" <<endl\n",
        "<<OPC_CONSULTAR <<\") Consultar\" <<endl\n",
        "<<OPC_ELIMINAR <<\") Eliminar\" <<endl\n",
        "<<OPC_SALIR <<\") Salir\" <<endl;"
      ],
      "outputs": [],
      "execution_count": null,
      "metadata": {
        "collapsed": true,
        "jupyter": {
          "source_hidden": false,
          "outputs_hidden": false
        },
        "nteract": {
          "transient": {
            "deleting": false
          }
        }
      }
    },
    {
      "cell_type": "code",
      "source": [
        "/*\n",
        "¡Momento de practicar!\n",
        "Define un enumerado Colores con las siguientes constantes:\n",
        "\n",
        "COLOR_ROJO con valor 1\n",
        "COLOR_VERDE con valor 2\n",
        "COLOR_AZUL con valor 3\n",
        "\n",
        "Una vez definido el enumerado imrpime cada una de las constantes\n",
        "*/"
      ],
      "outputs": [],
      "execution_count": null,
      "metadata": {
        "collapsed": true,
        "jupyter": {
          "source_hidden": false,
          "outputs_hidden": false
        },
        "nteract": {
          "transient": {
            "deleting": false
          }
        }
      }
    },
    {
      "cell_type": "markdown",
      "source": [
        "Por último te dejo el <a href=\"https://drive.google.com/file/d/11luZLuERY8FpzN4-iLJZ-8qup1uh-kmt/view\">link</a> al código equivalente de este notebook."
      ],
      "metadata": {
        "nteract": {
          "transient": {
            "deleting": false
          }
        }
      }
    }
  ],
  "metadata": {
    "kernelspec": {
      "name": "xcpp11",
      "display_name": "C++11",
      "language": "C++11"
    },
    "language_info": {
      "codemirror_mode": "text/x-c++src",
      "file_extension": ".cpp",
      "mimetype": "text/x-c++src",
      "name": "c++",
      "version": "11"
    },
    "nteract": {
      "version": "0.25.0"
    }
  },
  "nbformat": 4,
  "nbformat_minor": 4
}