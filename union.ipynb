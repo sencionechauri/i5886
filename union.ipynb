{
  "cells": [
    {
      "cell_type": "markdown",
      "source": [
        "# <center>Unión</center>"
      ],
      "metadata": {}
    },
    {
      "cell_type": "markdown",
      "source": [
        "## <center>¿Qué es?</center>\n",
        "\n",
        "* Valor que puede tener uno de varias representaciones o formatos dentro de la misma posición en memoria.\n",
        "* Estructura de datos que consiste de una variable que pueda almacenar dicho valor."
      ],
      "metadata": {}
    },
    {
      "cell_type": "markdown",
      "source": [
        "Puede imaginarse como una pieza de memoria utilizada para almacenar variables de diferentes tipos de datos.\n",
        "Cuando un nuevo valor es asignado a un campo, la información existente es reemplazada con la nueva.\n",
        "El área de memoria que almacena el valor no tiene un tipo intrínseco."
      ],
      "metadata": {
        "nteract": {
          "transient": {
            "deleting": false
          }
        }
      }
    },
    {
      "cell_type": "markdown",
      "source": [
        "En C y C++ las uniones sin etiqueta se expresan casi exactamente como registros (estructuras), con la excepción que cada miembro de datos comienza en la misma posición de memoria.\n",
        "\n",
        "Como en las estructuras, todos los miembros de una unión son por defecto públicos."
      ],
      "metadata": {
        "nteract": {
          "transient": {
            "deleting": false
          }
        }
      }
    },
    {
      "cell_type": "code",
      "source": [
        "#include <iostream>\n",
        "\n",
        "using namespace std;\n",
        "\n",
        "/*Para declarar una unión utilizamos la palabra union seguida del identificador que queremos asignarle (se sugiere que inicie en mayúscula)*/\n",
        "union Estatura\n",
        "{\n",
        "  int centimetros;\n",
        "  float metros;\n",
        "};\n",
        "\n",
        "Estatura e;\n",
        "//La unión se comporta como un entero y el campo accesible es centimetros\n",
        "e.centimetros = 181;\n",
        "cout <<\"Estatura: \" <<e.centimetros <<\"cm\" <<endl;\n",
        "\n",
        "//Ahora la unión se comportará como un número real y el único campo accesible será metros\n",
        "e.metros = 1.81;\n",
        "cout <<\"Estatura: \" <<e.metros <<\"mts\" <<endl;"
      ],
      "outputs": [],
      "execution_count": null,
      "metadata": {
        "collapsed": true,
        "jupyter": {
          "source_hidden": false,
          "outputs_hidden": false
        },
        "nteract": {
          "transient": {
            "deleting": false
          }
        }
      }
    },
    {
      "cell_type": "code",
      "source": [
        "%%python\n",
        "from IPython.display import HTML\n",
        "\n",
        "HTML(\"\"\"\n",
        "<center>\n",
        "<iframe src=\"https://drive.google.com/file/d/1IYBjyYEFcS0GSWET96CW_cKUIQ2wUV3J/preview\" width=\"320\" height=\"240\"></iframe></center>\n",
        "<center><h3>Vídeo</center>\n",
        "\"\"\")"
      ],
      "outputs": [],
      "execution_count": null,
      "metadata": {
        "collapsed": true,
        "jupyter": {
          "source_hidden": false,
          "outputs_hidden": false
        },
        "nteract": {
          "transient": {
            "deleting": false
          }
        }
      }
    },
    {
      "cell_type": "markdown",
      "source": [
        "## <center>Diferencias entre Registros y Uniones</center>\n",
        "<center>\n",
        "<table class=\"center\">\n",
        "  <tr>\n",
        "    <th>Registro</th>\n",
        "    <th>Unión</th>\n",
        "  </tr>\n",
        "  <tr>\n",
        "    <td>Todos los datos miembro se almacenan en memoria continua</td>\n",
        "    <td>Todos los datos miembro son mapeados a la misma posición de memoria</td>\n",
        "  </tr>\n",
        "  <tr>\n",
        "    <td>Un “objeto” se compone de otros objetos</td>\n",
        "    <td>Un objeto puede ser una de varias cosas, pero sólamente una a la vez</td>\n",
        "  </tr>\n",
        "  <tr>\n",
        "    <td>El tamaño de un objeto es la suma de todos los datos miembro</td>\n",
        "    <td>El tamaño de un objeto es el del dato que necesite mayor memoria</td>\n",
        "  </tr>\n",
        "</table>\n",
        "</center>"
      ],
      "metadata": {}
    },
    {
      "cell_type": "markdown",
      "source": [
        "En caso de hacer inicialización explícita, el valor activo será el primero declarado en la unión. Si se intenta consultar el valor de uno de los campos que no sean el activo el comportamiento es desconocido."
      ],
      "metadata": {
        "nteract": {
          "transient": {
            "deleting": false
          }
        }
      }
    },
    {
      "cell_type": "code",
      "source": [
        "/*\n",
        "¡A practicar se ha dicho!\n",
        "Define una union Peso con los siguientes campos:\n",
        "\n",
        "gramos de tipo entero\n",
        "kilos de tipo número flotante\n",
        "\n",
        "Una vez definido el registro crea una variable y solicita alguno de sus campos para después imprimirlo\n",
        "*/"
      ],
      "outputs": [],
      "execution_count": null,
      "metadata": {
        "collapsed": true,
        "jupyter": {
          "source_hidden": false,
          "outputs_hidden": false
        },
        "nteract": {
          "transient": {
            "deleting": false
          }
        }
      }
    },
    {
      "cell_type": "markdown",
      "source": [
        "Finalmente te dejo el <a href=\"https://drive.google.com/file/d/1XFu7lpYhhY4TEHOXdWIdpADit13emgiE/view\">link</a> al código equivalente de este notebook."
      ],
      "metadata": {
        "nteract": {
          "transient": {
            "deleting": false
          }
        }
      }
    }
  ],
  "metadata": {
    "kernelspec": {
      "name": "xcpp11",
      "display_name": "C++11",
      "language": "C++11"
    },
    "language_info": {
      "codemirror_mode": "text/x-c++src",
      "file_extension": ".cpp",
      "mimetype": "text/x-c++src",
      "name": "c++",
      "version": "11"
    },
    "nteract": {
      "version": "0.25.0"
    }
  },
  "nbformat": 4,
  "nbformat_minor": 4
}