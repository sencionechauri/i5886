{
  "cells": [
    {
      "cell_type": "markdown",
      "source": [
        "# <center>Arreglo</center>"
      ],
      "metadata": {}
    },
    {
      "cell_type": "markdown",
      "source": [
        "## <center>¿Qué es?</center>\n",
        "* Tipo de dato estructurado en el que se almacena un **conjunto finito** y **ordenado** de datos del **mismo tipo**, los cuales están agrupados en una sola **variable**.\n",
        "\n",
        "En C++ la declaración de un arreglo es como en C, necesitas declarar el tipo de dato, el nombre que tendrá el arreglo y la cantidad de elementos."
      ],
      "metadata": {}
    },
    {
      "cell_type": "code",
      "source": [
        "#include <iostream>\n",
        "\n",
        "using namespace std;\n",
        "\n",
        "int arregloEnteros[3];\n",
        "string arregloCadenas[5];\n",
        "/*\n",
        "suponiendo la existencia de un tipo de dato Tarea\n",
        "Tarea arregloTareas[10]; //cotizaciones al 3344556677\n",
        "*/"
      ],
      "outputs": [],
      "execution_count": null,
      "metadata": {
        "trusted": true
      }
    },
    {
      "cell_type": "markdown",
      "source": [
        "* Los datos se llaman **elementos** del arreglo y su posición se numera consecutivamente.\n",
        "\n",
        "Recuerda que las posiciones de los arreglos comienzan desde 0, es decir, el primer elemento se encuentra en la posición 0, el segundo en la posición 1 y así sucesivamente."
      ],
      "metadata": {}
    },
    {
      "cell_type": "markdown",
      "source": [
        "## <center>Dimensiones y Acceso</center>\n",
        "* Un arreglo puede tener varias dimensiones siendo los unidimensionales y los bidimensionales los más comunes.\n",
        "* Para acceder a un elemento específico de un arreglo se usa un índice, el cual debe ser tipo entero."
      ],
      "metadata": {}
    },
    {
      "cell_type": "code",
      "source": [
        "arregloEnteros[0] = 3; //el 0 es el valor del índice\n",
        "arregloEnteros[1] = 5;\n",
        "arregloEnteros[2] = 7;\n",
        "\n",
        "arregloCadenas[0] = \"Hola mundo!\";\n",
        "arregloCadenas[1] = \"Hello world!\";\n",
        "\n",
        "cout <<\"El arreglo de enteros contiene: \" <<arregloEnteros[0] <<\", \" <<arregloEnteros[1] <<\", \" \n",
        "    <<arregloEnteros[2] <<endl;\n",
        "cout <<\"El arreglo de cadenas contiene: \" <<arregloCadenas[0] <<\", \" <<arregloCadenas[1] <<endl;"
      ],
      "outputs": [],
      "execution_count": null,
      "metadata": {
        "trusted": true
      }
    },
    {
      "cell_type": "markdown",
      "source": [
        "Si deseas declarar un arreglo de más de una dimensión, por cada dimensión extra necesitas agregar un par de corchetes (uno de apertura y uno de cierre)"
      ],
      "metadata": {}
    },
    {
      "cell_type": "markdown",
      "source": [
        "<a href=\"https://drive.google.com/file/d/1YLcYaQJA3LhlUwH3dhcv14B8bY82Bb4m/preview\">Vídeo</a>"
      ],
      "metadata": {
        "nteract": {
          "transient": {
            "deleting": false
          }
        }
      }
    },
    {
      "cell_type": "code",
      "source": [
        "const int RENGLONES = 3;\n",
        "const int COLUMNAS = 3;\n",
        "int matriz[RENGLONES][COLUMNAS]; //Una matriz de tamaño 3x3"
      ],
      "outputs": [],
      "execution_count": null,
      "metadata": {
        "trusted": true
      }
    },
    {
      "cell_type": "markdown",
      "source": [
        "## <center>Características</center>\n",
        "\n",
        "* Colección de un número finito de n elementos del mismo tipo.\n",
        "* Almacena los elementos en memoria continua.\n",
        "* Tiene un único nombre de variable que representa todos los elementos y éstos a su vez se diferencian por un índice."
      ],
      "metadata": {}
    },
    {
      "cell_type": "code",
      "source": [
        "%%python\n",
        "from IPython.display import HTML\n",
        "\n",
        "HTML(\"\"\"\n",
        "<center>\n",
        "<iframe src=\"https://drive.google.com/file/d/1xola0EqZpm7eXfzgLEbt7SnrqOOOFukm/preview\" width=\"320\" height=\"240\"></iframe></center>\n",
        "<center><h3>Vídeo</center>\n",
        "\"\"\")"
      ],
      "outputs": [],
      "execution_count": null,
      "metadata": {
        "collapsed": true,
        "jupyter": {
          "source_hidden": false,
          "outputs_hidden": false
        },
        "nteract": {
          "transient": {
            "deleting": false
          }
        }
      }
    },
    {
      "cell_type": "markdown",
      "source": [
        "## <center>Inicialización Explícita</center>\n",
        "\n",
        "Un arreglo puede comenzar con valores asignados a sus elementos, a esa forma de declarar el arreglo le llamamos **inicialización explícita**. Para hacer inicialización explícita declaramos el tipo de dato del arreglo, seguido de su identificador, los corchetes con el tamaño del arreglo dentro y posteriormente el símbolo de asignación seguido de los valores deseados entre llaves. Algo así:"
      ],
      "metadata": {}
    },
    {
      "cell_type": "code",
      "source": [
        "int arreglo[5] = {1, 3, 5, 7, 9};"
      ],
      "outputs": [],
      "execution_count": null,
      "metadata": {
        "trusted": true
      }
    },
    {
      "cell_type": "markdown",
      "source": [
        "Incluso podemos omitir el tamaño del arreglo y será inferido según la cantidad de elementos."
      ],
      "metadata": {}
    },
    {
      "cell_type": "code",
      "source": [
        "int numeros[] = {2, 4, 6, 8};"
      ],
      "outputs": [],
      "execution_count": null,
      "metadata": {
        "trusted": true
      }
    },
    {
      "cell_type": "code",
      "source": [
        "Para más de una dimensión podemos omitir el tamaño de la primera y será inferido."
      ],
      "outputs": [],
      "execution_count": null,
      "metadata": {
        "trusted": true
      }
    },
    {
      "cell_type": "code",
      "source": [
        "//Un laberinto de 4 renglones y 5 columnas\n",
        "char laberinto[][5] = { \n",
        "    {'*', '.', '*', '*', '*'},\n",
        "    {'*', '.', '*', '.', '.'},\n",
        "    {'*', '.', '*', '.', '*'},\n",
        "    {'*', '.', '.', '.', '*'}\n",
        "};"
      ],
      "outputs": [],
      "execution_count": null,
      "metadata": {
        "trusted": true
      }
    },
    {
      "cell_type": "code",
      "source": [
        "//Imprime el laberinto de la celda anterior con un par de ciclos anidados\n",
        "//Recurda que en los ciclos anidados para que el ciclo externo \n",
        "//complete una vuelta el interno debe realizar todas las suyas\n",
        "\n",
        "/*Tu Código*/\n",
        "\n",
        "/*Salida esperada\n",
        "\n",
        "*.***\n",
        "*.*..\n",
        "*.*.*\n",
        "*...*\n",
        "\n",
        "*/"
      ],
      "outputs": [],
      "execution_count": null,
      "metadata": {
        "trusted": true
      }
    },
    {
      "cell_type": "markdown",
      "source": [
        "Finalmente te dejo el <a href=\"https://drive.google.com/file/d/1iZfQbQM5Hy-kUfy7te0maNCs59jYIcZX/view\">link</a> al código equivalente de este notebook."
      ],
      "metadata": {
        "nteract": {
          "transient": {
            "deleting": false
          }
        }
      }
    }
  ],
  "metadata": {
    "kernelspec": {
      "name": "xcpp11",
      "display_name": "C++11",
      "language": "C++11"
    },
    "language_info": {
      "codemirror_mode": "text/x-c++src",
      "file_extension": ".cpp",
      "mimetype": "text/x-c++src",
      "name": "c++",
      "version": "11"
    },
    "nteract": {
      "version": "0.25.0"
    }
  },
  "nbformat": 4,
  "nbformat_minor": 4
}