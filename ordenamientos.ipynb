{
  "cells": [
    {
      "cell_type": "markdown",
      "source": [
        "# <center>Ordenamientos</center>"
      ],
      "metadata": {
        "nteract": {
          "transient": {
            "deleting": false
          }
        }
      }
    },
    {
      "cell_type": "markdown",
      "source": [
        "Ordenar: Colocar de acuerdo con un plan o de\n",
        "modo conveniente. (RAE)"
      ],
      "metadata": {
        "nteract": {
          "transient": {
            "deleting": false
          }
        }
      }
    },
    {
      "cell_type": "markdown",
      "source": [
        "## Ordenamiento Burbuja\n",
        "El algoritmo de ordenamiento burbuja (bubble sort) hace una serie de pasadas a través de la lista de elementos. En cada pasada compara los valores de elementos adyacentes. Si están desordenados, los intercambia."
      ],
      "metadata": {
        "nteract": {
          "transient": {
            "deleting": false
          }
        }
      }
    },
    {
      "cell_type": "markdown",
      "source": [
        "```\n",
        "burbuja(A[0...n-1])\n",
        "//Ordena un arreglo de n elementos por el método de burbuja.\n",
        "//Entrada: Un arreglo A[0...n-1] de elementos ordenables.\n",
        "//Salida: El arreglo A[0...n-1] ordenado de forma no decreciente.\n",
        "\n",
        "desde i <- 0 hasta n - 2 \n",
        "    desde j <- 0 hasta n - 2\n",
        "        si A[j+1] < A[j]\n",
        "            intercambiar(A[j], A[j+1])\n",
        "```\n",
        "\n",
        "Realicemos una ejecución de escritorio para el algoritmo burbuja.\n",
        "\n",
        "Consideremos la siguiente entrada: \n",
        "\n",
        "$$A = [9, 3, 5, 7, 6]$$\n",
        "\n",
        "El arreglo $A$ tiene 5 elementos, por lo tanto $n = 5$. Los resultados de la ejecución de cada ciclo se muestran en la siguiente tabla:\n",
        "\n",
        "$i$ | $j$ | $A$\n",
        "--- | --- | ---\n",
        "0 | 0 | **3**, **9**, 5, 7, 6\n",
        "0 | 1 | 3, **5**, **9**, 7, 6\n",
        "0 | 2 | 3, 5, **7**, **9**, 6\n",
        "0 | 3 | 3, 5, 7, **6**, **9**\n",
        "1 | 0 | 3, 5, 7, 6, 9\n",
        "1 | 1 | 3, 5, 7, 6, 9\n",
        "1 | 2 | 3, 5, **6**, **7**, 9\n",
        "1 | 3 | 3, 5, 6, 7, 9\n",
        "2 | 0 | 3, 5, 6, 7, 9\n",
        "2 | 1 | 3, 5, 6, 7, 9\n",
        "2 | 2 | 3, 5, 6, 7, 9\n",
        "2 | 3 | 3, 5, 6, 7, 9\n",
        "3 | 0 | 3, 5, 6, 7, 9\n",
        "3 | 1 | 3, 5, 6, 7, 9\n",
        "3 | 2 | 3, 5, 6, 7, 9\n",
        "3 | 3 | 3, 5, 6, 7, 9"
      ],
      "metadata": {
        "nteract": {
          "transient": {
            "deleting": false
          }
        }
      }
    },
    {
      "cell_type": "markdown",
      "source": [
        "### Ordenamiento por Selección\n",
        "\n",
        "Se comienza el ordenamiento por selección recorriendo la lista dada para encontrar el elemento más pequeño e intercambiarlo con el primer elemento, colocando así el elemento más pequeño en su posición final en la lista ordenada. Luego se recorre la lista, comenzando con el segundo elemento para encontrar el menor entre los últimos $n - 1$ elementos e intercambiarlo con el segundo, colocando el segundo elemento más pequeño en su posición final. Después de $n – 1$ pasadas, la lista está ordenada.\n",
        "\n",
        "```\n",
        "Seleccion(A[0..n-1])\n",
        "//Ordena por selección un arreglo dado.\n",
        "//Entrada: Un arreglo A[0..n-1] de elementos ordenables.\n",
        "//Salida: Arreglo A[0..n-1] ordenado de forma no decreciente.\n",
        "desde i ← 0 hasta n − 2 hacer\n",
        "    min ← i\n",
        "    desde j ← i + 1 hasta n − 1 hacer\n",
        "        si A[j] < A[min]\n",
        "            min ← j\n",
        "    intercambiar A[i] y A[min]\n",
        "```\n",
        "\n",
        "Realicemos una ejecución de escritorio para el algoritmo de selección.\n",
        "\n",
        "Consideremos la siguiente entrada: \n",
        "\n",
        "$$A = [9, 3, 5, 7, 6]$$\n",
        "\n",
        "Los resultados de la ejecución de cada ciclo se muestran en la siguiente tabla:\n",
        "\n",
        "$i$ | $j$ | $min$ | $A$\n",
        "--- | --- | --- | ---\n",
        "0 | 1 | 1 | 9, 3, 5, 7, 6\n",
        "0 | 2 | 1 | 9, 3, 5, 7, 6\n",
        "0 | 3 | 1 | 9, 3, 5, 7, 6\n",
        "0 | 4 | 1 | **3**, **9**, 5, 7, 6\n",
        "1 | 2 | 2 | 3, 9, 5, 7, 6\n",
        "1 | 3 | 2 | 3, 9, 5, 7, 6\n",
        "1 | 4 | 2 | 3, **5**, **9**, 7, 6\n",
        "2 | 3 | 3 | 3, 5, 9, 7, 6\n",
        "2 | 4 | 4 | 3, 5, **6**, 7, **9**\n",
        "3 | 4 | 3 | 3, 5, 6, 7, 9\n"
      ],
      "metadata": {
        "nteract": {
          "transient": {
            "deleting": false
          }
        }
      }
    }
  ],
  "metadata": {
    "kernel_info": {
      "name": "python3"
    },
    "language_info": {
      "name": "python",
      "version": "3.7.3",
      "mimetype": "text/x-python",
      "codemirror_mode": {
        "name": "ipython",
        "version": 3
      },
      "pygments_lexer": "ipython3",
      "nbconvert_exporter": "python",
      "file_extension": ".py"
    },
    "kernelspec": {
      "argv": [
        "python",
        "-m",
        "ipykernel_launcher",
        "-f",
        "{connection_file}"
      ],
      "display_name": "Python 3",
      "language": "python",
      "name": "python3"
    },
    "nteract": {
      "version": "0.26.0"
    }
  },
  "nbformat": 4,
  "nbformat_minor": 0
}