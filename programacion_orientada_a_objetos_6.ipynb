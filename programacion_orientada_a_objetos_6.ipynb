{
  "cells": [
    {
      "cell_type": "markdown",
      "source": [
        "# <center>Programación Orientada a Objetos</center>"
      ],
      "metadata": {}
    },
    {
      "cell_type": "markdown",
      "source": [
        "## <center>Polimorfismo y Clases Abstractas</center>"
      ],
      "metadata": {
        "nteract": {
          "transient": {
            "deleting": false
          }
        }
      }
    },
    {
      "cell_type": "code",
      "source": [
        "#include <string>\n",
        "#include \"xcpp/xdisplay.hpp\"\n",
        "\n",
        "#include \"nlohmann/json.hpp\"\n",
        "\n",
        "namespace nl = nlohmann;\n",
        "\n",
        "namespace ht\n",
        "{\n",
        "    struct html\n",
        "    {   \n",
        "        inline html(const std::string& content)\n",
        "        {\n",
        "            m_content = content;\n",
        "        }\n",
        "        std::string m_content;\n",
        "    };\n",
        "\n",
        "    nl::json mime_bundle_repr(const html& a)\n",
        "    {\n",
        "        auto bundle = nl::json::object();\n",
        "        bundle[\"text/html\"] = a.m_content;\n",
        "        return bundle;\n",
        "    }\n",
        "}\n",
        "\n",
        "ht::html polimorfismo1(R\"(\n",
        "<iframe src='https://drive.google.com/file/d/1ldgbAP974h8Y2g2AoUJaUU2sduFlfU5C/preview' width='640' height='480'></iframe>)\");"
      ],
      "outputs": [],
      "execution_count": null,
      "metadata": {
        "collapsed": true,
        "jupyter": {
          "source_hidden": false,
          "outputs_hidden": false
        },
        "nteract": {
          "transient": {
            "deleting": false
          }
        }
      }
    },
    {
      "cell_type": "code",
      "source": [
        "xcpp::display(polimorfismo1, \"id\");"
      ],
      "outputs": [],
      "execution_count": null,
      "metadata": {
        "collapsed": true,
        "jupyter": {
          "source_hidden": false,
          "outputs_hidden": false
        },
        "nteract": {
          "transient": {
            "deleting": false
          }
        }
      }
    },
    {
      "cell_type": "markdown",
      "source": [
        "Con funciones virtuales y polimorfismo, es posible diseñar e implementar sistemas que sean más fáciles de ampliar.\n",
        "\n",
        "Los programas pueden escribirse para procesar genéricamente (como objetos de clase base) objetos de todas las clases existentes en una jerarquía. Las clases que no existen durante el desarrollo de un programa pueden añadirse con muy poca o ninguna modificación a la parte genérica del programa, mientras esas clases sean parte de la jerarquía que se está procesando genéricamente."
      ],
      "metadata": {
        "nteract": {
          "transient": {
            "deleting": false
          }
        }
      }
    },
    {
      "cell_type": "code",
      "source": [
        "ht::html polimorfismo2(R\"(\n",
        "<iframe src='https://drive.google.com/file/d/1T0t9vphJHvwDoeLP6GUcLVrnmqKn0bxS/preview' width='640' height='480'></iframe>)\");"
      ],
      "outputs": [],
      "execution_count": null,
      "metadata": {
        "collapsed": true,
        "jupyter": {
          "source_hidden": false,
          "outputs_hidden": false
        },
        "nteract": {
          "transient": {
            "deleting": false
          }
        }
      }
    },
    {
      "cell_type": "code",
      "source": [
        "xcpp::display(polimorfismo2, \"id\");"
      ],
      "outputs": [],
      "execution_count": null,
      "metadata": {
        "collapsed": true,
        "jupyter": {
          "source_hidden": false,
          "outputs_hidden": false
        },
        "nteract": {
          "transient": {
            "deleting": false
          }
        }
      }
    },
    {
      "cell_type": "markdown",
      "source": [
        "### Funciones Virtuales\n",
        "\n",
        "Suponga que un conjunto de clases de figuras tales como Circulo, Triangulo, Rectangulo, Cuadrado, etcétera, se derivan de la clase base Figura.\n",
        "\n",
        "En la programación orientada a objetos, cada una de estas clases podría dotarse con la habilidad de dibujarse a sí mismas. Aunque cada clase tiene su propia función dibujar, la función dibujar para cada figura es muy diferente. Cuando se dibuja una figura, cualquiera que ésta sea, sería bueno poder tratar a todas las figuras de manera genérica como objetos de la clase base Figura."
      ],
      "metadata": {
        "nteract": {
          "transient": {
            "deleting": false
          }
        }
      }
    },
    {
      "cell_type": "markdown",
      "source": [
        "Entonces, para dibujar cualquier figura, se podría simplemente llamar a la función dibujar de la clase base Figura, y dejar que el programa determine dinámicamente qué clase derivada de la función dibujar debe utilizar.\n",
        "\n",
        "Para permitir esta clase de comportamiento, se declara dibujar en la clase base como una función virtual y se incluye en cada una de las clases derivadas para dibujar la figura apropiada. Una función virtual se declara precediendo al prototipo de la función con la palabra reservada virtual en la clase base."
      ],
      "metadata": {
        "nteract": {
          "transient": {
            "deleting": false
          }
        }
      }
    },
    {
      "cell_type": "markdown",
      "source": [
        "Declaración de funciones virtuales en C++:\n",
        "\n",
        "```\n",
        "virtual <tipoRetorno> <nombreFuncion>();\n",
        "```"
      ],
      "metadata": {
        "nteract": {
          "transient": {
            "deleting": false
          }
        }
      }
    },
    {
      "cell_type": "code",
      "source": [
        "ht::html polimorfismo3(R\"(\n",
        "<iframe src='https://drive.google.com/file/d/1CQaHghA5rlQCcoj_ULvtamXFqUbJmFns/preview' width='640' height='480'></iframe>)\");"
      ],
      "outputs": [],
      "execution_count": null,
      "metadata": {
        "collapsed": true,
        "jupyter": {
          "source_hidden": false,
          "outputs_hidden": false
        },
        "nteract": {
          "transient": {
            "deleting": false
          }
        }
      }
    },
    {
      "cell_type": "code",
      "source": [
        "xcpp::display(polimorfismo3, \"id\");"
      ],
      "outputs": [],
      "execution_count": null,
      "metadata": {
        "collapsed": true,
        "jupyter": {
          "source_hidden": false,
          "outputs_hidden": false
        },
        "nteract": {
          "transient": {
            "deleting": false
          }
        }
      }
    },
    {
      "cell_type": "markdown",
      "source": [
        "### Clases Abstractas\n",
        "\n",
        "Cuando se piensa en una clase como un tipo, se asume que se generarán instancias de los objetos de ese tipo. Sin embargo, existen casos en los que es útil definir clases para las que el programador nunca intenta instanciar objeto alguno. Dichas clases se conocen como clases abstractas. Ningún objeto de una clase base abstracta puede instanciarse.\n",
        "\n",
        "El único propósito de una clase abstracta es el de proporcionar una clase base apropiada, a partir de la cual, las clases pueden heredar la interfaz y/o la implementación. Las clases cuyos objetos pueden instanciarse se conocen como clases concretas. \n",
        "\n",
        "Una clase se hace abstracta, declarando una o más de sus funciones virtuales para que sean “puras”. Una función virtual pura es aquella que tiene un inicializador =0 en su declaración."
      ],
      "metadata": {
        "nteract": {
          "transient": {
            "deleting": false
          }
        }
      }
    },
    {
      "cell_type": "markdown",
      "source": [
        "Declaración de funciones virtuales puras en C++:\n",
        "\n",
        "```\n",
        "virtual <tipoRetorno> <nombreFuncion>() = 0;\n",
        "````"
      ],
      "metadata": {
        "nteract": {
          "transient": {
            "deleting": false
          }
        }
      }
    },
    {
      "cell_type": "markdown",
      "source": [
        "### Polimorfismo\n",
        "\n",
        "C++ permite el polimorfismo; la habilidad de los objetos de diferentes clases relacionadas por la herencia de responder de manera diferente al mismo mensaje (es decir, a una llamada de una función miembro). El mismo mensaje enviado a muchos tipos diferentes de objetos toma “muchas formas”.\n",
        "\n",
        "El polimorfismo se implementa a través de funciones virtuales."
      ],
      "metadata": {
        "nteract": {
          "transient": {
            "deleting": false
          }
        }
      }
    },
    {
      "cell_type": "code",
      "source": [
        "ht::html polimorfismo4(R\"(\n",
        "<iframe src='https://drive.google.com/file/d/1UbYOPCmMtyiPfWqXeQiVbenv8rhetIVY/preview' width='640' height='480'></iframe>)\");"
      ],
      "outputs": [],
      "execution_count": null,
      "metadata": {
        "collapsed": true,
        "jupyter": {
          "source_hidden": false,
          "outputs_hidden": false
        },
        "nteract": {
          "transient": {
            "deleting": false
          }
        }
      }
    },
    {
      "cell_type": "code",
      "source": [
        "xcpp::display(polimorfismo4, \"id\");"
      ],
      "outputs": [],
      "execution_count": null,
      "metadata": {
        "collapsed": true,
        "jupyter": {
          "source_hidden": false,
          "outputs_hidden": false
        },
        "nteract": {
          "transient": {
            "deleting": false
          }
        }
      }
    }
  ],
  "metadata": {
    "kernelspec": {
      "name": "xcpp11",
      "display_name": "C++11",
      "language": "C++11"
    },
    "language_info": {
      "codemirror_mode": "text/x-c++src",
      "file_extension": ".cpp",
      "mimetype": "text/x-c++src",
      "name": "c++",
      "version": "11"
    },
    "nteract": {
      "version": "0.25.1"
    }
  },
  "nbformat": 4,
  "nbformat_minor": 4
}