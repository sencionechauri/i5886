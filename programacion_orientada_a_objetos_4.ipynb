{
  "cells": [
    {
      "cell_type": "markdown",
      "source": [
        "# <center>Programación Orientada a Objetos</center>"
      ],
      "metadata": {}
    },
    {
      "cell_type": "markdown",
      "source": [
        "## <center>Herencia</center>"
      ],
      "metadata": {
        "nteract": {
          "transient": {
            "deleting": false
          }
        }
      }
    },
    {
      "cell_type": "code",
      "source": [
        "#include <string>\n",
        "#include \"xcpp/xdisplay.hpp\"\n",
        "\n",
        "#include \"nlohmann/json.hpp\"\n",
        "\n",
        "namespace nl = nlohmann;\n",
        "\n",
        "namespace ht\n",
        "{\n",
        "    struct html\n",
        "    {   \n",
        "        inline html(const std::string& content)\n",
        "        {\n",
        "            m_content = content;\n",
        "        }\n",
        "        std::string m_content;\n",
        "    };\n",
        "\n",
        "    nl::json mime_bundle_repr(const html& a)\n",
        "    {\n",
        "        auto bundle = nl::json::object();\n",
        "        bundle[\"text/html\"] = a.m_content;\n",
        "        return bundle;\n",
        "    }\n",
        "}\n",
        "\n",
        "ht::html iframe(R\"(\n",
        "<iframe src='https://drive.google.com/file/d/1xMEXSnwnCHzb-_9TOxuPFwmlAJk53ykc/preview' width='640' height='480'></iframe>)\");"
      ],
      "outputs": [],
      "execution_count": null,
      "metadata": {
        "collapsed": true,
        "jupyter": {
          "source_hidden": false,
          "outputs_hidden": false
        },
        "nteract": {
          "transient": {
            "deleting": false
          }
        }
      }
    },
    {
      "cell_type": "code",
      "source": [
        "xcpp::display(iframe, \"id\");"
      ],
      "outputs": [],
      "execution_count": null,
      "metadata": {
        "collapsed": true,
        "jupyter": {
          "source_hidden": false,
          "outputs_hidden": false
        },
        "nteract": {
          "transient": {
            "deleting": false
          }
        }
      }
    },
    {
      "cell_type": "markdown",
      "source": [
        "La herencia permite modelar, del modo más preciso, la realidad que se desea emular en un programa, abstrayendo el comportamiento común entre objetos similares a través de un mecanismo de **generalización**. Éste mecanismo comienza en clases globales y se va extendiendo a través de subclases específicas y especializadas."
      ],
      "metadata": {}
    },
    {
      "cell_type": "markdown",
      "source": [
        "La herencia permite crear muchas clases que son similares entre sí, sin tener que reescribir cada vez las partes que son similares; ésta propiedad permite combinar varias clases en una de ellas o modificar una clase existente sin modificar realmente el código original.\n",
        "\n",
        "*La herencia es el corazón de la programación orientada a objetos y constituye el bloque fundamental de construcción para reutilizar el código*."
      ],
      "metadata": {
        "nteract": {
          "transient": {
            "deleting": false
          }
        }
      }
    },
    {
      "cell_type": "markdown",
      "source": [
        "La herencia, en esencia, es una relación entre clases, en donde una clase comparte la estructura o comportamiento definido en una clase (herencia simple) o varias clases (herencia múltiple).\n",
        "\n",
        "La clase superior en la jerarquía se denomina **superclase** (clase base en C++); la(s) clase(s) que hereda(n) los miembros de la superclase se denomina(n) **subclase**(s) (clse derivada en C++)."
      ],
      "metadata": {
        "nteract": {
          "transient": {
            "deleting": false
          }
        }
      }
    },
    {
      "cell_type": "markdown",
      "source": [
        "* Herencia simple: Es el caso más sencillo de herencia, en la que una clase sólo sé deriva de otra clase.\n",
        "* Herencia múltiple: Es el mecanismo que permite a una clase heredar de más de una clase; se dice entonces que una clase es una extensión de dos o más clases."
      ],
      "metadata": {
        "nteract": {
          "transient": {
            "deleting": false
          }
        }
      }
    },
    {
      "cell_type": "markdown",
      "source": [
        "## <center>Sintaxis</center>\n",
        "\n",
        "```\n",
        "class <ClaseDerivada> : <especificadorDeAcceso><ClaseBase>\n",
        "{\n",
        "    <declaración de clase>\n",
        "}\n",
        "```\n",
        "\n",
        "Los especificadores de acceso pueden ser: *public*, *protected* y *private*.\n",
        "\n",
        "Los especificadores o modificadores de acceso determinan el tipo de acceso a los miembros de la clase base a través de la clase derivada."
      ],
      "metadata": {
        "nteract": {
          "transient": {
            "deleting": false
          }
        }
      }
    },
    {
      "cell_type": "markdown",
      "source": [
        "## <center>Tipos de Derivación</center>\n",
        "\n",
        "*Derivación pública (class <derivada\\> : public <base\\>)*\n",
        "\n",
        "**Acceso a clase base** | **Acceso a clase derivada**\n",
        "---|---\n",
        "public | public\n",
        "protected | protected\n",
        "private | no accesible\n",
        "\n",
        "<br>\n",
        "\n",
        "\n",
        "*Derivación protegida (class <derivada\\> : protected <base\\>)*\n",
        "\n",
        "**Acceso a clase base** | **Acceso a clase derivada**\n",
        "---|---\n",
        "public | protected\n",
        "protected | protected\n",
        "private | no accesible\n",
        "\n",
        "\n",
        "<br>\n",
        "\n",
        "\n",
        "*Derivación privada (class <derivada\\> : private <base\\>)*\n",
        "\n",
        "**Acceso a clase base** | **Acceso a clase derivada**\n",
        "---|---\n",
        "public | private\n",
        "protected | private\n",
        "private | no accesible\n"
      ],
      "metadata": {
        "nteract": {
          "transient": {
            "deleting": false
          }
        }
      }
    },
    {
      "cell_type": "code",
      "source": [
        "#include <string>\n",
        "#include \"xcpp/xdisplay.hpp\"\n",
        "\n",
        "#include \"nlohmann/json.hpp\"\n",
        "\n",
        "namespace nl = nlohmann;\n",
        "\n",
        "namespace ht\n",
        "{\n",
        "    struct html\n",
        "    {   \n",
        "        inline html(const std::string& content)\n",
        "        {\n",
        "            m_content = content;\n",
        "        }\n",
        "        std::string m_content;\n",
        "    };\n",
        "\n",
        "    nl::json mime_bundle_repr(const html& a)\n",
        "    {\n",
        "        auto bundle = nl::json::object();\n",
        "        bundle[\"text/html\"] = a.m_content;\n",
        "        return bundle;\n",
        "    }\n",
        "}\n",
        "\n",
        "ht::html iframe(R\"(\n",
        "<iframe src='https://drive.google.com/file/d/1LCe-zU8BsNrIO944E179cutf2WPToYeW/preview' width='640' height='480'></iframe>)\");"
      ],
      "outputs": [],
      "execution_count": null,
      "metadata": {
        "collapsed": true,
        "jupyter": {
          "source_hidden": false,
          "outputs_hidden": false
        },
        "nteract": {
          "transient": {
            "deleting": false
          }
        }
      }
    },
    {
      "cell_type": "code",
      "source": [
        "xcpp::display(iframe, \"id\");"
      ],
      "outputs": [],
      "execution_count": null,
      "metadata": {
        "collapsed": true,
        "jupyter": {
          "source_hidden": false,
          "outputs_hidden": false
        },
        "nteract": {
          "transient": {
            "deleting": false
          }
        }
      }
    },
    {
      "cell_type": "markdown",
      "source": [
        "### <center>Ejemplo</center>\n",
        "\n",
        "<center><img src=\"media/herencia.png\" /></center>"
      ],
      "metadata": {
        "nteract": {
          "transient": {
            "deleting": false
          }
        }
      }
    }
  ],
  "metadata": {
    "kernelspec": {
      "name": "xcpp11",
      "display_name": "C++11",
      "language": "C++11"
    },
    "language_info": {
      "codemirror_mode": "text/x-c++src",
      "file_extension": ".cpp",
      "mimetype": "text/x-c++src",
      "name": "c++",
      "version": "11"
    },
    "nteract": {
      "version": "0.25.1"
    }
  },
  "nbformat": 4,
  "nbformat_minor": 4
}