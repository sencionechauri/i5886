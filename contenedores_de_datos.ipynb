{
  "cells": [
    {
      "cell_type": "markdown",
      "source": [
        "# <center>Contenedores de Datos</center>"
      ],
      "metadata": {
        "nteract": {
          "transient": {
            "deleting": false
          }
        }
      }
    },
    {
      "cell_type": "markdown",
      "source": [
        "%%html\n",
        "<center><iframe src=\"https://drive.google.com/file/d/17hsWBbR0r1AQocv05lF-jTfjt-El4ol4/preview\" width=\"320\" height=\"240\"></iframe></center>"
      ],
      "metadata": {
        "nteract": {
          "transient": {
            "deleting": false
          }
        }
      }
    },
    {
      "cell_type": "markdown",
      "source": [
        "## <center>¿Qué son?</center>\n",
        "\n",
        "* Pueden ser una clase, estructura de datos o tipo de dato abstracto (TDA)\n",
        "* Sus instancias son colecciones de objetos\n",
        "* Tienen reglas especificas de acceso\n",
        "* Son de tamaño variable"
      ],
      "metadata": {}
    },
    {
      "cell_type": "markdown",
      "source": [
        "## <center>Algunas caracterísicas</center>\n",
        "\n",
        "* Acceso: Según el contenedor de datos se puede acceder de forma distinta a su información, por ejemplo para un arreglo se accede por medio de un índice mientras que para un registro a través del nombre del campo necesitado.\n",
        "* Almacenamiento: Puede ser en memoria continua o no según la naturaleza del propio contenedor; un ejemplo de ello son los arreglos que en la memoria de la computadora están almacenados como un bloque continuo de información.\n",
        "* Recorrido: Por recorrido nos referimos a cómo podemos obtener cada uno de los elementos del contenedor."
      ],
      "metadata": {}
    },
    {
      "cell_type": "markdown",
      "source": [
        "## <center>Métodos esperados en contenedores</center>\n",
        "\n",
        "* Crear: Crear una instancia (siendo instancia sinónimo de variable) del contenedor.\n",
        "* Insertar: Insertar un elemento en una posición especificada o predefinida del contenedor.\n",
        "* Eliminar: Borrar de la memoria el contenedor, como consecuencia el contenedor deja de existir en el programa.\n",
        "* Limpiar: Borrar el valor de los elementos del contenedor, mas no el contenedor.\n",
        "* Acceder a los objetos: Obtener el valor de algún elemento del contenedor.\n",
        "* Acceder al número de objetos: Obtener la cantidad de elementos almacenados en el contenedor."
      ],
      "metadata": {}
    },
    {
      "cell_type": "markdown",
      "source": [
        "## <center>Tipo de Dato Estructurado</center>\n",
        "\n",
        "Manera en la cual una colección de elementos de datos, que pueden tener el mismo o distintos tipos de datos escalares, es representada en un programa de computadora.\n",
        "\n",
        "Un tipo de dato estructurado es uno en el cual cada valor es una colección de componentes. La colección recibe un único nombre, aunque cada componente es accesible individualmente."
      ],
      "metadata": {}
    },
    {
      "cell_type": "markdown",
      "source": [
        "## <center>Algunos Tipos de Dato Estructurado</center>\n",
        "\n",
        "* Arreglo\n",
        "* Registro\n",
        "* Unión\n",
        "* Enumerado"
      ],
      "metadata": {}
    },
    {
      "cell_type": "markdown",
      "source": [
        "%%html\n",
        "<center><iframe src=\"https://drive.google.com/file/d/1AxFPjZMTOdJfcikKZrseCUXe9ngcsYc9/preview\" width=\"320\" height=\"240\"></iframe></center>"
      ],
      "metadata": {
        "nteract": {
          "transient": {
            "deleting": false
          }
        }
      }
    }
  ],
  "metadata": {
    "kernelspec": {
      "name": "xcpp11",
      "display_name": "C++11",
      "language": "C++11"
    },
    "language_info": {
      "codemirror_mode": "text/x-c++src",
      "file_extension": ".cpp",
      "mimetype": "text/x-c++src",
      "name": "c++",
      "version": "11"
    },
    "nteract": {
      "version": "0.25.0"
    }
  },
  "nbformat": 4,
  "nbformat_minor": 4
}