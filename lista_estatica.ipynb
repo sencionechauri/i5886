{
  "cells": [
    {
      "cell_type": "markdown",
      "source": [
        "# <center>Lista Estática</center>\n",
        "\n",
        "<center><img src=\"media/LE.png\" width=\"50%\" /></center>"
      ],
      "metadata": {}
    },
    {
      "cell_type": "code",
      "source": [
        "#include <string>\n",
        "#include \"xcpp/xdisplay.hpp\"\n",
        "\n",
        "#include \"nlohmann/json.hpp\"\n",
        "\n",
        "namespace nl = nlohmann;\n",
        "\n",
        "namespace ht\n",
        "{\n",
        "    struct html\n",
        "    {   \n",
        "        inline html(const std::string& content)\n",
        "        {\n",
        "            m_content = content;\n",
        "        }\n",
        "        std::string m_content;\n",
        "    };\n",
        "\n",
        "    nl::json mime_bundle_repr(const html& a)\n",
        "    {\n",
        "        auto bundle = nl::json::object();\n",
        "        bundle[\"text/html\"] = a.m_content;\n",
        "        return bundle;\n",
        "    }\n",
        "}\n",
        "\n",
        "ht::html presentacion(R\"(\n",
        "<iframe src='https://drive.google.com/file/d/10dWZ6UbpqA_dYXrmeSZDwyoXV3yMNGPQ/preview' width='640' height='480'></iframe>)\");"
      ],
      "outputs": [],
      "execution_count": null,
      "metadata": {
        "collapsed": true,
        "jupyter": {
          "source_hidden": false,
          "outputs_hidden": false
        },
        "nteract": {
          "transient": {
            "deleting": false
          }
        }
      }
    },
    {
      "cell_type": "code",
      "source": [
        "xcpp::display(presentacion, \"id1\");"
      ],
      "outputs": [],
      "execution_count": null,
      "metadata": {
        "collapsed": true,
        "jupyter": {
          "source_hidden": false,
          "outputs_hidden": false
        },
        "nteract": {
          "transient": {
            "deleting": false
          }
        }
      }
    },
    {
      "cell_type": "code",
      "source": [
        "#include <iostream>\n",
        "#include <stdexcept> //Permite lanzar excepciones\n",
        "using namespace std;"
      ],
      "outputs": [],
      "execution_count": null,
      "metadata": {
        "collapsed": true,
        "jupyter": {
          "source_hidden": false,
          "outputs_hidden": false
        },
        "nteract": {
          "transient": {
            "deleting": false
          }
        }
      }
    },
    {
      "cell_type": "code",
      "source": [
        "//template indica que la clase será una plantilla y podrá trabajar con cualquier tipo de dato\n",
        "template<typename T>\n",
        "class ListaEstatica\n",
        "{\n",
        "public:\n",
        "    //n es un argumento del constructor y por omisión toma el valor 1000\n",
        "    ListaEstatica(size_t n = 1000)\n",
        "    {\n",
        "        if (n > CAPACITY)\n",
        "        {\n",
        "            throw invalid_argument(\"list size greater than list capacity\");\n",
        "        }\n",
        "        index = 0;\n",
        "        containerSize = n;\n",
        "    }\n",
        "\n",
        "    bool empty() const;\n",
        "    bool full() const;\n",
        "    size_t size() const;\n",
        "    void push_front(const T& element);\n",
        "    void push_back(const T& element);\n",
        "    const T& front() const;\n",
        "    const T& back() const;\n",
        "    void pop_front();\n",
        "    void pop_back();\n",
        "    void insert(size_t position, const T& element);\n",
        "    void erase(size_t position);\n",
        "    T& operator [] (size_t position);\n",
        "    void clear();\n",
        "    void remove(const T& value);\n",
        "\n",
        "private:\n",
        "    static const size_t CAPACITY = 1000;\n",
        "    T elements[CAPACITY];\n",
        "    //index indica la cantidad de elementos en la lista y la posición en la que se insertará el siguiente elemento\n",
        "    size_t index;\n",
        "    size_t containerSize;//Capacidad con la que se crea la lista\n",
        "};\n"
      ],
      "outputs": [],
      "execution_count": null,
      "metadata": {
        "collapsed": true,
        "jupyter": {
          "source_hidden": false,
          "outputs_hidden": false
        },
        "nteract": {
          "transient": {
            "deleting": false
          }
        }
      }
    },
    {
      "cell_type": "code",
      "source": [
        "ht::html vEmpty(R\"(\n",
        "<iframe src='https://drive.google.com/file/d/1FSfm03XuxGsio-9gzItkBLeQr9J_hYuL/preview' width='640' height='480'></iframe>)\");"
      ],
      "outputs": [],
      "execution_count": null,
      "metadata": {
        "collapsed": true,
        "jupyter": {
          "source_hidden": false,
          "outputs_hidden": false
        },
        "nteract": {
          "transient": {
            "deleting": false
          }
        }
      }
    },
    {
      "cell_type": "code",
      "source": [
        "xcpp::display(vEmpty, \"id2\");"
      ],
      "outputs": [],
      "execution_count": null,
      "metadata": {
        "collapsed": true,
        "jupyter": {
          "source_hidden": false,
          "outputs_hidden": false
        },
        "nteract": {
          "transient": {
            "deleting": false
          }
        }
      }
    },
    {
      "cell_type": "code",
      "source": [
        "template<typename T>\n",
        "bool ListaEstatica<T>::empty() const\n",
        "{\n",
        "    return index == 0;\n",
        "}"
      ],
      "outputs": [],
      "execution_count": null,
      "metadata": {
        "collapsed": true,
        "jupyter": {
          "source_hidden": false,
          "outputs_hidden": false
        },
        "nteract": {
          "transient": {
            "deleting": false
          }
        }
      }
    },
    {
      "cell_type": "code",
      "source": [
        "ht::html vFull(R\"(\n",
        "<iframe src='https://drive.google.com/file/d/1C3V9i7jpZZzHIzmVUujIaFO7M2rWNlp8/preview' width='640' height='480'></iframe>)\");"
      ],
      "outputs": [],
      "execution_count": null,
      "metadata": {
        "collapsed": true,
        "jupyter": {
          "source_hidden": false,
          "outputs_hidden": false
        },
        "nteract": {
          "transient": {
            "deleting": false
          }
        }
      }
    },
    {
      "cell_type": "code",
      "source": [
        "xcpp::display(vFull, \"id3\");"
      ],
      "outputs": [],
      "execution_count": null,
      "metadata": {
        "collapsed": true,
        "jupyter": {
          "source_hidden": false,
          "outputs_hidden": false
        },
        "nteract": {
          "transient": {
            "deleting": false
          }
        }
      }
    },
    {
      "cell_type": "code",
      "source": [
        "template<typename T>\n",
        "bool ListaEstatica<T>::full() const\n",
        "{\n",
        "    return index == containerSize;\n",
        "}"
      ],
      "outputs": [],
      "execution_count": null,
      "metadata": {
        "collapsed": true,
        "jupyter": {
          "source_hidden": false,
          "outputs_hidden": false
        },
        "nteract": {
          "transient": {
            "deleting": false
          }
        }
      }
    },
    {
      "cell_type": "code",
      "source": [
        "ht::html vSize(R\"(\n",
        "<iframe src='https://drive.google.com/file/d/1oB96597wVEjzQfPxv0sa4QbDYQpbSeAc/preview' width='640' height='480'></iframe>)\");"
      ],
      "outputs": [],
      "execution_count": null,
      "metadata": {
        "collapsed": true,
        "jupyter": {
          "source_hidden": false,
          "outputs_hidden": false
        },
        "nteract": {
          "transient": {
            "deleting": false
          }
        }
      }
    },
    {
      "cell_type": "code",
      "source": [
        "xcpp::display(vSize, \"id4\");"
      ],
      "outputs": [],
      "execution_count": null,
      "metadata": {
        "collapsed": true,
        "jupyter": {
          "source_hidden": false,
          "outputs_hidden": false
        },
        "nteract": {
          "transient": {
            "deleting": false
          }
        }
      }
    },
    {
      "cell_type": "code",
      "source": [
        "template<typename T>\n",
        "size_t ListaEstatica<T>::size() const\n",
        "{\n",
        "    return index;\n",
        "}"
      ],
      "outputs": [],
      "execution_count": null,
      "metadata": {
        "collapsed": true,
        "jupyter": {
          "source_hidden": false,
          "outputs_hidden": false
        },
        "nteract": {
          "transient": {
            "deleting": false
          }
        }
      }
    },
    {
      "cell_type": "code",
      "source": [
        "ht::html vPush_front(R\"(\n",
        "<iframe src='https://drive.google.com/file/d/13XlqrtG9kIGI6mHPcVJuexthx9hB6_vd/preview' width='640' height='480'></iframe>)\");"
      ],
      "outputs": [],
      "execution_count": null,
      "metadata": {
        "collapsed": true,
        "jupyter": {
          "source_hidden": false,
          "outputs_hidden": false
        },
        "nteract": {
          "transient": {
            "deleting": false
          }
        }
      }
    },
    {
      "cell_type": "code",
      "source": [
        "xcpp::display(vPush_front, \"id5\");"
      ],
      "outputs": [],
      "execution_count": null,
      "metadata": {
        "collapsed": true,
        "jupyter": {
          "source_hidden": false,
          "outputs_hidden": false
        },
        "nteract": {
          "transient": {
            "deleting": false
          }
        }
      }
    },
    {
      "cell_type": "code",
      "source": [
        "template<typename T>\n",
        "void ListaEstatica<T>::push_front(const T& element)\n",
        "{\n",
        "    if (full())\n",
        "    {\n",
        "        throw  runtime_error(\"Trying push_front(const T& element) on full list\");\n",
        "    }\n",
        "\n",
        "    for (size_t i(index); i > 0; --i)\n",
        "    {\n",
        "        elements[i] = elements[i-1];\n",
        "    }\n",
        "    elements[0] = element;\n",
        "\n",
        "    ++index;\n",
        "}"
      ],
      "outputs": [],
      "execution_count": null,
      "metadata": {
        "collapsed": true,
        "jupyter": {
          "source_hidden": false,
          "outputs_hidden": false
        },
        "nteract": {
          "transient": {
            "deleting": false
          }
        }
      }
    },
    {
      "cell_type": "code",
      "source": [
        "ht::html vPush_back(R\"(\n",
        "<iframe src='https://drive.google.com/file/d/1mvNWvaS7wOpmA6DhtWqpZsDBz3Qk6eJD/preview' width='640' height='480'></iframe>)\");"
      ],
      "outputs": [],
      "execution_count": null,
      "metadata": {
        "collapsed": true,
        "jupyter": {
          "source_hidden": false,
          "outputs_hidden": false
        },
        "nteract": {
          "transient": {
            "deleting": false
          }
        }
      }
    },
    {
      "cell_type": "code",
      "source": [
        "xcpp::display(vPush_back, \"id6\");"
      ],
      "outputs": [],
      "execution_count": null,
      "metadata": {
        "collapsed": true,
        "jupyter": {
          "source_hidden": false,
          "outputs_hidden": false
        },
        "nteract": {
          "transient": {
            "deleting": false
          }
        }
      }
    },
    {
      "cell_type": "code",
      "source": [
        "template<typename T>\n",
        "void ListaEstatica<T>::push_back(const T& element)\n",
        "{\n",
        "    if (full())\n",
        "    {\n",
        "        throw runtime_error(\"Trying push_back(const T& element) on full list\");\n",
        "    }\n",
        "\n",
        "    elements[index++] = element;\n",
        "}"
      ],
      "outputs": [],
      "execution_count": null,
      "metadata": {
        "collapsed": true,
        "jupyter": {
          "source_hidden": false,
          "outputs_hidden": false
        },
        "nteract": {
          "transient": {
            "deleting": false
          }
        }
      }
    },
    {
      "cell_type": "code",
      "source": [
        "ht::html vFront(R\"(\n",
        "<iframe src='https://drive.google.com/file/d/1Huj8Ip0JC3eo_nSJhDzXlzmxdtYLy3JS/preview' width='640' height='480'></iframe>)\");"
      ],
      "outputs": [],
      "execution_count": null,
      "metadata": {
        "collapsed": true,
        "jupyter": {
          "source_hidden": false,
          "outputs_hidden": false
        },
        "nteract": {
          "transient": {
            "deleting": false
          }
        }
      }
    },
    {
      "cell_type": "code",
      "source": [
        "xcpp::display(vFront, \"id7\");"
      ],
      "outputs": [],
      "execution_count": null,
      "metadata": {
        "collapsed": true,
        "jupyter": {
          "source_hidden": false,
          "outputs_hidden": false
        },
        "nteract": {
          "transient": {
            "deleting": false
          }
        }
      }
    },
    {
      "cell_type": "code",
      "source": [
        "template<typename T>\n",
        "const T& ListaEstatica<T>::front() const\n",
        "{\n",
        "    if (empty())\n",
        "    {\n",
        "        throw runtime_error(\"Trying front() from empty list\");\n",
        "    }\n",
        "\n",
        "    return elements[0];\n",
        "}"
      ],
      "outputs": [],
      "execution_count": null,
      "metadata": {
        "collapsed": true,
        "jupyter": {
          "source_hidden": false,
          "outputs_hidden": false
        },
        "nteract": {
          "transient": {
            "deleting": false
          }
        }
      }
    },
    {
      "cell_type": "code",
      "source": [
        "ht::html vBack(R\"(\n",
        "<iframe src='https://drive.google.com/file/d/13zOQSzt29EokdKWnoMDfWVRYqSX8Tygt/preview' width='640' height='480'></iframe>)\");"
      ],
      "outputs": [],
      "execution_count": null,
      "metadata": {
        "collapsed": true,
        "jupyter": {
          "source_hidden": false,
          "outputs_hidden": false
        },
        "nteract": {
          "transient": {
            "deleting": false
          }
        }
      }
    },
    {
      "cell_type": "code",
      "source": [
        "xcpp::display(vBack, \"id8\");"
      ],
      "outputs": [],
      "execution_count": null,
      "metadata": {
        "collapsed": true,
        "jupyter": {
          "source_hidden": false,
          "outputs_hidden": false
        },
        "nteract": {
          "transient": {
            "deleting": false
          }
        }
      }
    },
    {
      "cell_type": "code",
      "source": [
        "template<typename T>\n",
        "const T& ListaEstatica<T>::back() const\n",
        "{\n",
        "    if (empty())\n",
        "    {\n",
        "        throw runtime_error(\"Trying back() from empty list\");\n",
        "    }\n",
        "\n",
        "    return elements[index-1];\n",
        "}\n"
      ],
      "outputs": [],
      "execution_count": null,
      "metadata": {
        "collapsed": true,
        "jupyter": {
          "source_hidden": false,
          "outputs_hidden": false
        },
        "nteract": {
          "transient": {
            "deleting": false
          }
        }
      }
    },
    {
      "cell_type": "code",
      "source": [
        "ht::html vPop_front(R\"(\n",
        "<iframe src='https://drive.google.com/file/d/1f0BvHNjK7JzqZbTV3XoIFxIcU46CagBi/preview' width='640' height='480'></iframe>)\");"
      ],
      "outputs": [],
      "execution_count": null,
      "metadata": {
        "collapsed": true,
        "jupyter": {
          "source_hidden": false,
          "outputs_hidden": false
        },
        "nteract": {
          "transient": {
            "deleting": false
          }
        }
      }
    },
    {
      "cell_type": "code",
      "source": [
        "xcpp::display(vPop_front, \"id9\");"
      ],
      "outputs": [],
      "execution_count": null,
      "metadata": {
        "collapsed": true,
        "jupyter": {
          "source_hidden": false,
          "outputs_hidden": false
        },
        "nteract": {
          "transient": {
            "deleting": false
          }
        }
      }
    },
    {
      "cell_type": "code",
      "source": [
        "template<typename T>\n",
        "void ListaEstatica<T>::pop_front()\n",
        "{\n",
        "    if (empty())\n",
        "    {\n",
        "        throw runtime_error(\"Trying pop_front() on empty list\");\n",
        "    }\n",
        "    for (size_t i(0); i < index-1; ++i )\n",
        "    {\n",
        "        elements[i] = elements[i+1];\n",
        "    }\n",
        "    --index;\n",
        "}"
      ],
      "outputs": [],
      "execution_count": null,
      "metadata": {
        "collapsed": true,
        "jupyter": {
          "source_hidden": false,
          "outputs_hidden": false
        },
        "nteract": {
          "transient": {
            "deleting": false
          }
        }
      }
    },
    {
      "cell_type": "code",
      "source": [
        "ht::html vPop_back(R\"(\n",
        "<iframe src='https://drive.google.com/file/d/1JR3QFE3QIpN4cRzjTBgPgR0uJx0RjNd4/preview' width='640' height='480'></iframe>)\");"
      ],
      "outputs": [],
      "execution_count": null,
      "metadata": {
        "collapsed": true,
        "jupyter": {
          "source_hidden": false,
          "outputs_hidden": false
        },
        "nteract": {
          "transient": {
            "deleting": false
          }
        }
      }
    },
    {
      "cell_type": "code",
      "source": [
        "xcpp::display(vPop_back, \"id10\");"
      ],
      "outputs": [],
      "execution_count": null,
      "metadata": {
        "collapsed": true,
        "jupyter": {
          "source_hidden": false,
          "outputs_hidden": false
        },
        "nteract": {
          "transient": {
            "deleting": false
          }
        }
      }
    },
    {
      "cell_type": "code",
      "source": [
        "template<typename T>\n",
        "void ListaEstatica<T>::pop_back()\n",
        "{\n",
        "    if (empty())\n",
        "    {\n",
        "        throw runtime_error(\"Trying pop_back() on empty list\");\n",
        "    }\n",
        "    --index;\n",
        "}"
      ],
      "outputs": [],
      "execution_count": null,
      "metadata": {
        "collapsed": true,
        "jupyter": {
          "source_hidden": false,
          "outputs_hidden": false
        },
        "nteract": {
          "transient": {
            "deleting": false
          }
        }
      }
    },
    {
      "cell_type": "code",
      "source": [
        "ht::html vInsert(R\"(\n",
        "<iframe src='https://drive.google.com/file/d/1XqR4cMLiSEaxAXDO2BflRcyQSvMCVBAy/preview' width='640' height='480'></iframe>)\");"
      ],
      "outputs": [],
      "execution_count": null,
      "metadata": {
        "collapsed": true,
        "jupyter": {
          "source_hidden": false,
          "outputs_hidden": false
        },
        "nteract": {
          "transient": {
            "deleting": false
          }
        }
      }
    },
    {
      "cell_type": "code",
      "source": [
        "xcpp::display(vInsert, \"id12\");"
      ],
      "outputs": [],
      "execution_count": null,
      "metadata": {
        "collapsed": true,
        "jupyter": {
          "source_hidden": false,
          "outputs_hidden": false
        },
        "nteract": {
          "transient": {
            "deleting": false
          }
        }
      }
    },
    {
      "cell_type": "code",
      "source": [
        "template<typename T>\n",
        "void ListaEstatica<T>::insert(size_t position, const T& element)\n",
        "{\n",
        "    if (full())\n",
        "    {\n",
        "        throw runtime_error(\"Trying insert() on full list\");\n",
        "    }\n",
        "    if (position > size())\n",
        "    {\n",
        "        throw range_error(\"Trying insert() on non valid position\");\n",
        "    }\n",
        "    if (position == size())\n",
        "    {\n",
        "        push_back(element);\n",
        "    }\n",
        "    else\n",
        "    {\n",
        "        for (size_t i(index); i > position; --i)\n",
        "        {\n",
        "            elements[i] = elements[i-1];\n",
        "        }\n",
        "        elements[position] = element;\n",
        "        ++index;\n",
        "    }\n",
        "}\n"
      ],
      "outputs": [],
      "execution_count": null,
      "metadata": {
        "collapsed": true,
        "jupyter": {
          "source_hidden": false,
          "outputs_hidden": false
        },
        "nteract": {
          "transient": {
            "deleting": false
          }
        }
      }
    },
    {
      "cell_type": "code",
      "source": [
        "ht::html vErase(R\"(\n",
        "<iframe src='https://drive.google.com/file/d/1Bi4VxZc44lLIFZ9i0NQCfFGujDszlwfL/preview' width='640' height='480'></iframe>)\");"
      ],
      "outputs": [],
      "execution_count": null,
      "metadata": {
        "collapsed": true,
        "jupyter": {
          "source_hidden": false,
          "outputs_hidden": false
        },
        "nteract": {
          "transient": {
            "deleting": false
          }
        }
      }
    },
    {
      "cell_type": "code",
      "source": [
        "xcpp::display(vErase, \"id13\");"
      ],
      "outputs": [],
      "execution_count": null,
      "metadata": {
        "collapsed": true,
        "jupyter": {
          "source_hidden": false,
          "outputs_hidden": false
        },
        "nteract": {
          "transient": {
            "deleting": false
          }
        }
      }
    },
    {
      "cell_type": "code",
      "source": [
        "template<typename T>\n",
        "void ListaEstatica<T>::erase(size_t position)\n",
        "{\n",
        "    if (empty())\n",
        "    {\n",
        "        throw runtime_error(\"Trying erase on empty list\");\n",
        "    }\n",
        "    if (position >= size())\n",
        "    {\n",
        "        throw range_error(\"Trying erase() in non valid position\");\n",
        "    }\n",
        "    if (position == size() - 1)\n",
        "    {\n",
        "        pop_back();\n",
        "    }\n",
        "    else\n",
        "    {\n",
        "        for (size_t i(position); i < index - 1; ++i)\n",
        "        {\n",
        "            elements[i] = elements[i + 1];\n",
        "        }\n",
        "        --index;\n",
        "    }\n",
        "}"
      ],
      "outputs": [],
      "execution_count": null,
      "metadata": {
        "collapsed": true,
        "jupyter": {
          "source_hidden": false,
          "outputs_hidden": false
        },
        "nteract": {
          "transient": {
            "deleting": false
          }
        }
      }
    },
    {
      "cell_type": "code",
      "source": [
        "ht::html vOperator(R\"(\n",
        "<iframe src='https://drive.google.com/file/d/1ZWP0hHzOaYQ5JL9Hel4EYUxSh87E1geo/preview' width='640' height='480'></iframe>)\");"
      ],
      "outputs": [],
      "execution_count": null,
      "metadata": {
        "collapsed": true,
        "jupyter": {
          "source_hidden": false,
          "outputs_hidden": false
        },
        "nteract": {
          "transient": {
            "deleting": false
          }
        }
      }
    },
    {
      "cell_type": "code",
      "source": [
        "xcpp::display(vOperator, \"id14\");"
      ],
      "outputs": [],
      "execution_count": null,
      "metadata": {
        "collapsed": true,
        "jupyter": {
          "source_hidden": false,
          "outputs_hidden": false
        },
        "nteract": {
          "transient": {
            "deleting": false
          }
        }
      }
    },
    {
      "cell_type": "code",
      "source": [
        "template<typename T>\n",
        "T& ListaEstatica<T>::operator [] (size_t position)\n",
        "{\n",
        "    if (empty())\n",
        "    {\n",
        "        throw runtime_error(\"Trying [] on empty list\");\n",
        "    }\n",
        "    if (position >= size())\n",
        "    {\n",
        "        throw range_error(\"Trying [] in non valid position\");\n",
        "    }\n",
        "\n",
        "    return elements[position];\n",
        "}"
      ],
      "outputs": [],
      "execution_count": null,
      "metadata": {
        "collapsed": true,
        "jupyter": {
          "source_hidden": false,
          "outputs_hidden": false
        },
        "nteract": {
          "transient": {
            "deleting": false
          }
        }
      }
    },
    {
      "cell_type": "code",
      "source": [
        "ht::html vClear(R\"(\n",
        "<iframe src='https://drive.google.com/file/d/1h3Ttx1nsQcwGJxCA-TUcxAi1G62A6yvk/preview' width='640' height='480'></iframe>)\");"
      ],
      "outputs": [],
      "execution_count": null,
      "metadata": {
        "collapsed": true,
        "jupyter": {
          "source_hidden": false,
          "outputs_hidden": false
        },
        "nteract": {
          "transient": {
            "deleting": false
          }
        }
      }
    },
    {
      "cell_type": "code",
      "source": [
        "xcpp::display(vClear, \"id15\");"
      ],
      "outputs": [],
      "execution_count": null,
      "metadata": {
        "collapsed": true,
        "jupyter": {
          "source_hidden": false,
          "outputs_hidden": false
        },
        "nteract": {
          "transient": {
            "deleting": false
          }
        }
      }
    },
    {
      "cell_type": "code",
      "source": [
        "template<typename T>\n",
        "void ListaEstatica<T>::clear()\n",
        "{\n",
        "    index = 0;\n",
        "}"
      ],
      "outputs": [],
      "execution_count": null,
      "metadata": {
        "collapsed": true,
        "jupyter": {
          "source_hidden": false,
          "outputs_hidden": false
        },
        "nteract": {
          "transient": {
            "deleting": false
          }
        }
      }
    },
    {
      "cell_type": "code",
      "source": [
        "ht::html vRemove(R\"(\n",
        "<iframe src='https://drive.google.com/file/d/1ldZm_3rlIBEc1M0olccMHeSp1jU-8JfW/preview' width='640' height='480'></iframe>)\");"
      ],
      "outputs": [],
      "execution_count": null,
      "metadata": {
        "collapsed": true,
        "jupyter": {
          "source_hidden": false,
          "outputs_hidden": false
        },
        "nteract": {
          "transient": {
            "deleting": false
          }
        }
      }
    },
    {
      "cell_type": "code",
      "source": [
        "xcpp::display(vRemove, \"id16\");"
      ],
      "outputs": [],
      "execution_count": null,
      "metadata": {
        "collapsed": true,
        "jupyter": {
          "source_hidden": false,
          "outputs_hidden": false
        },
        "nteract": {
          "transient": {
            "deleting": false
          }
        }
      }
    },
    {
      "cell_type": "code",
      "source": [
        "template<typename T>\n",
        "void ListaEstatica<T>::remove(const T& value)\n",
        "{\n",
        "    size_t i;\n",
        "    i = 0;\n",
        "    if (empty())\n",
        "    {\n",
        "        throw runtime_error(\"Trying remove() on empty list()\");\n",
        "    }\n",
        "    while (i < size())\n",
        "    {\n",
        "        if (elements[i] == value)\n",
        "        {\n",
        "            erase(i);\n",
        "            --i;\n",
        "        }\n",
        "        ++i;\n",
        "    }\n",
        "}"
      ],
      "outputs": [],
      "execution_count": null,
      "metadata": {
        "collapsed": true,
        "jupyter": {
          "source_hidden": false,
          "outputs_hidden": false
        },
        "nteract": {
          "transient": {
            "deleting": false
          }
        }
      }
    },
    {
      "cell_type": "code",
      "source": [
        "int main()\n",
        "{\n",
        "    //Para crear una lista escribimos el nombre de la clase y entre < > escribimos el tipo de dato\n",
        "    ListaEstatica<int> numeros; //Una lista de hasta 1000 valores\n",
        "    ListaEstatica<char> simbolos(45); //Una lista de hasta 45 valores\n",
        "\n",
        "    numeros.push_front(3);\n",
        "    numeros.push_front(5);\n",
        "    numeros.push_back(1);\n",
        "\n",
        "    numeros.insert(1, 200);\n",
        "    numeros.erase(1);\n",
        "    cout <<\"numeros.empty(): \" <<numeros.empty() <<endl\n",
        "        <<\"numeros.full(): \" <<numeros.full() <<endl\n",
        "       <<\"numeros.size(): \" <<numeros.size() <<endl\n",
        "      <<\"numeros.front(): \" <<numeros.front()  <<endl\n",
        "     <<\"numeros.back(): \" <<numeros.back() <<endl <<endl;\n",
        "\n",
        "    numeros[0] = 55;\n",
        "    for (size_t i(0); i < numeros.size(); ++i)\n",
        "    {\n",
        "        cout <<numeros[i] <<\" \";\n",
        "    }\n",
        "    cout <<endl;\n",
        "\n",
        "    simbolos.push_front('a');\n",
        "    simbolos.push_back('z');\n",
        "    cout <<\"simbolos.empty(): \" <<simbolos.empty() <<endl\n",
        "        <<\"simbolos.full(): \" <<simbolos.full() <<endl\n",
        "       <<\"simbolos.size(): \" <<simbolos.size() <<endl\n",
        "      <<\"simbolos.front(): \" <<simbolos.front() <<endl\n",
        "     <<\"simbolos.back(): \" <<simbolos.back() <<endl;\n",
        "    return 0;\n",
        "}"
      ],
      "outputs": [],
      "execution_count": null,
      "metadata": {
        "collapsed": true,
        "jupyter": {
          "source_hidden": false,
          "outputs_hidden": false
        },
        "nteract": {
          "transient": {
            "deleting": false
          }
        }
      }
    },
    {
      "cell_type": "code",
      "source": [
        "main();"
      ],
      "outputs": [],
      "execution_count": null,
      "metadata": {
        "collapsed": true,
        "jupyter": {
          "source_hidden": false,
          "outputs_hidden": false
        },
        "nteract": {
          "transient": {
            "deleting": false
          }
        }
      }
    },
    {
      "cell_type": "markdown",
      "source": [
        "Como nota final cabe mencionar que el código de la clase plantilla sólo estará en un archivo .h por cuestiones de compilación."
      ],
      "metadata": {
        "nteract": {
          "transient": {
            "deleting": false
          }
        }
      }
    }
  ],
  "metadata": {
    "kernelspec": {
      "name": "xcpp11",
      "display_name": "C++11",
      "language": "C++11"
    },
    "language_info": {
      "codemirror_mode": "text/x-c++src",
      "file_extension": ".cpp",
      "mimetype": "text/x-c++src",
      "name": "c++",
      "version": "11"
    },
    "nteract": {
      "version": "0.25.1"
    }
  },
  "nbformat": 4,
  "nbformat_minor": 4
}