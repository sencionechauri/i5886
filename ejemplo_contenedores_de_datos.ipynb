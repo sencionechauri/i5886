{
  "cells": [
    {
      "cell_type": "markdown",
      "source": [
        "# <center>Ejemplo Contenedores de Datos</center>"
      ],
      "metadata": {
        "nteract": {
          "transient": {
            "deleting": false
          }
        }
      }
    },
    {
      "cell_type": "markdown",
      "source": [
        "En este cuaderno realizaremos un programa que lleve el registro de Ingredientes para recetas de cocina. Dentro del sistema podremos registrar ingredientes, consultarlos y buscarlos por nombre. Para este ejemplo utilizaremos contenedores de datos, en particular usaremos arreglo, registro, unión y enumerado.\n",
        "\n",
        "Comenzaremos incluyendo la biblioteca estándar para flujos de entrada y salida así como el espacio de nombres estándar."
      ],
      "metadata": {
        "nteract": {
          "transient": {
            "deleting": false
          }
        }
      }
    },
    {
      "cell_type": "code",
      "source": [
        "#include <iostream>\n",
        "using namespace std;"
      ],
      "outputs": [],
      "execution_count": null,
      "metadata": {
        "trusted": true
      }
    },
    {
      "cell_type": "markdown",
      "source": [
        "Los ingredientes serán registrados con una cantidad, sin embargo, no es lo mismo intentar medir harina que intentar medir aceite, el primero suele medirse en gramos o kilos mientras que el segundo comunmente se mide en mililitros o litros. Para dar más sentido a esa variable que represente la cantidad necesaria del ingrediente utilizaremos una unión. \n",
        "\n",
        "En nuestro caso podremos representar la medida como un entero si queremos registrarla como gramos o mililitros y como un flotante si quisiéramos registrar kilos o litros."
      ],
      "metadata": {
        "nteract": {
          "transient": {
            "deleting": false
          }
        }
      }
    },
    {
      "cell_type": "code",
      "source": [
        "union Cantidad\n",
        "{\n",
        "    int gramos;\n",
        "    float kilos;\n",
        "    int mililitros;\n",
        "    float litros;\n",
        "};"
      ],
      "outputs": [],
      "execution_count": null,
      "metadata": {
        "trusted": true
      }
    },
    {
      "cell_type": "markdown",
      "source": [
        "Una vez declarada la unión que representará la cantidad necesaria para el ingrediente podemos declarar el registro (**struct**) que usaremos para dichos ingredientes. Cada ingrediente tendrá nombre y cantidad. En este momento surge un pregunta, si la unión puede tener varios campos pero sólo uno de ellos es accesible ¿Cómo vamos a saber cuál debemos leer? &#x1F9D0;. Pues bien, para ello agregaremos un tercer campo que almacene la unidad de medida utilizada para representar la cantidad.\n",
        "\n",
        "Nuestro registro ingrediente se verá así:"
      ],
      "metadata": {
        "nteract": {
          "transient": {
            "deleting": false
          }
        }
      }
    },
    {
      "cell_type": "code",
      "source": [
        "struct Ingrediente\n",
        "{\n",
        "    string nombre;\n",
        "    Cantidad cantidad;\n",
        "    int unidadMedida;\n",
        "};"
      ],
      "outputs": [],
      "execution_count": null,
      "metadata": {
        "trusted": true
      }
    },
    {
      "cell_type": "markdown",
      "source": [
        "Para la unidad de medida definiremos un enumerado (el contenedor que nos permite agrupar una colección de constantes). recuerda, **no queremos números mágicos en nuestro programa**."
      ],
      "metadata": {
        "nteract": {
          "transient": {
            "deleting": false
          }
        }
      }
    },
    {
      "cell_type": "code",
      "source": [
        "enum Unidades\n",
        "{\n",
        "    U_GRAMO = 1,\n",
        "    U_KILO,\n",
        "    U_MILILITRO,\n",
        "    U_LITRO\n",
        "};"
      ],
      "outputs": [],
      "execution_count": null,
      "metadata": {
        "collapsed": true,
        "jupyter": {
          "source_hidden": false,
          "outputs_hidden": false
        },
        "nteract": {
          "transient": {
            "deleting": false
          }
        }
      }
    },
    {
      "cell_type": "markdown",
      "source": [
        "Ahora bien, dado que nuestro programa debe manejar un menú, es recomendable tener constantes con nombres significativos para las opciones de dicho menú; con ello ganamos claridad al momento de leer el código y sobre todo hacemos más fácil el proceso de mantenimiento y corrección de errores.\n",
        "\n",
        "Si por alguna razón debe cambiar la numeración del menú, basta con modificar los datos del enumerado y el resto del programa seguirá funcionando dado que dependerá del contenido de ese enumerado y no de \"números mágicos\"."
      ],
      "metadata": {
        "nteract": {
          "transient": {
            "deleting": false
          }
        }
      }
    },
    {
      "cell_type": "code",
      "source": [
        "enum Opciones\n",
        "{\n",
        "    OPC_SALIR,\n",
        "    OPC_AGREGAR,\n",
        "    OPC_CONSULTAR,\n",
        "    OPC_BUSCAR\n",
        "};"
      ],
      "outputs": [],
      "execution_count": null,
      "metadata": {
        "collapsed": true,
        "jupyter": {
          "source_hidden": false,
          "outputs_hidden": false
        },
        "nteract": {
          "transient": {
            "deleting": false
          }
        }
      }
    },
    {
      "cell_type": "markdown",
      "source": [
        "Antes de comenzar con las implementaciones funcionales de código agregaremos las constantes y variables globales necesarias para el programa."
      ],
      "metadata": {
        "nteract": {
          "transient": {
            "deleting": false
          }
        }
      }
    },
    {
      "cell_type": "code",
      "source": [
        "//Constante para el total de ingredientes\n",
        "const int MAX_INGREDIENTE = 10;\n",
        "//Arreglo de ingredientes\n",
        "Ingrediente ingredientes[MAX_INGREDIENTE];\n",
        "//Contador de ingredientes registrados\n",
        "int contador;"
      ],
      "outputs": [],
      "execution_count": null,
      "metadata": {
        "collapsed": true,
        "jupyter": {
          "source_hidden": false,
          "outputs_hidden": false
        },
        "nteract": {
          "transient": {
            "deleting": false
          }
        }
      }
    },
    {
      "cell_type": "markdown",
      "source": [
        "En nuestro programa definiremos un procedimiento para cada una de las opciones de nuestro menú.\n",
        "\n",
        "Comencemos por el procedimiento para agregar ingredientes. Haremos que dicho procedimiento reciba por referencia el ingrediente que deseamos agregar, o dicho de otra forma, el procedimiento recibirá la referencia del ingrediente al cual le asignaremos valor a sus campos. Recuerda que en un paso por referencia no hacemos copia de la variable, por lo tanto cualquier cambio realizado en la variable recibida se reflejará en la variable que utilizamos al momento de llamar el procedimiento."
      ],
      "metadata": {
        "nteract": {
          "transient": {
            "deleting": false
          }
        }
      }
    },
    {
      "cell_type": "code",
      "source": [
        "//Recibe un ingrediente por referencia\n",
        "void registrarIngrediente(Ingrediente& ingrediente)\n",
        "{\n",
        "    cout <<\"Nombre: \";\n",
        "    getline(cin, ingrediente.nombre); //Solicitamos el nombre del ingrediente\n",
        "    do\n",
        "    {\n",
        "        //Debemos seleccionar la unidad en que se registrará el ingrediente\n",
        "        cout <<\"¿En qué unidad se registrará el ingrediente? \" <<endl\n",
        "            <<U_GRAMO <<\") Gramos\" <<endl\n",
        "           <<U_KILO <<\") Kilos\" <<endl\n",
        "          <<U_MILILITRO <<\") Mililitros\" <<endl\n",
        "         <<U_LITRO <<\") Litros\" <<endl\n",
        "        <<\"Selecciona una opción: \";\n",
        "        cin >>ingrediente.unidadMedida;\n",
        "    }\n",
        "    while(ingrediente.unidadMedida < U_GRAMO || ingrediente.unidadMedida > U_LITRO);\n",
        "    //Solicitaremos el dato mientras sea incorrecto\n",
        "    \n",
        "    cout <<\"Cantidad: \";\n",
        "    //Solicitamos la cantidad según la unidad correspondiente\n",
        "    switch (ingrediente.unidadMedida)\n",
        "    {\n",
        "    case U_GRAMO:\n",
        "        cin >>ingrediente.cantidad.gramos;\n",
        "        break;\n",
        "    case U_KILO:\n",
        "        cin >>ingrediente.cantidad.kilos;\n",
        "        break;\n",
        "    case U_MILILITRO:\n",
        "        cin >>ingrediente.cantidad.mililitros;\n",
        "        break;\n",
        "    case U_LITRO:\n",
        "        cin >>ingrediente.cantidad.litros;\n",
        "        break;\n",
        "    default:\n",
        "        break;\n",
        "    }\n",
        "}"
      ],
      "outputs": [],
      "execution_count": null,
      "metadata": {
        "trusted": true
      }
    },
    {
      "cell_type": "markdown",
      "source": [
        "A continuación definiremos el método para consultar un ingrediente."
      ],
      "metadata": {
        "nteract": {
          "transient": {
            "deleting": false
          }
        }
      }
    },
    {
      "cell_type": "code",
      "source": [
        "//Recibe una referencia constante, es decir que a pesar de recibir una referencia\n",
        "//no puede ser modificada\n",
        "void consultarIngrediente(const Ingrediente& ingrediente)\n",
        "{\n",
        "    cout <<\"Nombre: \" <<ingrediente.nombre <<endl\n",
        "        <<\"Cantidad: \";\n",
        "    //La cantidad debe ser consultada según la unidad en que fue guardada\n",
        "    switch (ingrediente.unidadMedida)\n",
        "    {\n",
        "    case U_GRAMO:\n",
        "        cout <<ingrediente.cantidad.gramos <<\"grs\" <<endl;\n",
        "        break;\n",
        "    case U_KILO:\n",
        "        cout <<ingrediente.cantidad.kilos <<\"kilos\" <<endl;\n",
        "        break;\n",
        "    case U_MILILITRO:\n",
        "        cout <<ingrediente.cantidad.mililitros <<\"mls\" <<endl;\n",
        "        break;\n",
        "    case U_LITRO:\n",
        "        cout <<ingrediente.cantidad.litros <<\"lts\" <<endl;\n",
        "        break;\n",
        "    default:\n",
        "        break;\n",
        "    }\n",
        "}"
      ],
      "outputs": [],
      "execution_count": null,
      "metadata": {
        "trusted": true
      }
    },
    {
      "cell_type": "markdown",
      "source": [
        "Para la búsqueda realizaremos búsqueda por coincidencia de patrones sobre el nombre del ingrediente. ¿Qué quiere decir eso? le solicitaremos al usuario que escriba el nombre del ingrediente y buscaremos en el nombre de todas los ingredientes ese patrón, si lo encontramos entonces imprimimos los datos del ingrediente. Por ejemplo si tuviéramos los ingredientes \"aceite\", \"harina\" y \"mantequilla\" y al momento de solicitar el nombre del ingrediente el usuario escribiera \"t\" se mostraría en pantalla los datos de \"aceite\" y \"mantequilla\" porque tienen ese símbolo; si escribiera \"ar\" entonces sólo mostraría los datos de \"harina\" porque es el único nombre en el que se cumple el patrón."
      ],
      "metadata": {
        "nteract": {
          "transient": {
            "deleting": false
          }
        }
      }
    },
    {
      "cell_type": "code",
      "source": [
        "void buscarIngrediente()\n",
        "{\n",
        "    string patron;\n",
        "    int i;\n",
        "    int coincidencias = 0;\n",
        "\n",
        "    cout <<\"Nombre: \";\n",
        "    getline(cin, patron);\n",
        "    for (i = 0; i < contador; ++i)\n",
        "    {\n",
        "        //La búsqueda se hace por coincidencia de patrones. Para cada ingrediente\n",
        "        //registrado se busca el patrón ingresado a partir de la posición cero.\n",
        "        //La función find() de las cadenas regresa la posición a partir de la cual\n",
        "        //se encontró el patrón o el tamaño de la cadena en caso de no haberlo\n",
        "        //encontrado.\n",
        "        if (ingredientes[i].nombre.find(patron, 0) < ingredientes[i].nombre.size())\n",
        "        {\n",
        "            consultarIngrediente(ingredientes[i]);\n",
        "            cout <<\".-.-.-.-.-.-.-.-.-.-.-.-.-.-.-.-.-.-.-.-.-.-.-.-.\" <<endl;\n",
        "            ++coincidencias;\n",
        "        }\n",
        "    }\n",
        "    if (coincidencias == 0)\n",
        "    {\n",
        "        cout <<\"No se encontró el ingrediente\" <<endl;\n",
        "    }\n",
        "}"
      ],
      "outputs": [],
      "execution_count": null,
      "metadata": {
        "collapsed": true,
        "jupyter": {
          "source_hidden": false,
          "outputs_hidden": false
        },
        "nteract": {
          "transient": {
            "deleting": false
          }
        }
      }
    },
    {
      "cell_type": "markdown",
      "source": [
        "A continuación implementamos el menú dentro del cual estarán los llamados a los métodos previamente implementados."
      ],
      "metadata": {
        "nteract": {
          "transient": {
            "deleting": false
          }
        }
      }
    },
    {
      "cell_type": "code",
      "source": [
        "void menu()\n",
        "{\n",
        "    int opc;\n",
        "    do\n",
        "    {\n",
        "        cout <<\"                        Menú Ingredientes\" <<endl\n",
        "            <<OPC_AGREGAR <<\") Agregar\" <<endl\n",
        "           <<OPC_CONSULTAR <<\") Consultar\" <<endl\n",
        "          <<OPC_BUSCAR <<\") Buscar\" <<endl\n",
        "         <<OPC_SALIR <<\") Salir\" <<endl\n",
        "        <<\"Selecciona una opción: \";\n",
        "        cin >>opc;\n",
        "        cin.ignore();\n",
        "\n",
        "        switch (opc)\n",
        "        {\n",
        "        case OPC_AGREGAR:\n",
        "            cout <<\"                        Registro de ingrediente\" <<endl;\n",
        "            if (contador < MAX_INGREDIENTE)\n",
        "            {\n",
        "                registrarIngrediente(ingredientes[contador]);\n",
        "                contador++;\n",
        "            }\n",
        "            else\n",
        "            {\n",
        "                cout <<\"No hay espacio para más ingredientes\" <<endl;\n",
        "            }\n",
        "            break;\n",
        "        case OPC_CONSULTAR:\n",
        "            cout <<\"                        Ingredientes registrados\" <<endl;\n",
        "            if (contador == 0)\n",
        "            {\n",
        "                cout <<\"No hay ingredientes registrados\" <<endl;\n",
        "            }\n",
        "            else\n",
        "            {\n",
        "                for (int i = 0; i < contador; ++i)\n",
        "                {\n",
        "                    consultarIngrediente(ingredientes[i]);\n",
        "                    cout <<\".-.-.-.-.-.-.-.-.-.-.-.-.-.-.-.-.-.-.-.-.-.-.-.-.\" <<endl;\n",
        "                }\n",
        "            }\n",
        "            break;\n",
        "        case OPC_BUSCAR:\n",
        "            cout <<\"                        Búsqueda de Ingredientes\" <<endl;\n",
        "            if (contador == 0)\n",
        "            {\n",
        "                cout <<\"No hay ingredientes registrados\" <<endl;\n",
        "            }\n",
        "            else\n",
        "            {\n",
        "                buscarIngrediente();\n",
        "            }\n",
        "            break;\n",
        "        case OPC_SALIR:\n",
        "            cout <<\"Nos vemos\" <<endl;\n",
        "            break;\n",
        "        default:\n",
        "            cout <<\"Opción no válida\" <<endl;\n",
        "            break;\n",
        "        }\n",
        "    }\n",
        "    while(opc != OPC_SALIR);\n",
        "}"
      ],
      "outputs": [],
      "execution_count": null,
      "metadata": {
        "collapsed": true,
        "jupyter": {
          "source_hidden": false,
          "outputs_hidden": false
        },
        "nteract": {
          "transient": {
            "deleting": false
          }
        }
      }
    },
    {
      "cell_type": "markdown",
      "source": [
        "Finalmente en la función principal inicializamos el contador y llamamos al método menú que acabamos de definir."
      ],
      "metadata": {
        "nteract": {
          "transient": {
            "deleting": false
          }
        }
      }
    },
    {
      "cell_type": "code",
      "source": [
        "int main()\n",
        "{\n",
        "    contador = 0;\n",
        "    menu();\n",
        "\n",
        "    return 0;\n",
        "}"
      ],
      "outputs": [],
      "execution_count": null,
      "metadata": {
        "trusted": true
      }
    },
    {
      "cell_type": "markdown",
      "source": [
        "Ahora solo resta hacer el llamado a la función principal y probar nuestro sistema y listo coloquemos ingredientes. &#x1f9c2;&#x1f969;&#x1f35e;&#x1f951;&#x1f345;"
      ],
      "metadata": {
        "nteract": {
          "transient": {
            "deleting": false
          }
        }
      }
    },
    {
      "cell_type": "code",
      "source": [
        "main();"
      ],
      "outputs": [],
      "execution_count": null,
      "metadata": {
        "trusted": true
      }
    },
    {
      "cell_type": "markdown",
      "source": [
        "Aquí tienes el <a href=\"https://drive.google.com/file/d/1-lS9uTegYKXfwsmFC8aKwXSlNSkKBLAo/view?usp=sharing\">enlace</a> al archivo con el código completo."
      ],
      "metadata": {
        "nteract": {
          "transient": {
            "deleting": false
          }
        }
      }
    }
  ],
  "metadata": {
    "kernelspec": {
      "name": "xcpp11",
      "display_name": "C++11",
      "language": "C++11"
    },
    "language_info": {
      "codemirror_mode": "text/x-c++src",
      "file_extension": ".cpp",
      "mimetype": "text/x-c++src",
      "name": "c++",
      "version": "11"
    },
    "nteract": {
      "version": "0.25.0"
    }
  },
  "nbformat": 4,
  "nbformat_minor": 4
}