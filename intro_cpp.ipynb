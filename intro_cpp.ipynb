{
  "cells": [
    {
      "cell_type": "markdown",
      "source": [
        "# <center>Sintáxis de C++</center>"
      ],
      "metadata": {}
    },
    {
      "cell_type": "markdown",
      "source": [
        "Veamos un poco de sintáxis de C++ y para ello ¿qué mejor que el ejemplo \"Hola mundo!\"?"
      ],
      "metadata": {}
    },
    {
      "cell_type": "code",
      "source": [
        "//Presiona el botón Run o shift + enter\n",
        "#include <iostream>\n",
        "\n",
        "using namespace std;"
      ],
      "outputs": [],
      "execution_count": null,
      "metadata": {
        "trusted": true
      }
    },
    {
      "cell_type": "code",
      "source": [
        "int main()\n",
        "{\n",
        "    cout <<\"Hola mundo!\" <<endl;\n",
        "    return 0;\n",
        "}"
      ],
      "outputs": [],
      "execution_count": null,
      "metadata": {
        "trusted": true
      }
    },
    {
      "cell_type": "code",
      "source": [
        "main();"
      ],
      "outputs": [],
      "execution_count": null,
      "metadata": {
        "trusted": true
      }
    },
    {
      "cell_type": "markdown",
      "source": [
        "En la primer celda de código te encontraste con _#include < iostream >_ ahora bien, ¿Qué representa esto? &#x1F914; ¿Recuerdas que cuando usábamos C debíamos incluir < stdio.h > ? Pues bien, lo que representaba esa inclusión era la entrada y salida estándar ( _STanDard Input Output_ ). \n",
        "\n",
        "Ahora en C++ el concepto de entrada y salida cambió para ser el concepto de un flujo, es decir, ahora decimos que hay un flujo de entrada y salida y por ello la inclusión de < iostream > lo que representa precisamente a ese flujo de entrada salida ( _Input Output STREAM_ )."
      ],
      "metadata": {}
    },
    {
      "cell_type": "markdown",
      "source": [
        "La siguiente línea de código con la que nos topamos es _using namespace std;_, la cual significa que queremos utilizar el espacio de nombres estándar en nuestro programa (_std_ suele representar un elemento estándar del lenguaje). \n",
        "\n",
        "¿Y qué hay en ese espacio de nombres? &#x1F928;. Pues bien, ahí se encuentran algunas de las palabras reservadas que utilizaremos en nuestros programas como por ejemplo _cout_, _cin_, _endl_, etc.\n",
        "\n",
        "Esa línea de código es opcional, sin embargo cuando estamos iniciando es recomendable agregarla para evitar tener que memorizar qué palabras reservadas están incluídas en ese espacio de nombres. Si quisieras omitir la línea _using namespace std;_ entonces cada vez que quisieras utilizar una palabra de dicho espacio de nombres tendrías que precederla con **std::**, por lo cual la primer instrucción de nuestro main ahora se vería así:"
      ],
      "metadata": {}
    },
    {
      "cell_type": "code",
      "source": [
        "std::cout <<\"Hola mundo!\" <<std::endl;"
      ],
      "outputs": [],
      "execution_count": null,
      "metadata": {
        "trusted": true
      }
    },
    {
      "cell_type": "markdown",
      "source": [
        "Hablando de _cout_, lo que representa es una salida a consola (supongo ya lo habías concluido &#x1F913;). Para poder recordarlo sólo piensa en que significa _Console OUT_ y de ahí su nombre &#x1F92F;\n",
        "\n",
        "La forma de utilizarlo es añadiéndole los bloques de información que necesites y cada uno de ellos debe estar precedido por los símbolos << (imagínalo como dos flechas que van hacia afuera de la pantalla o _van de salida_ &#x2B05;).\n",
        "\n",
        "El _endl_ que escribimos al final es para dar un salto de línea, debes agregar tantos _endl_ como saltos de línea necesites."
      ],
      "metadata": {}
    },
    {
      "cell_type": "code",
      "source": [
        "cout <<\"Hola mundo! \" <<3.141592 <<endl;"
      ],
      "outputs": [],
      "execution_count": null,
      "metadata": {
        "trusted": true
      }
    },
    {
      "cell_type": "code",
      "source": [
        "cout <<\"Edad: \" <<33 <<endl;"
      ],
      "outputs": [],
      "execution_count": null,
      "metadata": {
        "trusted": true
      }
    },
    {
      "cell_type": "code",
      "source": [
        "cout <<\"Temperatura: \" <<33 <<\"°\" <<endl;"
      ],
      "outputs": [],
      "execution_count": null,
      "metadata": {
        "trusted": true
      }
    },
    {
      "cell_type": "code",
      "source": [
        "cout <<\"5 saltos de línea\" <<endl <<endl <<endl <<endl <<endl;"
      ],
      "outputs": [],
      "execution_count": null,
      "metadata": {
        "trusted": true
      }
    },
    {
      "cell_type": "markdown",
      "source": [
        "Incluso puedes enviar variables sin necesidad de especificar el tipo de dato! &#x1F60E;"
      ],
      "metadata": {}
    },
    {
      "cell_type": "code",
      "source": [
        "int a = 33;\n",
        "cout <<\"El valor de a es \" <<a <<endl;"
      ],
      "outputs": [],
      "execution_count": null,
      "metadata": {
        "trusted": true
      }
    },
    {
      "cell_type": "markdown",
      "source": [
        "Para definir constantes se hace con la palabra _const_ seguida del tipo de dato y la asignación a su valor"
      ],
      "metadata": {}
    },
    {
      "cell_type": "code",
      "source": [
        "const float g = 9.81;\n",
        "cout <<\"la gravedad tiene una constante con valor \" <<g <<endl;"
      ],
      "outputs": [],
      "execution_count": null,
      "metadata": {
        "trusted": true
      }
    },
    {
      "cell_type": "markdown",
      "source": [
        "La siguiente pregunta razonable sería ¿cómo leer datos desde la consola? Pues bien, si existe un _cout_ entonces la intuición nos llevaría a pensar que existe un **cin** y efectivamente existe, representa Console IN y nos permite leer valores desde la consola sin necesidad de especificar el tipo de dato.\n",
        "\n",
        "Si para cout utilizamos << para **cin** usamos **\\>\\>**."
      ],
      "metadata": {}
    },
    {
      "cell_type": "code",
      "source": [
        "int a;\n",
        "float b;\n",
        "cout <<\"Escribe un entero: \";\n",
        "cin >>a;\n",
        "cout <<\"Escribe un número real: \";\n",
        "cin >>b;"
      ],
      "outputs": [],
      "execution_count": null,
      "metadata": {
        "trusted": true
      }
    },
    {
      "cell_type": "markdown",
      "source": [
        "Si queremos trabajar con palabras o frases existe el tipo de dato **string** que puede almacenar una cadena de caracteres de cualquier tamaño y además ya tiene varias funciones implementadas."
      ],
      "metadata": {}
    },
    {
      "cell_type": "code",
      "source": [
        "string saludo = \"Hola crayola\";\n",
        "cout <<saludo <<\" contiene \" <<saludo.size() <<\" símbolos\" <<endl;"
      ],
      "outputs": [],
      "execution_count": null,
      "metadata": {
        "trusted": true
      }
    },
    {
      "cell_type": "markdown",
      "source": [
        "Incluso podemos concatenar (sumar) cadenas y acceder a sus símbolos por posición"
      ],
      "metadata": {}
    },
    {
      "cell_type": "code",
      "source": [
        "string cadena1 = \"Hola\";\n",
        "string cadena2 = \"Crayola\";\n",
        "string compuesta = cadena1 + cadena2;\n",
        "\n",
        "cout <<\"La concatenación de \" <<cadena1 <<\" y \" <<cadena2 <<\" es \" <<compuesta <<endl;\n",
        "cout <<compuesta[7] <<endl;"
      ],
      "outputs": [],
      "execution_count": null,
      "metadata": {
        "trusted": true
      }
    },
    {
      "cell_type": "markdown",
      "source": [
        "Si queremos leer una cadena de texto, puedes hacerlo con _cin_ sin embargo la lectura terminará cuando encuentre un espacio en blanco por lo que te recomiendo utilizar getline:\n",
        "<br>\n",
        "getline(_flujo_, _variable_);"
      ],
      "metadata": {}
    },
    {
      "cell_type": "code",
      "source": [
        "string frase;\n",
        "cout <<\"Escribe una frase: \";\n",
        "getline(cin, frase);\n",
        "cout <<\"Tu frase es: \" <<frase <<endl;"
      ],
      "outputs": [],
      "execution_count": null,
      "metadata": {
        "trusted": true
      }
    },
    {
      "cell_type": "markdown",
      "source": [
        "Finalmente si necesitas leer una frase después de haber leído un valor numérico debes utilizar la instrucción _cin.ignore();_"
      ],
      "metadata": {}
    },
    {
      "cell_type": "code",
      "source": [
        "int edad;\n",
        "string nacionalidad;\n",
        "cout <<\"¿Cuál es tu edad? \";\n",
        "cin >>edad;\n",
        "cin.ignore();\n",
        "cout <<\"¿Cuál es tu nacionalidad? \";\n",
        "getline(cin, nacionalidad);"
      ],
      "outputs": [],
      "execution_count": null,
      "metadata": {
        "trusted": true
      }
    },
    {
      "cell_type": "markdown",
      "source": [
        "Finalmente te dejo el <a href=\"https://drive.google.com/file/d/1NvxIuX35NwVOX0hKKOHZP47FF_Vdrtuj/view?usp=sharing\">código</a> equivalente para este notebook en el cual la declaración de variables se movió al inicio para organizarlo con buenas prácticas."
      ],
      "metadata": {}
    }
  ],
  "metadata": {
    "kernelspec": {
      "name": "xcpp11",
      "display_name": "C++11",
      "language": "C++11"
    },
    "language_info": {
      "codemirror_mode": "text/x-c++src",
      "file_extension": ".cpp",
      "mimetype": "text/x-c++src",
      "name": "c++",
      "version": "11"
    },
    "nteract": {
      "version": "0.28.0"
    }
  },
  "nbformat": 4,
  "nbformat_minor": 4
}