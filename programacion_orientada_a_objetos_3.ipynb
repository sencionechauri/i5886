{
  "cells": [
    {
      "cell_type": "markdown",
      "source": [
        "# <center>Programación Orientada a Objetos</center>"
      ],
      "metadata": {}
    },
    {
      "cell_type": "markdown",
      "source": [
        "<center><iframe src=\"https://drive.google.com/file/d/1AcJo2MoHC8_QeGpdwXkrqpszL1rdjZxF/preview\" width=\"320\" height=\"240\"></iframe></center>"
      ],
      "metadata": {
        "nteract": {
          "transient": {
            "deleting": false
          }
        }
      }
    },
    {
      "cell_type": "markdown",
      "source": [
        "## <center>Sobrecarga de Operadores</center>\n",
        "\n",
        "Muchas veces es necesario poder realizar diversas operaciones con los objetos de las clases que nosotros definamos y para ello es necesario *sobrecargar* algunos operadores.\n",
        "\n",
        "Por ejemplo ¿qué pasa si yo quiero comparar un objeto contra otro? previamente revisamos que, en el caso de los registros no era posible compararlos como un todo, sin embargo podíamos compararlos campo por campo. Pues bien, con los objetos podemos conseguir compararlos si nosotros especificamos cómo se debe realizar la comparación y para ello tendríamos que sobrecargar los operadores relacionals que necesitaramos.\n",
        "\n",
        "Además de sobrecargar operadores relacionales podemos sobrecargar los operadores de flujo (*<<* y *\\>\\>*) de forma tal que podamos leer directamente desde el teclado toda la información de un objeto y también podamos escribir un objeto directamente en la terminal o incluso hacia un archivo."
      ],
      "metadata": {}
    },
    {
      "cell_type": "markdown",
      "source": [
        "## <center>Ejemplo</center>\n",
        "\n",
        "En este cuaderno realizaremos el ejemplo de una clase Producto para la cual sobrecargaremos los operadores relacionales **==** y **<** además de los operadores de flujo **<<** y **\\>\\>** lo cual nos permitirá leer directamente desde el flujo de entrada *cin* toda la información de un objeto e imprimir todos los datos de un objeto directamente usando *cout*\n",
        "\n",
        "Comencemos declarando la clase Producto con los atributos y los operadores que deseamos sobrecargar."
      ],
      "metadata": {
        "nteract": {
          "transient": {
            "deleting": false
          }
        }
      }
    },
    {
      "cell_type": "code",
      "source": [
        "#include <iostream>\n",
        "\n",
        "using namespace std;\n",
        "\n",
        "class Producto\n",
        "{\n",
        "public:\n",
        "    Producto();\n",
        "\n",
        "    int getExistencia() const;\n",
        "    void setExistencia(int value);\n",
        "\n",
        "    float getPrecio() const;\n",
        "    void setPrecio(float value);\n",
        "\n",
        "    string getNombre() const;\n",
        "    void setNombre(const string &value);\n",
        "\n",
        "    //Los operadores que sobrecargaremos\n",
        "    //Tanto < como == deben regresar un valor lógico de verdad (bool) y reciben el Producto contra el cual se van a comparar\n",
        "    //const del lado derecho indica que nada del objeto cambiará al ejecutar la función\n",
        "    bool operator <(const Producto &obj) const;\n",
        "    bool operator == (const Producto &otro) const;\n",
        "    \n",
        "    //Operadores de flujo\n",
        "    //Vamos a sobrecargar los operadores que son parte de otra clase ya sea ostream o istream y para ello necesitamos darle \"permiso\" a \n",
        "    //esa otra clase de ver lo que hay en la nuestra, por eso usamos la palabra reservada friend\n",
        "    //OutputSTREAM : FLUJO de Salida\n",
        "    //Recibe la referencia a un flujo de salida y el objeto que queremos enviar a ese flujo\n",
        "    friend ostream &operator <<(ostream &os, const Producto &obj);\n",
        "  \n",
        "    //InputSTREAM : FLUJO de Entrada\n",
        "    //Recibe la referencia a un flujo de entrada y la referencia al objeto que queremos construir o modificar a través de ese flujo\n",
        "    friend istream &operator >>(istream &is, Producto &obj);\n",
        "\n",
        "private:\n",
        "    int existencia;\n",
        "    float precio;\n",
        "    string nombre;\n",
        "};"
      ],
      "outputs": [],
      "execution_count": null,
      "metadata": {
        "collapsed": true,
        "jupyter": {
          "source_hidden": false,
          "outputs_hidden": false
        },
        "nteract": {
          "transient": {
            "deleting": false
          }
        }
      }
    },
    {
      "cell_type": "markdown",
      "source": [
        "Ahora definamos la clase, es decir, hagamos la implementación de sus métodos."
      ],
      "metadata": {
        "nteract": {
          "transient": {
            "deleting": false
          }
        }
      }
    },
    {
      "cell_type": "code",
      "source": [
        "Producto::Producto()\n",
        "{\n",
        "    //Constructor\n",
        "}"
      ],
      "outputs": [],
      "execution_count": null,
      "metadata": {
        "collapsed": true,
        "jupyter": {
          "source_hidden": false,
          "outputs_hidden": false
        },
        "nteract": {
          "transient": {
            "deleting": false
          }
        }
      }
    },
    {
      "cell_type": "code",
      "source": [
        "int Producto::getExistencia() const\n",
        "{\n",
        "    return existencia;\n",
        "}"
      ],
      "outputs": [],
      "execution_count": null,
      "metadata": {
        "collapsed": true,
        "jupyter": {
          "source_hidden": false,
          "outputs_hidden": false
        },
        "nteract": {
          "transient": {
            "deleting": false
          }
        }
      }
    },
    {
      "cell_type": "code",
      "source": [
        "void Producto::setExistencia(int value)\n",
        "{\n",
        "    existencia = value;\n",
        "}"
      ],
      "outputs": [],
      "execution_count": null,
      "metadata": {
        "collapsed": true,
        "jupyter": {
          "source_hidden": false,
          "outputs_hidden": false
        },
        "nteract": {
          "transient": {
            "deleting": false
          }
        }
      }
    },
    {
      "cell_type": "code",
      "source": [
        "float Producto::getPrecio() const\n",
        "{\n",
        "    return precio;\n",
        "}"
      ],
      "outputs": [],
      "execution_count": null,
      "metadata": {
        "collapsed": true,
        "jupyter": {
          "source_hidden": false,
          "outputs_hidden": false
        },
        "nteract": {
          "transient": {
            "deleting": false
          }
        }
      }
    },
    {
      "cell_type": "code",
      "source": [
        "void Producto::setPrecio(float value)\n",
        "{\n",
        "    precio = value;\n",
        "}"
      ],
      "outputs": [],
      "execution_count": null,
      "metadata": {
        "collapsed": true,
        "jupyter": {
          "source_hidden": false,
          "outputs_hidden": false
        },
        "nteract": {
          "transient": {
            "deleting": false
          }
        }
      }
    },
    {
      "cell_type": "code",
      "source": [
        "string Producto::getNombre() const\n",
        "{\n",
        "    return nombre;\n",
        "}"
      ],
      "outputs": [],
      "execution_count": null,
      "metadata": {
        "collapsed": true,
        "jupyter": {
          "source_hidden": false,
          "outputs_hidden": false
        },
        "nteract": {
          "transient": {
            "deleting": false
          }
        }
      }
    },
    {
      "cell_type": "code",
      "source": [
        "void Producto::setNombre(const string &value)\n",
        "{\n",
        "    nombre = value;\n",
        "}"
      ],
      "outputs": [],
      "execution_count": null,
      "metadata": {
        "collapsed": true,
        "jupyter": {
          "source_hidden": false,
          "outputs_hidden": false
        },
        "nteract": {
          "transient": {
            "deleting": false
          }
        }
      }
    },
    {
      "cell_type": "markdown",
      "source": [
        "<center><iframe src=\"https://drive.google.com/file/d/1DBQ81dKZ-m_u-ZDVG7bQmLiCUzOxspDA/preview\" width=\"320\" height=\"240\"></iframe></center>"
      ],
      "metadata": {
        "nteract": {
          "transient": {
            "deleting": false
          }
        }
      }
    },
    {
      "cell_type": "markdown",
      "source": [
        "Ahora realizaremos la sobrecarga de los operadores de flujo. Nota como no son parte de nuestra clase (no tienen Producto::)"
      ],
      "metadata": {
        "nteract": {
          "transient": {
            "deleting": false
          }
        }
      }
    },
    {
      "cell_type": "code",
      "source": [
        "//OutputSTREAM\n",
        "ostream &operator <<(ostream &os, const Producto &obj)\n",
        "{\n",
        "    //Es como si utilizaramos cout, pero en lugar de esribir cout usamos el operador de flujo os recibido como argumento\n",
        "    os <<\"Nombre: \" <<obj.getNombre() <<endl\n",
        "      <<\"Precio: \" <<obj.getPrecio() <<endl\n",
        "     <<\"Existencia: \" <<obj.getExistencia() <<endl;\n",
        "\n",
        "    return os;\n",
        "}"
      ],
      "outputs": [],
      "execution_count": null,
      "metadata": {
        "collapsed": true,
        "jupyter": {
          "source_hidden": false,
          "outputs_hidden": false
        },
        "nteract": {
          "transient": {
            "deleting": false
          }
        }
      }
    },
    {
      "cell_type": "code",
      "source": [
        "//InputSTREAM\n",
        "istream &operator >>(istream &is, Producto &obj)\n",
        "{\n",
        "    //Declaramos una variable para cada uno de los atributos de nuestros productos\n",
        "    int existencia;\n",
        "    float precio;\n",
        "    string nombre;\n",
        "\n",
        "    //Leemos los datos como si fuera con cin pero en su lugar utilizamos el flujo de entrada is recibido como argumento.\n",
        "    getline(is, nombre);\n",
        "    is >>precio;\n",
        "    is >>existencia;\n",
        "\n",
        "    //Asignamos valor a los atributos del objeto recibido como argumento. Recibimos una referencia, por lo que los cambios se verán\n",
        "    //reflejados en el objeto que usamos al momento de utilizar el flujo.\n",
        "    obj.setNombre(nombre);\n",
        "    obj.setPrecio(precio);\n",
        "    obj.setExistencia(existencia);\n",
        "\n",
        "    return  is;\n",
        "}"
      ],
      "outputs": [],
      "execution_count": null,
      "metadata": {
        "collapsed": true,
        "jupyter": {
          "source_hidden": false,
          "outputs_hidden": false
        },
        "nteract": {
          "transient": {
            "deleting": false
          }
        }
      }
    },
    {
      "cell_type": "markdown",
      "source": [
        "Ahora sobrecarguemos los operadores relacionales. Estos sí son parte de la clase Producto."
      ],
      "metadata": {
        "nteract": {
          "transient": {
            "deleting": false
          }
        }
      }
    },
    {
      "cell_type": "code",
      "source": [
        "bool Producto::operator <(const Producto &obj) const\n",
        "{\n",
        "    //Realizaremos la comparación entre el nombre del producto que esté como primer argumento y el nombre del producto\n",
        "    //que esté como segundo argumento.\n",
        "    return nombre < obj.getNombre();\n",
        "}"
      ],
      "outputs": [],
      "execution_count": null,
      "metadata": {
        "collapsed": true,
        "jupyter": {
          "source_hidden": false,
          "outputs_hidden": false
        },
        "nteract": {
          "transient": {
            "deleting": false
          }
        }
      }
    },
    {
      "cell_type": "code",
      "source": [
        "bool Producto::operator == (const Producto &otro) const\n",
        "{\n",
        "    //Realizaremos la comparación entre el nombre del producto que esté como primer argumento y el nombre del producto\n",
        "    //que esté como segundo argumento.\n",
        "    return  nombre == otro.getNombre();\n",
        "}"
      ],
      "outputs": [],
      "execution_count": null,
      "metadata": {
        "collapsed": true,
        "jupyter": {
          "source_hidden": false,
          "outputs_hidden": false
        },
        "nteract": {
          "transient": {
            "deleting": false
          }
        }
      }
    },
    {
      "cell_type": "markdown",
      "source": [
        "Ahora podemos registrar algunos productos y compararlos entre sí. Veamos cómo en el main."
      ],
      "metadata": {
        "nteract": {
          "transient": {
            "deleting": false
          }
        }
      }
    },
    {
      "cell_type": "code",
      "source": [
        "int main()\n",
        "{\n",
        "    Producto pr1;\n",
        "    Producto pr2;\n",
        "\n",
        "    pr1.setNombre(\"Nito\");\n",
        "    pr1.setPrecio(10);\n",
        "    pr1.setExistencia(8);\n",
        "\n",
        "    //Ahora podemos imprimir directamente los objetos. No hay necesidad de hacerlo campo por campo, eso está implementado en la\n",
        "    //sobrecarga.\n",
        "    cout <<pr1;\n",
        "  \n",
        "    cout <<\"Ingresa los datos del producto (nombre, precio, existencia) para cada uno da un enter.\"\n",
        "        <<endl;\n",
        "    //Y también podemos leerlos de forma directa con cin\n",
        "    cin >>pr2;\n",
        "    cout <<pr2 <<endl;\n",
        "\n",
        "    //Y para compararlos ahora podemos hacerlo directamente con los operadores que sobrecargamos. Recuerda que implementamos la \n",
        "    //comparación con respecto a los nombres.\n",
        "    if (pr1 < pr2)\n",
        "    {\n",
        "        cout <<\"prodcuto 1 < producto 2\" <<endl;\n",
        "    }\n",
        "    if (pr1 == pr2)\n",
        "    {\n",
        "        cout <<\"Son iguales\" <<endl;\n",
        "    }\n",
        "\n",
        "    return 0;\n",
        "}"
      ],
      "outputs": [],
      "execution_count": null,
      "metadata": {
        "collapsed": true,
        "jupyter": {
          "source_hidden": false,
          "outputs_hidden": false
        },
        "nteract": {
          "transient": {
            "deleting": false
          }
        }
      }
    },
    {
      "cell_type": "code",
      "source": [
        "main();"
      ],
      "outputs": [],
      "execution_count": null,
      "metadata": {
        "collapsed": true,
        "jupyter": {
          "source_hidden": false,
          "outputs_hidden": false
        },
        "nteract": {
          "transient": {
            "deleting": false
          }
        }
      }
    },
    {
      "cell_type": "markdown",
      "source": [
        "En este cuaderno vimos cómo implementar la sobrecarga de operadores para clases que nosotros definamos. Sobrecargar operadores nos permitirá trabajar con nuestros objetos de manera más natural como si se tratasen de datos escalares e incluso será de gran ayuda cuando trabajemos con archivos, un tema que veremos posteriormente."
      ],
      "metadata": {
        "nteract": {
          "transient": {
            "deleting": false
          }
        }
      }
    },
    {
      "cell_type": "markdown",
      "source": [
        "En <a href=\"https://drive.google.com/file/d/1HJD7__Ril-fzn7yNEeJv1KYMXkbFjBIB/view?usp=sharing\">este enlace</a> se encuentra el código para el proyecto creado en este cuaderno, se encuentran los archivos .h y .cpp para la clase Producto.\n",
        "\n",
        "En el archivo **.h** se encuentra la declaración de la clase y en el archivo **.cpp** vamos a implementar todos los métodos y funciones de la clase."
      ],
      "metadata": {
        "nteract": {
          "transient": {
            "deleting": false
          }
        }
      }
    }
  ],
  "metadata": {
    "kernelspec": {
      "name": "xcpp11",
      "display_name": "C++11",
      "language": "C++11"
    },
    "language_info": {
      "codemirror_mode": "text/x-c++src",
      "file_extension": ".cpp",
      "mimetype": "text/x-c++src",
      "name": "c++",
      "version": "11"
    },
    "nteract": {
      "version": "0.25.1"
    }
  },
  "nbformat": 4,
  "nbformat_minor": 4
}