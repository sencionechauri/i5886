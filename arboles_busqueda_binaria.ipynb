{
  "cells": [
    {
      "cell_type": "markdown",
      "source": [
        "# <center>Árboles de Búsqueda Binaria</center>"
      ],
      "metadata": {
        "nteract": {
          "transient": {
            "deleting": false
          }
        }
      }
    },
    {
      "cell_type": "markdown",
      "source": [
        "La información en un árbol de búsqueda binaria es colocada de manera tal que, para cada nodo $v$, cada elemento de información en el subárbol izquierdo de $v$, si existe, sea menor al elemento de información en $v$, y cada elemento de información en el subárbol derecho de $v$, si existe, sea mayor al elemento en $v$.\n",
        "\n",
        "### Ejemplo\n",
        "\n",
        "<center><img src=\"media/abb.png\" width=80%></center>"
      ],
      "metadata": {
        "nteract": {
          "transient": {
            "deleting": false
          }
        }
      }
    },
    {
      "cell_type": "markdown",
      "source": [
        "**Teorema**. Cuando el recorrido en-orden se lleva a cabo en un árbol binario de búsqueda y “visitar un nodo” significa imprimir el contenido del nodo, la información es impresa en orden no decreciente."
      ],
      "metadata": {
        "nteract": {
          "transient": {
            "deleting": false
          }
        }
      }
    },
    {
      "cell_type": "markdown",
      "source": [
        "Algoritmo recursivo para buscar en un árbol binario de búsqueda.\n",
        "\n",
        "```\n",
        "1. si la raíz es nula\n",
        "2.\tel elemento no está en el árbol, regresar nulo.\n",
        "3. comparar el valor del elemento buscado con raiz→dato.\n",
        "4. si son iguales\n",
        "5.\tse ha encontrado el elemento, regresar el dato de la raíz.\n",
        "   sino si el objetivo es menor que raiz→dato\n",
        "6.\tregresar el resultado de buscar en el subárbol izquierdo.\n",
        "   sino\n",
        "7. \tregresar el resultado de buscar en el subárbol derecho.\n",
        "```"
      ],
      "metadata": {
        "nteract": {
          "transient": {
            "deleting": false
          }
        }
      }
    },
    {
      "cell_type": "code",
      "source": [
        "%%html\n",
        "<center><iframe src=\"https://drive.google.com/file/d/1nct6SxQM3DC2kPrvx71Nwfp3E9-foszn/preview\" width=\"640\" height=\"480\"></iframe></center>"
      ],
      "outputs": [],
      "execution_count": null,
      "metadata": {
        "collapsed": true,
        "jupyter": {
          "source_hidden": false,
          "outputs_hidden": false
        },
        "nteract": {
          "transient": {
            "deleting": false
          }
        }
      }
    },
    {
      "cell_type": "markdown",
      "source": [
        "Algoritmo recursivo para insertar en un árbol binario de búsqueda.\n",
        "\n",
        "```\n",
        "1. si la raíz es nula\n",
        "2.\treemplazar árbol vacío con un árbol nuevo con el elemento en la raíz y regresar verdadero.\n",
        "3. sino si el elemento es igual a raiz→dato \n",
        "4. \tel elemento ya existe en el árbol; regresar falso.\n",
        "5. sino si el elemento es menor que raiz→dato\n",
        "6.\trecursivamente insertar el elemento en el subárbol izquierdo.\n",
        "7. sino\n",
        "8.  recursivamente insertar el elemento en el subárbol derecho.\n",
        "```"
      ],
      "metadata": {
        "nteract": {
          "transient": {
            "deleting": false
          }
        }
      }
    },
    {
      "cell_type": "code",
      "source": [
        "%%html\n",
        "<center><iframe src=\"https://drive.google.com/file/d/1Qe8JpvN4ffJBTvri5Q1dulr4QYU3Sckq/preview\" width=\"640\" height=\"480\"></iframe></center>"
      ],
      "outputs": [],
      "execution_count": null,
      "metadata": {
        "collapsed": true,
        "jupyter": {
          "source_hidden": false,
          "outputs_hidden": false
        },
        "nteract": {
          "transient": {
            "deleting": false
          }
        }
      }
    },
    {
      "cell_type": "markdown",
      "source": [
        "Algoritmo recursivo para remover de un árbol binario de búsqueda.\n",
        "\n",
        "```\n",
        "1. si la raíz es nula\n",
        "2.\tel elemento no existe, regresar nulo.\n",
        "3. comparar el elemento con el dato en la raíz local.\n",
        "4. si el elemento es menor que el dato en la raíz local\n",
        "5.\tregresar el resultado de borrar del subárbol izquierdo.\n",
        "6. sino si el elemento es mayor que la raíz local\n",
        "7.\tregresar el resultado de borrar del subárbol derecho.\n",
        "8. sino //el elemento está en la raíz local\n",
        "9. \tsi la raíz local no tiene hijos\n",
        "10.\t poner la referencia del padre de la raíz local a nulo.\n",
        "11.\tsino si la raíz local tiene un hijo\n",
        "12.\t poner la referencia del padre de la raíz local a ese hijo.\n",
        "13. sino //encontrar el predecesor en-orden\n",
        "14.\t si el hijo izquierdo no tiene hijo derecho, ese es el predecesor en-orden\n",
        "15.\t  poner la referencia del padre de la raíz local al hijo izquierdo.\n",
        "16.  sino\n",
        "17.   encontrar el nodo más a la derecha en el subárbol derecho del hijo izquierdo\n",
        "18.\t  Copiar el dato al dato de la raíz local y removerlo haciendo que su padre haga referencia a su hijo izquierdo.\n",
        "```"
      ],
      "metadata": {
        "nteract": {
          "transient": {
            "deleting": false
          }
        }
      }
    },
    {
      "cell_type": "code",
      "source": [
        "%%html\n",
        "<center><iframe src=\"https://drive.google.com/file/d/1nxqLvnefCKYpD0O5LUlsFWOHrKOJixsD/preview\" width=\"640\" height=\"480\"></iframe></center>"
      ],
      "outputs": [],
      "execution_count": null,
      "metadata": {
        "collapsed": true,
        "jupyter": {
          "source_hidden": false,
          "outputs_hidden": false
        },
        "nteract": {
          "transient": {
            "deleting": false
          }
        }
      }
    },
    {
      "cell_type": "code",
      "source": [
        "%%html\n",
        "<center><iframe src=\"https://drive.google.com/file/d/10qWmrp86Bkll5ZMcU7-L21NXLGbO2Prn/preview\" width=\"640\" height=\"480\"></iframe></center>"
      ],
      "outputs": [],
      "execution_count": null,
      "metadata": {
        "collapsed": true,
        "jupyter": {
          "source_hidden": false,
          "outputs_hidden": false
        },
        "nteract": {
          "transient": {
            "deleting": false
          }
        }
      }
    }
  ],
  "metadata": {
    "kernel_info": {
      "name": "python3"
    },
    "language_info": {
      "name": "python",
      "version": "3.7.3",
      "mimetype": "text/x-python",
      "codemirror_mode": {
        "name": "ipython",
        "version": 3
      },
      "pygments_lexer": "ipython3",
      "nbconvert_exporter": "python",
      "file_extension": ".py"
    },
    "kernelspec": {
      "argv": [
        "python",
        "-m",
        "ipykernel_launcher",
        "-f",
        "{connection_file}"
      ],
      "display_name": "Python 3",
      "language": "python",
      "name": "python3"
    },
    "nteract": {
      "version": "0.27.0"
    }
  },
  "nbformat": 4,
  "nbformat_minor": 0
}