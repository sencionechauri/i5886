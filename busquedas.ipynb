{
  "cells": [
    {
      "cell_type": "markdown",
      "source": [
        "# <center>Métodos de Búsqueda</center>"
      ],
      "metadata": {
        "nteract": {
          "transient": {
            "deleting": false
          }
        }
      }
    },
    {
      "cell_type": "markdown",
      "source": [
        "Buscar: Hacer algo para hallar a alguien o algo. (RAE)\n",
        "\n",
        "Buscar: Hacer lo necesario para conseguir algo. (RAE)\n",
        "\n",
        "En términos computacionales el problema de búsqueda trata con el hecho de encontrar un valor determinado, llamado llave de búsqueda, en un conjunto dado (o multiconjunto, el cual permite varios elementos con el mismo valor)."
      ],
      "metadata": {
        "nteract": {
          "transient": {
            "deleting": false
          }
        }
      }
    },
    {
      "cell_type": "markdown",
      "source": [
        "Hay una gran variedad de algoritmos de búsqueda de donde escoger. Varían desde la directa búsqueda secuencial hasta la espectacularmente eficiente pero limitada búsqueda binaria y algoritmos basados en representar el conjunto subyacente en una forma diferente más propensa a la búsqueda.\n",
        "\n",
        "Algunos algoritmos de búsqueda son:\n",
        "\n",
        "* __Búsqueda secuencial__\n",
        "* Búsqueda exhaustiva\n",
        "* Búsqueda primero en profundidad\n",
        "* Búsqueda primero en amplitud\n",
        "* __Búsqueda Binaria__\n",
        "* Búsqueda por interpolación\n",
        "\n"
      ],
      "metadata": {
        "nteract": {
          "transient": {
            "deleting": false
          }
        }
      }
    },
    {
      "cell_type": "markdown",
      "source": [
        "## Búsqueda Secuencial\n",
        "\n",
        "Este es un algoritmo directo, perteneciente a la categoría de fuerza bruta, que busca por un elemento determinado (alguna llave $K$) en una lista de $n$ elementos al comparar elementos sucesivos de la lista hasta que se encuentre un elemento con el mismo valor que el buscado o la lista es agotada.\n",
        "\n",
        "```\n",
        "BusquedaSecuencial(A[0...n-1], K)\n",
        "//Busca un valor determinado en un arreglo dado por busqueda secuencial.\n",
        "//Entrada: Un arreglo A[0...n-1] y una llave de búsqueda K.\n",
        "//Salida: El índice del primer elemento en A con el valor K o -1 si no se encuentra el elemento.\n",
        "\n",
        "i ← 0\n",
        "mientras i < n y A[i] <> K hacer\n",
        "    i ← i + 1\n",
        "si i < n regresar i\n",
        "sino regresar -1\n",
        "```"
      ],
      "metadata": {
        "nteract": {
          "transient": {
            "deleting": false
          }
        }
      }
    },
    {
      "cell_type": "markdown",
      "source": [
        "## Búsqueda Binaria\n",
        "\n",
        "Búsqueda binaria es un algoritmo notoriamente eficiente para búsquedas en un arreglo **ordenado**. Trabaja comparando una llave de búsqueda $K$ con el elemento medio del arreglo $A[m]$. Si coinciden, el algoritmo para; en otro caso se repite la misma operación para la primera mitad de el arreglo si $K < A[m]$ y para la segunda mitad si $K > A[m]$.\n",
        "\n",
        "```\n",
        "BusquedaBinaria(A[0...n-1], K)\n",
        "//Implementa búsqueda binaria no recursiva.\n",
        "//Entrada: Un arreglo A[0...n­1] ordenado de forma ascendente y una llave de búsqueda K.\n",
        "//Salida: El índice del elemento en A con el valor K o -1 si no se encuentra el elemento.\n",
        "\n",
        "le ← 0\n",
        "r ← n - 1\n",
        "mientras le <= r hacer\n",
        "    m ← (le + r)/2\n",
        "    si K = A[m]\n",
        "        regresar m\n",
        "    sino si K < A[m]\n",
        "        r ← m - 1\n",
        "    sino\n",
        "        le ← m + 1\n",
        "regresar -1\n",
        "```"
      ],
      "metadata": {
        "nteract": {
          "transient": {
            "deleting": false
          }
        }
      }
    },
    {
      "cell_type": "code",
      "source": [
        "%%html\n",
        "<center><iframe src=\"https://drive.google.com/file/d/1RK9QLNynkHX4XowgltMj0lihpWBx4TJe/preview\" width=\"640\" height=\"480\"></iframe></center>"
      ],
      "outputs": [],
      "execution_count": null,
      "metadata": {
        "collapsed": true,
        "jupyter": {
          "source_hidden": false,
          "outputs_hidden": false
        },
        "nteract": {
          "transient": {
            "deleting": false
          }
        }
      }
    },
    {
      "cell_type": "markdown",
      "source": [
        "A continuación se plantea un ejemplo siendo la llave $k=9$\n",
        "\n",
        "<center><img src=\"media/binaria.png\" width=50% /></center>"
      ],
      "metadata": {
        "nteract": {
          "transient": {
            "deleting": false
          }
        }
      }
    }
  ],
  "metadata": {
    "kernel_info": {
      "name": "python3"
    },
    "language_info": {
      "name": "python",
      "version": "3.7.3",
      "mimetype": "text/x-python",
      "codemirror_mode": {
        "name": "ipython",
        "version": 3
      },
      "pygments_lexer": "ipython3",
      "nbconvert_exporter": "python",
      "file_extension": ".py"
    },
    "kernelspec": {
      "argv": [
        "python",
        "-m",
        "ipykernel_launcher",
        "-f",
        "{connection_file}"
      ],
      "display_name": "Python 3",
      "language": "python",
      "name": "python3"
    },
    "nteract": {
      "version": "0.26.0"
    }
  },
  "nbformat": 4,
  "nbformat_minor": 0
}